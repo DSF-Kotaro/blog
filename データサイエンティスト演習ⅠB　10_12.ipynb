{
  "nbformat": 4,
  "nbformat_minor": 0,
  "metadata": {
    "colab": {
      "provenance": [],
      "collapsed_sections": [],
      "authorship_tag": "ABX9TyOqFtjinD4b5fHtiVGjlEay",
      "include_colab_link": true
    },
    "kernelspec": {
      "name": "python3",
      "display_name": "Python 3"
    },
    "language_info": {
      "name": "python"
    }
  },
  "cells": [
    {
      "cell_type": "markdown",
      "metadata": {
        "id": "view-in-github",
        "colab_type": "text"
      },
      "source": [
        "<a href=\"https://colab.research.google.com/github/DSF-Kotaro/blog/blob/main/%E3%83%87%E3%83%BC%E3%82%BF%E3%82%B5%E3%82%A4%E3%82%A8%E3%83%B3%E3%83%86%E3%82%A3%E3%82%B9%E3%83%88%E6%BC%94%E7%BF%92%E2%85%A0B%E3%80%8010_12.ipynb\" target=\"_parent\"><img src=\"https://colab.research.google.com/assets/colab-badge.svg\" alt=\"Open In Colab\"/></a>"
      ]
    },
    {
      "cell_type": "markdown",
      "metadata": {
        "id": "lbsYoDb5VQ0E"
      },
      "source": [
        "<br>１．株価の時間による変化を確認\n",
        "<br>２．日ごとの変動を可視化\n",
        "<br>３．移動平均を計算する\n",
        "<br>４．複数の株価の終値の相関を計算する\n",
        "<br>５．複数の株価の変動の関係を見る\n",
        "<br>６．特定の株のリスクを計算する\n",
        "<br>７．シミュレーションを使った未来の予測"
      ]
    },
    {
      "cell_type": "markdown",
      "metadata": {
        "id": "CeR8siV_Vu74"
      },
      "source": [
        "##株価の時間による変化を確認"
      ]
    },
    {
      "cell_type": "code",
      "source": [
        "!pip install pandas-datareader"
      ],
      "metadata": {
        "id": "JXykvIJm6y70"
      },
      "execution_count": null,
      "outputs": []
    },
    {
      "cell_type": "code",
      "metadata": {
        "id": "fRNyqr4OWGAS"
      },
      "source": [
        "import pandas as pd\n",
        "from pandas import Series,DataFrame\n",
        "import numpy as np\n",
        "import matplotlib.pyplot as plt\n",
        "import seaborn as sns\n",
        "sns.set_style('whitegrid')\n",
        "\n",
        "import pandas_datareader.data as web\n",
        "from datetime import datetime"
      ],
      "execution_count": 1,
      "outputs": []
    },
    {
      "cell_type": "code",
      "metadata": {
        "id": "Q7Vh6-ORZwTC"
      },
      "source": [
        "tech_list = ['AAPL','GOOG','MSFT','AMZN']"
      ],
      "execution_count": 2,
      "outputs": []
    },
    {
      "cell_type": "code",
      "metadata": {
        "id": "XPQwhcY_aPdC"
      },
      "source": [
        "end = datetime.now()\n",
        "start = datetime(end.year -1, end.month, end.day)"
      ],
      "execution_count": 3,
      "outputs": []
    },
    {
      "cell_type": "code",
      "metadata": {
        "id": "s-Tf2AopabCo"
      },
      "source": [
        "for stock in tech_list:\n",
        "  globals()[stock] = web.DataReader(stock, data_source='stooq',start=start,end=end)\n"
      ],
      "execution_count": 5,
      "outputs": []
    },
    {
      "cell_type": "code",
      "metadata": {
        "id": "BlrzJ8qceRCx"
      },
      "source": [
        "AAPL.describe()"
      ],
      "execution_count": null,
      "outputs": []
    },
    {
      "cell_type": "code",
      "metadata": {
        "id": "pwJyfMqEeaHd"
      },
      "source": [
        "AAPL.info()"
      ],
      "execution_count": null,
      "outputs": []
    },
    {
      "cell_type": "markdown",
      "metadata": {
        "id": "l1Jb2w21VzfB"
      },
      "source": [
        "##日ごとの変動を可視化"
      ]
    },
    {
      "cell_type": "code",
      "metadata": {
        "id": "6WsexlIlfFYn"
      },
      "source": [
        "AAPL['Close'].plot(legend = True, figsize = (10,4))"
      ],
      "execution_count": null,
      "outputs": []
    },
    {
      "cell_type": "code",
      "metadata": {
        "id": "Y5y044bYfR-V"
      },
      "source": [
        "AAPL['Volume'].plot(legend = True, figsize = (10,4))"
      ],
      "execution_count": null,
      "outputs": []
    },
    {
      "cell_type": "markdown",
      "metadata": {
        "id": "1e0ovLYWV2o2"
      },
      "source": [
        "##移動平均を計算する"
      ]
    },
    {
      "cell_type": "code",
      "metadata": {
        "id": "mz7cl-KSWHOH"
      },
      "source": [
        "ma_day = [10,20,50]\n",
        "\n",
        "for ma in ma_day:\n",
        "  columns_name = 'MA{}'.format(ma)\n",
        "  AAPL[columns_name] = AAPL['Close'].rolling(ma).mean()\n",
        "\n",
        "AAPL.head()"
      ],
      "execution_count": null,
      "outputs": []
    },
    {
      "cell_type": "code",
      "metadata": {
        "id": "ZHBeDugWgzB-"
      },
      "source": [
        "AAPL[['Close','MA10','MA20','MA50']].plot(subplots = False, figsize=(10,4))"
      ],
      "execution_count": null,
      "outputs": []
    },
    {
      "cell_type": "markdown",
      "metadata": {
        "id": "f0ABYR9VV8iO"
      },
      "source": [
        "##複数の株価の変動の関係を見る"
      ]
    },
    {
      "cell_type": "code",
      "metadata": {
        "id": "lGIcJksWWHmH"
      },
      "source": [
        "AAPL['Daily Return'] = AAPL['Close'].pct_change()\n",
        "AAPL.head()"
      ],
      "execution_count": null,
      "outputs": []
    },
    {
      "cell_type": "code",
      "metadata": {
        "id": "EhUQL0udhnjC"
      },
      "source": [
        "AAPL['Daily Return'].plot(figsize = (10,4), legend = True, linestyle ='--', marker ='o')"
      ],
      "execution_count": null,
      "outputs": []
    },
    {
      "cell_type": "code",
      "metadata": {
        "id": "viSTbdhuh3c8"
      },
      "source": [
        "sns.distplot(AAPL['Daily Return'].dropna(),bins = 100, color = 'purple')"
      ],
      "execution_count": null,
      "outputs": []
    },
    {
      "cell_type": "markdown",
      "metadata": {
        "id": "iLwzuIOHV7Bm"
      },
      "source": [
        "##複数の株価の終値の相関を計算する"
      ]
    },
    {
      "cell_type": "code",
      "metadata": {
        "id": "Ky2vIachWH-R"
      },
      "source": [
        "AAPL_close =AAPL.Close\n",
        "GOOG_close =GOOG.Close\n",
        "MSFT_close =MSFT.Close\n",
        "AMZN_close =AMZN.Close\n",
        "\n",
        "closing_df = pd.concat([AAPL_close,GOOG_close,MSFT_close,AMZN_close],axis = 1)\n",
        "closing_df.columns = ['AAPL','GOOG','MSFT','AMZN']\n",
        "closing_df.head()"
      ],
      "execution_count": null,
      "outputs": []
    },
    {
      "cell_type": "code",
      "metadata": {
        "id": "BxLuRg00ism2"
      },
      "source": [
        "tech_rets = closing_df.pct_change()\n",
        "tech_rets.head()"
      ],
      "execution_count": null,
      "outputs": []
    },
    {
      "cell_type": "code",
      "metadata": {
        "id": "1-GO9WA1lYV5"
      },
      "source": [
        "sns.jointplot('GOOG','GOOG',tech_rets,kind = 'scatter', color='seagreen')"
      ],
      "execution_count": null,
      "outputs": []
    },
    {
      "cell_type": "code",
      "metadata": {
        "id": "39P48s5hltsV"
      },
      "source": [
        "sns.jointplot('GOOG','MSFT',tech_rets,kind = 'scatter', color='seagreen')"
      ],
      "execution_count": null,
      "outputs": []
    },
    {
      "cell_type": "code",
      "metadata": {
        "id": "i5t0cVXyl4j0"
      },
      "source": [
        "sns.jointplot('AAPL','AMZN',tech_rets,kind = 'scatter', color='seagreen')"
      ],
      "execution_count": null,
      "outputs": []
    },
    {
      "cell_type": "code",
      "metadata": {
        "id": "T0eEXKlvmBtq"
      },
      "source": [
        "from IPython.display import SVG\n",
        "SVG(url='http://upload.wikimedia.org/wikipedia/commons/d/d4/Correlation_examples2.svg')"
      ],
      "execution_count": null,
      "outputs": []
    },
    {
      "cell_type": "code",
      "metadata": {
        "id": "LcYCWyDmWInf"
      },
      "source": [
        "sns.pairplot(tech_rets.dropna())"
      ],
      "execution_count": null,
      "outputs": []
    },
    {
      "cell_type": "code",
      "metadata": {
        "id": "pcqArqjnI5AU"
      },
      "source": [
        "returns_fig = sns.PairGrid(tech_rets.dropna())\n",
        "returns_fig.map_upper(plt.scatter, color = 'purple')\n",
        "returns_fig.map_lower(sns.kdeplot, cmap = 'cool_d')\n",
        "returns_fig.map_diag(plt.hist, bins = 30)"
      ],
      "execution_count": null,
      "outputs": []
    },
    {
      "cell_type": "code",
      "metadata": {
        "id": "KJsHqnjMJg4v"
      },
      "source": [
        "returns_fig = sns.PairGrid(closing_df.dropna())\n",
        "returns_fig.map_upper(plt.scatter, color = 'purple')\n",
        "returns_fig.map_lower(sns.kdeplot, cmap = 'cool_d')\n",
        "returns_fig.map_diag(plt.hist, bins = 30)"
      ],
      "execution_count": null,
      "outputs": []
    },
    {
      "cell_type": "code",
      "metadata": {
        "id": "h4EAArABJ-2K"
      },
      "source": [
        "sns.heatmap(tech_rets.corr(), annot= True)"
      ],
      "execution_count": null,
      "outputs": []
    },
    {
      "cell_type": "markdown",
      "metadata": {
        "id": "Yl1kgePwV_gl"
      },
      "source": [
        "##特定の株のリスクを計算する"
      ]
    },
    {
      "cell_type": "code",
      "metadata": {
        "id": "JLyVZ4PfKaY7"
      },
      "source": [
        "rets = tech_rets.dropna()\n",
        "rets.head()"
      ],
      "execution_count": null,
      "outputs": []
    },
    {
      "cell_type": "code",
      "metadata": {
        "id": "0w8btAOwKzwk"
      },
      "source": [
        "plt.scatter(rets.mean(),rets.std(),alpha= 0.5, s= np.pi*20)\n",
        "plt.ylim([0.02,0.03])\n",
        "plt.xlim([-0.01,0.01])\n",
        "plt.xlabel('Expected returns')\n",
        "plt.ylabel('Risk')\n",
        "\n",
        "for label, x, y in zip(rets.columns, rets.mean(), rets.std()):\n",
        "  plt.annotate(label,xy = (x, y), xytext = (0, 20),\n",
        "               textcoords = 'offset points', ha = 'right',\n",
        "               arrowprops = dict(arrowstyle='-', connectionstyle= 'arc3'))"
      ],
      "execution_count": null,
      "outputs": []
    },
    {
      "cell_type": "code",
      "metadata": {
        "id": "XrCg4luoWJFY"
      },
      "source": [
        "sns.distplot(AAPL['Daily Return'].dropna(), bins = 100, color = 'purple')"
      ],
      "execution_count": null,
      "outputs": []
    },
    {
      "cell_type": "code",
      "metadata": {
        "id": "B9SNQOo-VKK1"
      },
      "source": [
        "rets['AAPL'].quantile(0.05)"
      ],
      "execution_count": null,
      "outputs": []
    },
    {
      "cell_type": "markdown",
      "metadata": {
        "id": "qNqfW978WCJQ"
      },
      "source": [
        "##シミュレーションを使った未来の予測"
      ]
    },
    {
      "cell_type": "code",
      "metadata": {
        "id": "iiJfdhnqT2EC"
      },
      "source": [
        "days = 365\n",
        "dt = 1/days\n",
        "mu = rets.mean()['GOOG']\n",
        "sigma = rets.std()['GOOG']"
      ],
      "execution_count": 32,
      "outputs": []
    },
    {
      "cell_type": "code",
      "metadata": {
        "id": "t69iwOCdUfVR"
      },
      "source": [
        "def stock_monte_carlo(start_price,days,mu,sigma):\n",
        "  price = np.zeros(days)\n",
        "  price[0] = start_price\n",
        "  shock = np.zeros(days)\n",
        "  drift = np.zeros(days)\n",
        "\n",
        "  for x in range(1,days):\n",
        "    shock[x] = np.random.normal(loc = mu * dt, scale = sigma * np.sqrt(dt))\n",
        "    drift[x] = mu * dt\n",
        "    price[x] = price[x-1] + (price[x-1] * (drift[x] + shock[x]))\n",
        "  return price"
      ],
      "execution_count": 33,
      "outputs": []
    },
    {
      "cell_type": "code",
      "metadata": {
        "id": "3J_I5vAwVXbp"
      },
      "source": [
        "GOOG.head()"
      ],
      "execution_count": null,
      "outputs": []
    },
    {
      "cell_type": "code",
      "metadata": {
        "id": "zwy43M7uVeAb"
      },
      "source": [
        "start_price = GOOG.iloc[0,3]\n",
        "\n",
        "for run in range(5):\n",
        "  plt.plot(stock_monte_carlo(start_price,days,mu,sigma))\n",
        "\n",
        "plt.xlabel('Days')\n",
        "plt.ylabel('Price')\n",
        "plt.title('Monte Carlo Analysis')"
      ],
      "execution_count": null,
      "outputs": []
    },
    {
      "cell_type": "code",
      "metadata": {
        "id": "PBmS4N9SWekL"
      },
      "source": [
        "runs = 10000\n",
        "simulations = np.zeros(runs)\n",
        "np.set_printoptions(threshold=5)\n",
        "\n",
        "for run in range(runs):\n",
        "    simulations[run] = stock_monte_carlo(start_price,days,mu,sigma)[days-1]\n"
      ],
      "execution_count": 36,
      "outputs": []
    },
    {
      "cell_type": "code",
      "metadata": {
        "id": "5p1PFMqeW50Q"
      },
      "source": [
        "plt.hist(simulations, bins = 200)"
      ],
      "execution_count": null,
      "outputs": []
    },
    {
      "cell_type": "code",
      "metadata": {
        "id": "qBy7XTM7XEg5"
      },
      "source": [
        "q = np.percentile(simulations , 1)\n",
        "plt.hist(simulations,bins = 200)\n",
        "\n",
        "plt.figtext(0.6,0.8, s = 'Start price:{:0.2f}'.format(start_price))\n",
        "plt.figtext(0.6,0.7,'mean final price:{:0.2f}'.format(simulations.mean()))\n",
        "plt.figtext(0.6,0.6,'VaR(0.99):{:0.2}'.format(start_price-q))\n",
        "plt.figtext(0.15,0.6,'q(0.99):{:0.2f}'.format(q))\n",
        "\n",
        "plt.axvline(x = q, linewidth = 4, color = 'r')\n",
        "plt.axvline(x = start_price, linewidth = 4, color = 'g')\n",
        "plt.axvline(x = simulations.mean(), linewidth = 4, color = 'b')"
      ],
      "execution_count": null,
      "outputs": []
    },
    {
      "cell_type": "code",
      "source": [],
      "metadata": {
        "id": "OuHTalLPDaih"
      },
      "execution_count": null,
      "outputs": []
    },
    {
      "cell_type": "code",
      "source": [],
      "metadata": {
        "id": "eJk1g6w7D1eO"
      },
      "execution_count": null,
      "outputs": []
    }
  ]
}