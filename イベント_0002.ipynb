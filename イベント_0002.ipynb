{
  "nbformat": 4,
  "nbformat_minor": 0,
  "metadata": {
    "colab": {
      "name": "イベント_0002.ipynb",
      "provenance": [],
      "authorship_tag": "ABX9TyPTH4iqzRjwngVQpcq+yH10",
      "include_colab_link": true
    },
    "kernelspec": {
      "name": "python3",
      "display_name": "Python 3"
    }
  },
  "cells": [
    {
      "cell_type": "markdown",
      "metadata": {
        "id": "view-in-github",
        "colab_type": "text"
      },
      "source": [
        "<a href=\"https://colab.research.google.com/github/DSF-Kotaro/blog/blob/main/%E3%82%A4%E3%83%99%E3%83%B3%E3%83%88_0002.ipynb\" target=\"_parent\"><img src=\"https://colab.research.google.com/assets/colab-badge.svg\" alt=\"Open In Colab\"/></a>"
      ]
    },
    {
      "cell_type": "code",
      "metadata": {
        "id": "D7yzZLePmFNL"
      },
      "source": [
        "CONFIG = {\r\n",
        "    'CONSUMER_KEY': '自分のCONSUMER_KEY',\r\n",
        "    'CONSUMER_SECRET': 'AdcJH5WjfHFOSgA7flmHLlzbZNQD8ChpGaVCdhV7vCv1W5aoOE',\r\n",
        "    'ACCESS_TOKEN': '1190233340730732544-Ya6cKDgMC26LbdLLOFlCt1RwaafxWv',\r\n",
        "    'ACCESS_SECRET': 'jx4bzQ1qNlEnseOIMH1KrEbnGJbvBw9DBjRtVJpC4CipE'\r\n",
        "}\r\n",
        "\r\n",
        "CK = CONFIG['CONSUMER_KEY']\r\n",
        "CS = CONFIG['CONSUMER_SECRET']\r\n",
        "AT = CONFIG['ACCESS_TOKEN']\r\n",
        "AS = CONFIG['ACCESS_SECRET']"
      ],
      "execution_count": null,
      "outputs": []
    },
    {
      "cell_type": "code",
      "metadata": {
        "id": "uparYnthp0CD"
      },
      "source": [
        "import tweepy\r\n",
        "\r\n",
        "auth = tweepy.OAuthHandler(CK, CS)\r\n",
        "auth.set_access_token(AT, AS)\r\n",
        "api = tweepy.API(auth)"
      ],
      "execution_count": null,
      "outputs": []
    },
    {
      "cell_type": "code",
      "metadata": {
        "id": "0tmcmtKGp05i"
      },
      "source": [
        "words = 'これはテストです。'\r\n",
        "api.update_status(words)"
      ],
      "execution_count": null,
      "outputs": []
    },
    {
      "cell_type": "code",
      "metadata": {
        "id": "Meua6vrip8xb"
      },
      "source": [
        "api.home_timeline(count=5)"
      ],
      "execution_count": null,
      "outputs": []
    },
    {
      "cell_type": "code",
      "metadata": {
        "id": "oUwscsZep_hi"
      },
      "source": [
        "for i in api.favorites(count=10):\r\n",
        "    print(i.text)"
      ],
      "execution_count": null,
      "outputs": []
    },
    {
      "cell_type": "code",
      "metadata": {
        "id": "dyAiuywzqCfC"
      },
      "source": [
        "# 読みにくいので整形\r\n",
        "\r\n",
        "for tweet in api.home_timeline(count=3):\r\n",
        "    print('----------------------------------------')\r\n",
        "    print(tweet.text)"
      ],
      "execution_count": null,
      "outputs": []
    },
    {
      "cell_type": "code",
      "metadata": {
        "id": "mc4lKhQUrmdS"
      },
      "source": [
        "for i in tweepy.Cursor(api.search, q='卒論', lang='ja', result_type='recent').items(5):\r\n",
        "    print('-------------------------------------------------------------')\r\n",
        "    print(i.text)"
      ],
      "execution_count": null,
      "outputs": []
    },
    {
      "cell_type": "code",
      "metadata": {
        "id": "bWXZ1B6hrqZK"
      },
      "source": [
        "# RTと書かれるのははじめの2文字\r\n",
        "for i in tweepy.Cursor(api.search, q='人工知能').items(5):\r\n",
        "    print('-------------------------------------------------------------')\r\n",
        "    print(i.text[:2])"
      ],
      "execution_count": null,
      "outputs": []
    },
    {
      "cell_type": "code",
      "metadata": {
        "id": "YYWQ6wkYrtWL"
      },
      "source": [
        "# はじめの二文字がRTではないものを選ぶ\r\n",
        "for i in tweepy.Cursor(api.search, q='人工知能').items(5):\r\n",
        "    if i.text[:2] != 'RT':\r\n",
        "        print('-------------------------------------------------------------')\r\n",
        "        print(i.text)"
      ],
      "execution_count": null,
      "outputs": []
    },
    {
      "cell_type": "code",
      "metadata": {
        "id": "3p2Vt595rv0F"
      },
      "source": [
        "api.me().followers_count"
      ],
      "execution_count": null,
      "outputs": []
    },
    {
      "cell_type": "code",
      "metadata": {
        "id": "MqgaJG6XryVa"
      },
      "source": [
        "api.me().description"
      ],
      "execution_count": null,
      "outputs": []
    },
    {
      "cell_type": "code",
      "metadata": {
        "id": "M70mvuqHr0AK"
      },
      "source": [
        "for i in api.friends(count=10):\r\n",
        "    print(i.name)"
      ],
      "execution_count": null,
      "outputs": []
    },
    {
      "cell_type": "code",
      "metadata": {
        "id": "m5q0iL-Lr2Fa"
      },
      "source": [
        "api.create_friendship(screen_name='xxxx')"
      ],
      "execution_count": null,
      "outputs": []
    }
  ]
}