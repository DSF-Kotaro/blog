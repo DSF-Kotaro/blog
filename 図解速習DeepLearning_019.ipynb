{
  "nbformat": 4,
  "nbformat_minor": 0,
  "metadata": {
    "colab": {
      "name": "図解速習DeepLearning_019.ipynb",
      "provenance": [],
      "authorship_tag": "ABX9TyN1C3Uo/QTi2YIRqlkqaiaC",
      "include_colab_link": true
    },
    "kernelspec": {
      "name": "python3",
      "display_name": "Python 3"
    },
    "accelerator": "GPU"
  },
  "cells": [
    {
      "cell_type": "markdown",
      "metadata": {
        "id": "view-in-github",
        "colab_type": "text"
      },
      "source": [
        "<a href=\"https://colab.research.google.com/github/DSF-Kotaro/blog/blob/main/%E5%9B%B3%E8%A7%A3%E9%80%9F%E7%BF%92DeepLearning_019.ipynb\" target=\"_parent\"><img src=\"https://colab.research.google.com/assets/colab-badge.svg\" alt=\"Open In Colab\"/></a>"
      ]
    },
    {
      "cell_type": "code",
      "metadata": {
        "id": "wKF5nFXQ71P6",
        "colab": {
          "base_uri": "https://localhost:8080/"
        },
        "outputId": "0ad3b2ae-65ed-4224-e296-927152c3156e"
      },
      "source": [
        "#@title Setup Environment\r\n",
        "#@test {\"output\": \"ignore\"}\r\n",
        "\r\n",
        "print('Installing Magenta...\\n')\r\n",
        "!pip install -q magenta\r\n",
        "print('Installing ffmpeg...\\n')\r\n",
        "!echo \"Yes\" | apt-get install ffmpeg > /dev/null\r\n",
        "\r\n",
        "\r\n",
        "print('Downloading Pretrained Models...\\n')\r\n",
        "print('Getting Instruments Model...\\n')\r\n",
        "!gsutil -q -m cp -R gs://download.magenta.tensorflow.org/models/nsynth/wavenet-ckpt.tar /content/\r\n",
        "print('Getting Voices Model...\\n')\r\n",
        "!gsutil -q -m cp -R gs://download.magenta.tensorflow.org/models/nsynth/wavenet-voice-ckpt.tar.gz /content/\r\n",
        "!cd /content/\r\n",
        "!tar -xvf wavenet-ckpt.tar > /dev/null\r\n",
        "!tar -xvf wavenet-voice-ckpt.tar.gz > /dev/null\r\n",
        "\r\n",
        "\r\n",
        "print('Importing Modules...\\n')\r\n",
        "\r\n",
        "\r\n",
        "import os\r\n",
        "import numpy as np\r\n",
        "import matplotlib.pyplot as plt\r\n",
        "from IPython.display import Audio\r\n",
        "%matplotlib inline\r\n",
        "\r\n",
        "from google.colab import files\r\n",
        "from magenta.models.nsynth import utils\r\n",
        "from magenta.models.nsynth.wavenet import fastgen\r\n",
        "from magenta.music.notebook_utils import colab_play as play\r\n",
        "\r\n",
        "def upload(sample_length, sr):\r\n",
        "  '''Upload a .wav file.'''\r\n",
        "  filemap = files.upload()\r\n",
        "  file_list, audio_list = [], []\r\n",
        "  for key, value in filemap.iteritems():\r\n",
        "    fname = os.path.join('/content/', key)\r\n",
        "    with open(fname, 'w') as f:\r\n",
        "      f.write(value)\r\n",
        "    audio = utils.load_audio(fname, sample_length=sample_length, sr=sr)\r\n",
        "    file_list.append(fname)\r\n",
        "    audio_list.append(audio)\r\n",
        "  return file_list, audio_list\r\n",
        "\r\n",
        "download = files.download\r\n",
        "\r\n",
        "get_name = lambda f: os.path.splitext(os.path.basename(f))[0]\r\n",
        "\r\n",
        "print('Sucess!! Environment is now setup.')"
      ],
      "execution_count": 1,
      "outputs": [
        {
          "output_type": "stream",
          "text": [
            "Installing Magenta...\n",
            "\n",
            "\u001b[K     |████████████████████████████████| 1.4MB 8.8MB/s \n",
            "\u001b[K     |████████████████████████████████| 256kB 37.4MB/s \n",
            "\u001b[K     |████████████████████████████████| 215kB 36.6MB/s \n",
            "\u001b[K     |████████████████████████████████| 92kB 12.3MB/s \n",
            "\u001b[K     |████████████████████████████████| 204kB 39.9MB/s \n",
            "\u001b[K     |████████████████████████████████| 358kB 39.4MB/s \n",
            "\u001b[K     |████████████████████████████████| 5.6MB 35.8MB/s \n",
            "\u001b[K     |████████████████████████████████| 71kB 9.9MB/s \n",
            "\u001b[K     |████████████████████████████████| 1.6MB 49.8MB/s \n",
            "\u001b[K     |████████████████████████████████| 3.6MB 45.5MB/s \n",
            "\u001b[K     |████████████████████████████████| 2.3MB 53.2MB/s \n",
            "\u001b[K     |████████████████████████████████| 1.5MB 50.8MB/s \n",
            "\u001b[K     |████████████████████████████████| 20.2MB 1.3MB/s \n",
            "\u001b[K     |████████████████████████████████| 706kB 43.6MB/s \n",
            "\u001b[K     |████████████████████████████████| 655kB 47.9MB/s \n",
            "\u001b[K     |████████████████████████████████| 368kB 46.2MB/s \n",
            "\u001b[K     |████████████████████████████████| 194kB 55.1MB/s \n",
            "\u001b[K     |████████████████████████████████| 81kB 12.0MB/s \n",
            "\u001b[K     |████████████████████████████████| 5.6MB 44.1MB/s \n",
            "\u001b[K     |████████████████████████████████| 368kB 59.6MB/s \n",
            "\u001b[K     |████████████████████████████████| 163kB 59.7MB/s \n",
            "\u001b[K     |████████████████████████████████| 245kB 42.4MB/s \n",
            "\u001b[?25h  Building wheel for mir-eval (setup.py) ... \u001b[?25l\u001b[?25hdone\n",
            "  Building wheel for python-rtmidi (setup.py) ... \u001b[?25l\u001b[?25hdone\n",
            "  Building wheel for pretty-midi (setup.py) ... \u001b[?25l\u001b[?25hdone\n",
            "  Building wheel for pygtrie (setup.py) ... \u001b[?25l\u001b[?25hdone\n",
            "  Building wheel for librosa (setup.py) ... \u001b[?25l\u001b[?25hdone\n",
            "  Building wheel for pypng (setup.py) ... \u001b[?25l\u001b[?25hdone\n",
            "  Building wheel for bz2file (setup.py) ... \u001b[?25l\u001b[?25hdone\n",
            "\u001b[31mERROR: pynndescent 0.5.2 has requirement numba>=0.51.2, but you'll have numba 0.49.1 which is incompatible.\u001b[0m\n",
            "\u001b[31mERROR: note-seq 0.0.2 has requirement numba==0.48.0, but you'll have numba 0.49.1 which is incompatible.\u001b[0m\n",
            "\u001b[31mERROR: kfac 0.2.3 has requirement tensorflow-probability==0.8, but you'll have tensorflow-probability 0.12.1 which is incompatible.\u001b[0m\n",
            "\u001b[31mERROR: tensor2tensor 1.15.7 has requirement tensorflow-probability==0.7.0, but you'll have tensorflow-probability 0.12.1 which is incompatible.\u001b[0m\n",
            "Installing ffmpeg...\n",
            "\n",
            "Downloading Pretrained Models...\n",
            "\n",
            "Getting Instruments Model...\n",
            "\n",
            "Getting Voices Model...\n",
            "\n",
            "Importing Modules...\n",
            "\n"
          ],
          "name": "stdout"
        },
        {
          "output_type": "stream",
          "text": [
            "/usr/local/lib/python3.7/dist-packages/librosa/util/decorators.py:9: NumbaDeprecationWarning: An import was requested from a module that has moved location.\n",
            "Import requested from: 'numba.decorators', please update to use 'numba.core.decorators' or pin to Numba version 0.48.0. This alias will not be present in Numba version 0.50.0.\n",
            "  from numba.decorators import jit as optional_jit\n",
            "/usr/local/lib/python3.7/dist-packages/librosa/util/decorators.py:9: NumbaDeprecationWarning: An import was requested from a module that has moved location.\n",
            "Import of 'jit' requested from: 'numba.decorators', please update to use 'numba.core.decorators' or pin to Numba version 0.48.0. This alias will not be present in Numba version 0.50.0.\n",
            "  from numba.decorators import jit as optional_jit\n"
          ],
          "name": "stderr"
        },
        {
          "output_type": "stream",
          "text": [
            "WARNING:tensorflow:From /usr/local/lib/python3.7/dist-packages/tensorflow/python/util/deprecation.py:538: UniformUnitScaling.__init__ (from tensorflow.python.ops.init_ops) is deprecated and will be removed in a future version.\n",
            "Instructions for updating:\n",
            "Use tf.initializers.variance_scaling instead with distribution=uniform to get equivalent behavior.\n",
            "Sucess!! Environment is now setup.\n"
          ],
          "name": "stdout"
        }
      ]
    },
    {
      "cell_type": "code",
      "metadata": {
        "colab": {
          "base_uri": "https://localhost:8080/"
        },
        "id": "66VpP11YOXlv",
        "outputId": "5965f111-d614-4755-eb1a-22735113c297"
      },
      "source": [
        "#@title Choose a Model { vertical-output: true, run: \"auto\" }\r\n",
        "Model = \"Instruments\" #@param [\"Instruments\", \"Voices\"] {type:\"string\"}\r\n",
        "ckpts = {'Instruments': '/content/wavenet-ckpt/model.ckpt-200000',\r\n",
        "         'Voices': '/content/wavenet-voice-ckpt/model.ckpt-200000'}\r\n",
        "\r\n",
        "ckpt_path = ckpts[Model]\r\n",
        "print('Using model pretrained on %s.' % Model)"
      ],
      "execution_count": 2,
      "outputs": [
        {
          "output_type": "stream",
          "text": [
            "Using model pretrained on Instruments.\n"
          ],
          "name": "stdout"
        }
      ]
    },
    {
      "cell_type": "code",
      "metadata": {
        "colab": {
          "base_uri": "https://localhost:8080/"
        },
        "id": "raE1drmZOeyc",
        "outputId": "86d3d1db-50fe-4516-8312-9aeb984ab0f2"
      },
      "source": [
        "#@title Choose a Model { vertical-output: true, run: \"auto\" }\r\n",
        "Model = \"Instruments\" #@param [\"Instruments\", \"Voices\"] {type:\"string\"}\r\n",
        "ckpts = {'Instruments': '/content/wavenet-ckpt/model.ckpt-200000',\r\n",
        "         'Voices': '/content/wavenet-voice-ckpt/model.ckpt-200000'}\r\n",
        "\r\n",
        "ckpt_path = ckpts[Model]\r\n",
        "print('Using model pretrained on %s.' % Model)"
      ],
      "execution_count": 3,
      "outputs": [
        {
          "output_type": "stream",
          "text": [
            "Using model pretrained on Instruments.\n"
          ],
          "name": "stdout"
        }
      ]
    },
    {
      "cell_type": "code",
      "metadata": {
        "colab": {
          "base_uri": "https://localhost:8080/"
        },
        "id": "0CO-5gRgOiT3",
        "outputId": "6e97b891-2974-453d-9ad2-a58122e5781e"
      },
      "source": [
        "#@title Choose a Model { vertical-output: true, run: \"auto\" }\r\n",
        "Model = \"Instruments\" #@param [\"Instruments\", \"Voices\"] {type:\"string\"}\r\n",
        "ckpts = {'Instruments': '/content/wavenet-ckpt/model.ckpt-200000',\r\n",
        "         'Voices': '/content/wavenet-voice-ckpt/model.ckpt-200000'}\r\n",
        "\r\n",
        "ckpt_path = ckpts[Model]\r\n",
        "print('Using model pretrained on %s.' % Model)"
      ],
      "execution_count": 4,
      "outputs": [
        {
          "output_type": "stream",
          "text": [
            "Using model pretrained on Instruments.\n"
          ],
          "name": "stdout"
        }
      ]
    }
  ]
}