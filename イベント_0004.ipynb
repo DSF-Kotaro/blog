{
  "nbformat": 4,
  "nbformat_minor": 0,
  "metadata": {
    "colab": {
      "name": "イベント_0004.ipynb",
      "provenance": [],
      "collapsed_sections": [],
      "toc_visible": true,
      "include_colab_link": true
    },
    "kernelspec": {
      "name": "python3",
      "display_name": "Python 3"
    }
  },
  "cells": [
    {
      "cell_type": "markdown",
      "metadata": {
        "id": "view-in-github",
        "colab_type": "text"
      },
      "source": [
        "<a href=\"https://colab.research.google.com/github/DSF-Kotaro/blog/blob/main/%E3%82%A4%E3%83%99%E3%83%B3%E3%83%88_0004.ipynb\" target=\"_parent\"><img src=\"https://colab.research.google.com/assets/colab-badge.svg\" alt=\"Open In Colab\"/></a>"
      ]
    },
    {
      "cell_type": "markdown",
      "metadata": {
        "id": "6iv0ld-L2w06"
      },
      "source": [
        "# 第12回 みんなで学ぼう！Pythonによるデータサイエンス"
      ]
    },
    {
      "cell_type": "code",
      "metadata": {
        "id": "81mVTOBA1lGW"
      },
      "source": [
        "import numpy as np\r\n",
        "import pandas as pd"
      ],
      "execution_count": 1,
      "outputs": []
    },
    {
      "cell_type": "markdown",
      "metadata": {
        "id": "PCzDriaf32T-"
      },
      "source": [
        "## 問題1\n",
        "\n",
        "以下のファイルをPandasのデータフレームとして読み込み、すべてマージせよ。\n",
        "\n",
        "* tbl_factory.csv\n",
        "* tbl_warehouse.csv\n",
        "* rel_cost.csv\n",
        "* tbl_transaction.csv\n",
        "\n",
        "なお重複するデータは、マージしたデータフレームから削除して良い。"
      ]
    },
    {
      "cell_type": "code",
      "metadata": {
        "id": "mwBqFpu51ROd"
      },
      "source": [
        "tbl_factory = pd.read_csv('tbl_factory.csv',sep = ',',index_col=0)\r\n",
        "tbl_warehouse = pd.read_csv('tbl_warehouse.csv',sep = ',',index_col=0)\r\n",
        "rel_cost = pd.read_csv('rel_cost.csv',sep = ',')\r\n",
        "tbl_transaction = pd.read_csv('tbl_transaction.csv',sep = ',',index_col=0)"
      ],
      "execution_count": 2,
      "outputs": []
    },
    {
      "cell_type": "code",
      "metadata": {
        "colab": {
          "base_uri": "https://localhost:8080/",
          "height": 328
        },
        "id": "eHX1JLaZ2ZIl",
        "outputId": "383b9ab0-101f-40fc-90d5-1ff576ddff01"
      },
      "source": [
        "tbl_factory"
      ],
      "execution_count": 3,
      "outputs": [
        {
          "output_type": "execute_result",
          "data": {
            "text/html": [
              "<div>\n",
              "<style scoped>\n",
              "    .dataframe tbody tr th:only-of-type {\n",
              "        vertical-align: middle;\n",
              "    }\n",
              "\n",
              "    .dataframe tbody tr th {\n",
              "        vertical-align: top;\n",
              "    }\n",
              "\n",
              "    .dataframe thead th {\n",
              "        text-align: right;\n",
              "    }\n",
              "</style>\n",
              "<table border=\"1\" class=\"dataframe\">\n",
              "  <thead>\n",
              "    <tr style=\"text-align: right;\">\n",
              "      <th></th>\n",
              "      <th>FCName</th>\n",
              "      <th>FCDemand</th>\n",
              "      <th>FCRegion</th>\n",
              "    </tr>\n",
              "    <tr>\n",
              "      <th>FCID</th>\n",
              "      <th></th>\n",
              "      <th></th>\n",
              "      <th></th>\n",
              "    </tr>\n",
              "  </thead>\n",
              "  <tbody>\n",
              "    <tr>\n",
              "      <th>FC00001</th>\n",
              "      <td>東京工場</td>\n",
              "      <td>28</td>\n",
              "      <td>関東</td>\n",
              "    </tr>\n",
              "    <tr>\n",
              "      <th>FC00002</th>\n",
              "      <td>木更津工場</td>\n",
              "      <td>29</td>\n",
              "      <td>関東</td>\n",
              "    </tr>\n",
              "    <tr>\n",
              "      <th>FC00003</th>\n",
              "      <td>多摩工場</td>\n",
              "      <td>31</td>\n",
              "      <td>関東</td>\n",
              "    </tr>\n",
              "    <tr>\n",
              "      <th>FC00004</th>\n",
              "      <td>横須賀工場</td>\n",
              "      <td>25</td>\n",
              "      <td>関東</td>\n",
              "    </tr>\n",
              "    <tr>\n",
              "      <th>FC00005</th>\n",
              "      <td>仙台工場</td>\n",
              "      <td>21</td>\n",
              "      <td>東北</td>\n",
              "    </tr>\n",
              "    <tr>\n",
              "      <th>FC00006</th>\n",
              "      <td>山形工場</td>\n",
              "      <td>30</td>\n",
              "      <td>東北</td>\n",
              "    </tr>\n",
              "    <tr>\n",
              "      <th>FC00007</th>\n",
              "      <td>那須工場</td>\n",
              "      <td>25</td>\n",
              "      <td>東北</td>\n",
              "    </tr>\n",
              "    <tr>\n",
              "      <th>FC00008</th>\n",
              "      <td>青森工場</td>\n",
              "      <td>16</td>\n",
              "      <td>東北</td>\n",
              "    </tr>\n",
              "  </tbody>\n",
              "</table>\n",
              "</div>"
            ],
            "text/plain": [
              "        FCName  FCDemand FCRegion\n",
              "FCID                             \n",
              "FC00001   東京工場        28       関東\n",
              "FC00002  木更津工場        29       関東\n",
              "FC00003   多摩工場        31       関東\n",
              "FC00004  横須賀工場        25       関東\n",
              "FC00005   仙台工場        21       東北\n",
              "FC00006   山形工場        30       東北\n",
              "FC00007   那須工場        25       東北\n",
              "FC00008   青森工場        16       東北"
            ]
          },
          "metadata": {
            "tags": []
          },
          "execution_count": 3
        }
      ]
    },
    {
      "cell_type": "code",
      "metadata": {
        "colab": {
          "base_uri": "https://localhost:8080/",
          "height": 266
        },
        "id": "eAk1Skxg2cLW",
        "outputId": "3feb43c0-73f7-473c-fda0-749f82bc19ce"
      },
      "source": [
        "tbl_warehouse"
      ],
      "execution_count": 4,
      "outputs": [
        {
          "output_type": "execute_result",
          "data": {
            "text/html": [
              "<div>\n",
              "<style scoped>\n",
              "    .dataframe tbody tr th:only-of-type {\n",
              "        vertical-align: middle;\n",
              "    }\n",
              "\n",
              "    .dataframe tbody tr th {\n",
              "        vertical-align: top;\n",
              "    }\n",
              "\n",
              "    .dataframe thead th {\n",
              "        text-align: right;\n",
              "    }\n",
              "</style>\n",
              "<table border=\"1\" class=\"dataframe\">\n",
              "  <thead>\n",
              "    <tr style=\"text-align: right;\">\n",
              "      <th></th>\n",
              "      <th>WHName</th>\n",
              "      <th>WHSupply</th>\n",
              "      <th>WHRegion</th>\n",
              "    </tr>\n",
              "    <tr>\n",
              "      <th>WHID</th>\n",
              "      <th></th>\n",
              "      <th></th>\n",
              "      <th></th>\n",
              "    </tr>\n",
              "  </thead>\n",
              "  <tbody>\n",
              "    <tr>\n",
              "      <th>WH00001</th>\n",
              "      <td>杉並倉庫</td>\n",
              "      <td>35</td>\n",
              "      <td>関東</td>\n",
              "    </tr>\n",
              "    <tr>\n",
              "      <th>WH00002</th>\n",
              "      <td>品川倉庫</td>\n",
              "      <td>41</td>\n",
              "      <td>関東</td>\n",
              "    </tr>\n",
              "    <tr>\n",
              "      <th>WH00003</th>\n",
              "      <td>豊洲倉庫</td>\n",
              "      <td>42</td>\n",
              "      <td>関東</td>\n",
              "    </tr>\n",
              "    <tr>\n",
              "      <th>WH00004</th>\n",
              "      <td>郡山倉庫</td>\n",
              "      <td>60</td>\n",
              "      <td>東北</td>\n",
              "    </tr>\n",
              "    <tr>\n",
              "      <th>WH00005</th>\n",
              "      <td>仙台倉庫</td>\n",
              "      <td>72</td>\n",
              "      <td>東北</td>\n",
              "    </tr>\n",
              "    <tr>\n",
              "      <th>WH00006</th>\n",
              "      <td>山形倉庫</td>\n",
              "      <td>65</td>\n",
              "      <td>東北</td>\n",
              "    </tr>\n",
              "  </tbody>\n",
              "</table>\n",
              "</div>"
            ],
            "text/plain": [
              "        WHName  WHSupply WHRegion\n",
              "WHID                             \n",
              "WH00001   杉並倉庫        35       関東\n",
              "WH00002   品川倉庫        41       関東\n",
              "WH00003   豊洲倉庫        42       関東\n",
              "WH00004   郡山倉庫        60       東北\n",
              "WH00005   仙台倉庫        72       東北\n",
              "WH00006   山形倉庫        65       東北"
            ]
          },
          "metadata": {
            "tags": []
          },
          "execution_count": 4
        }
      ]
    },
    {
      "cell_type": "code",
      "metadata": {
        "colab": {
          "base_uri": "https://localhost:8080/",
          "height": 793
        },
        "id": "WkiWfNDN2jOG",
        "outputId": "81244df2-7800-4d83-9c42-bc34ee9f69a0"
      },
      "source": [
        "rel_cost"
      ],
      "execution_count": 5,
      "outputs": [
        {
          "output_type": "execute_result",
          "data": {
            "text/html": [
              "<div>\n",
              "<style scoped>\n",
              "    .dataframe tbody tr th:only-of-type {\n",
              "        vertical-align: middle;\n",
              "    }\n",
              "\n",
              "    .dataframe tbody tr th {\n",
              "        vertical-align: top;\n",
              "    }\n",
              "\n",
              "    .dataframe thead th {\n",
              "        text-align: right;\n",
              "    }\n",
              "</style>\n",
              "<table border=\"1\" class=\"dataframe\">\n",
              "  <thead>\n",
              "    <tr style=\"text-align: right;\">\n",
              "      <th></th>\n",
              "      <th>RCostID</th>\n",
              "      <th>FCID</th>\n",
              "      <th>WHID</th>\n",
              "      <th>Cost</th>\n",
              "    </tr>\n",
              "  </thead>\n",
              "  <tbody>\n",
              "    <tr>\n",
              "      <th>0</th>\n",
              "      <td>1</td>\n",
              "      <td>FC00001</td>\n",
              "      <td>WH00001</td>\n",
              "      <td>0.4</td>\n",
              "    </tr>\n",
              "    <tr>\n",
              "      <th>1</th>\n",
              "      <td>2</td>\n",
              "      <td>FC00001</td>\n",
              "      <td>WH00002</td>\n",
              "      <td>0.8</td>\n",
              "    </tr>\n",
              "    <tr>\n",
              "      <th>2</th>\n",
              "      <td>3</td>\n",
              "      <td>FC00001</td>\n",
              "      <td>WH00003</td>\n",
              "      <td>1.5</td>\n",
              "    </tr>\n",
              "    <tr>\n",
              "      <th>3</th>\n",
              "      <td>4</td>\n",
              "      <td>FC00002</td>\n",
              "      <td>WH00001</td>\n",
              "      <td>0.9</td>\n",
              "    </tr>\n",
              "    <tr>\n",
              "      <th>4</th>\n",
              "      <td>5</td>\n",
              "      <td>FC00002</td>\n",
              "      <td>WH00002</td>\n",
              "      <td>0.8</td>\n",
              "    </tr>\n",
              "    <tr>\n",
              "      <th>5</th>\n",
              "      <td>6</td>\n",
              "      <td>FC00002</td>\n",
              "      <td>WH00003</td>\n",
              "      <td>1.6</td>\n",
              "    </tr>\n",
              "    <tr>\n",
              "      <th>6</th>\n",
              "      <td>7</td>\n",
              "      <td>FC00003</td>\n",
              "      <td>WH00001</td>\n",
              "      <td>1.2</td>\n",
              "    </tr>\n",
              "    <tr>\n",
              "      <th>7</th>\n",
              "      <td>8</td>\n",
              "      <td>FC00003</td>\n",
              "      <td>WH00002</td>\n",
              "      <td>1.3</td>\n",
              "    </tr>\n",
              "    <tr>\n",
              "      <th>8</th>\n",
              "      <td>9</td>\n",
              "      <td>FC00003</td>\n",
              "      <td>WH00003</td>\n",
              "      <td>1.5</td>\n",
              "    </tr>\n",
              "    <tr>\n",
              "      <th>9</th>\n",
              "      <td>10</td>\n",
              "      <td>FC00004</td>\n",
              "      <td>WH00001</td>\n",
              "      <td>0.8</td>\n",
              "    </tr>\n",
              "    <tr>\n",
              "      <th>10</th>\n",
              "      <td>11</td>\n",
              "      <td>FC00004</td>\n",
              "      <td>WH00002</td>\n",
              "      <td>1.0</td>\n",
              "    </tr>\n",
              "    <tr>\n",
              "      <th>11</th>\n",
              "      <td>12</td>\n",
              "      <td>FC00004</td>\n",
              "      <td>WH00003</td>\n",
              "      <td>1.1</td>\n",
              "    </tr>\n",
              "    <tr>\n",
              "      <th>12</th>\n",
              "      <td>13</td>\n",
              "      <td>FC00005</td>\n",
              "      <td>WH00004</td>\n",
              "      <td>0.8</td>\n",
              "    </tr>\n",
              "    <tr>\n",
              "      <th>13</th>\n",
              "      <td>14</td>\n",
              "      <td>FC00005</td>\n",
              "      <td>WH00005</td>\n",
              "      <td>0.3</td>\n",
              "    </tr>\n",
              "    <tr>\n",
              "      <th>14</th>\n",
              "      <td>15</td>\n",
              "      <td>FC00005</td>\n",
              "      <td>WH00006</td>\n",
              "      <td>1.4</td>\n",
              "    </tr>\n",
              "    <tr>\n",
              "      <th>15</th>\n",
              "      <td>16</td>\n",
              "      <td>FC00006</td>\n",
              "      <td>WH00004</td>\n",
              "      <td>0.9</td>\n",
              "    </tr>\n",
              "    <tr>\n",
              "      <th>16</th>\n",
              "      <td>17</td>\n",
              "      <td>FC00006</td>\n",
              "      <td>WH00005</td>\n",
              "      <td>1.1</td>\n",
              "    </tr>\n",
              "    <tr>\n",
              "      <th>17</th>\n",
              "      <td>18</td>\n",
              "      <td>FC00006</td>\n",
              "      <td>WH00006</td>\n",
              "      <td>0.7</td>\n",
              "    </tr>\n",
              "    <tr>\n",
              "      <th>18</th>\n",
              "      <td>19</td>\n",
              "      <td>FC00007</td>\n",
              "      <td>WH00004</td>\n",
              "      <td>0.9</td>\n",
              "    </tr>\n",
              "    <tr>\n",
              "      <th>19</th>\n",
              "      <td>20</td>\n",
              "      <td>FC00007</td>\n",
              "      <td>WH00005</td>\n",
              "      <td>1.2</td>\n",
              "    </tr>\n",
              "    <tr>\n",
              "      <th>20</th>\n",
              "      <td>21</td>\n",
              "      <td>FC00007</td>\n",
              "      <td>WH00006</td>\n",
              "      <td>1.3</td>\n",
              "    </tr>\n",
              "    <tr>\n",
              "      <th>21</th>\n",
              "      <td>22</td>\n",
              "      <td>FC00008</td>\n",
              "      <td>WH00004</td>\n",
              "      <td>1.5</td>\n",
              "    </tr>\n",
              "    <tr>\n",
              "      <th>22</th>\n",
              "      <td>23</td>\n",
              "      <td>FC00008</td>\n",
              "      <td>WH00005</td>\n",
              "      <td>1.2</td>\n",
              "    </tr>\n",
              "    <tr>\n",
              "      <th>23</th>\n",
              "      <td>24</td>\n",
              "      <td>FC00008</td>\n",
              "      <td>WH00006</td>\n",
              "      <td>1.3</td>\n",
              "    </tr>\n",
              "  </tbody>\n",
              "</table>\n",
              "</div>"
            ],
            "text/plain": [
              "    RCostID     FCID     WHID  Cost\n",
              "0         1  FC00001  WH00001   0.4\n",
              "1         2  FC00001  WH00002   0.8\n",
              "2         3  FC00001  WH00003   1.5\n",
              "3         4  FC00002  WH00001   0.9\n",
              "4         5  FC00002  WH00002   0.8\n",
              "5         6  FC00002  WH00003   1.6\n",
              "6         7  FC00003  WH00001   1.2\n",
              "7         8  FC00003  WH00002   1.3\n",
              "8         9  FC00003  WH00003   1.5\n",
              "9        10  FC00004  WH00001   0.8\n",
              "10       11  FC00004  WH00002   1.0\n",
              "11       12  FC00004  WH00003   1.1\n",
              "12       13  FC00005  WH00004   0.8\n",
              "13       14  FC00005  WH00005   0.3\n",
              "14       15  FC00005  WH00006   1.4\n",
              "15       16  FC00006  WH00004   0.9\n",
              "16       17  FC00006  WH00005   1.1\n",
              "17       18  FC00006  WH00006   0.7\n",
              "18       19  FC00007  WH00004   0.9\n",
              "19       20  FC00007  WH00005   1.2\n",
              "20       21  FC00007  WH00006   1.3\n",
              "21       22  FC00008  WH00004   1.5\n",
              "22       23  FC00008  WH00005   1.2\n",
              "23       24  FC00008  WH00006   1.3"
            ]
          },
          "metadata": {
            "tags": []
          },
          "execution_count": 5
        }
      ]
    },
    {
      "cell_type": "code",
      "metadata": {
        "colab": {
          "base_uri": "https://localhost:8080/",
          "height": 450
        },
        "id": "W3w5_T0l2q_w",
        "outputId": "cd0facb9-906f-4e73-ce5e-184cb08e7168"
      },
      "source": [
        "tbl_transaction"
      ],
      "execution_count": 6,
      "outputs": [
        {
          "output_type": "execute_result",
          "data": {
            "text/html": [
              "<div>\n",
              "<style scoped>\n",
              "    .dataframe tbody tr th:only-of-type {\n",
              "        vertical-align: middle;\n",
              "    }\n",
              "\n",
              "    .dataframe tbody tr th {\n",
              "        vertical-align: top;\n",
              "    }\n",
              "\n",
              "    .dataframe thead th {\n",
              "        text-align: right;\n",
              "    }\n",
              "</style>\n",
              "<table border=\"1\" class=\"dataframe\">\n",
              "  <thead>\n",
              "    <tr style=\"text-align: right;\">\n",
              "      <th></th>\n",
              "      <th>TransactionDate</th>\n",
              "      <th>ToFC</th>\n",
              "      <th>FromWH</th>\n",
              "      <th>Quantity</th>\n",
              "    </tr>\n",
              "    <tr>\n",
              "      <th>TRID</th>\n",
              "      <th></th>\n",
              "      <th></th>\n",
              "      <th></th>\n",
              "      <th></th>\n",
              "    </tr>\n",
              "  </thead>\n",
              "  <tbody>\n",
              "    <tr>\n",
              "      <th>0</th>\n",
              "      <td>2019-01-01 02:11:10</td>\n",
              "      <td>FC00004</td>\n",
              "      <td>WH00003</td>\n",
              "      <td>33</td>\n",
              "    </tr>\n",
              "    <tr>\n",
              "      <th>1</th>\n",
              "      <td>2019-01-01 06:12:42</td>\n",
              "      <td>FC00007</td>\n",
              "      <td>WH00006</td>\n",
              "      <td>19</td>\n",
              "    </tr>\n",
              "    <tr>\n",
              "      <th>2</th>\n",
              "      <td>2019-01-01 06:32:32</td>\n",
              "      <td>FC00006</td>\n",
              "      <td>WH00004</td>\n",
              "      <td>31</td>\n",
              "    </tr>\n",
              "    <tr>\n",
              "      <th>3</th>\n",
              "      <td>2019-01-01 07:17:06</td>\n",
              "      <td>FC00002</td>\n",
              "      <td>WH00003</td>\n",
              "      <td>18</td>\n",
              "    </tr>\n",
              "    <tr>\n",
              "      <th>4</th>\n",
              "      <td>2019-01-01 07:52:18</td>\n",
              "      <td>FC00001</td>\n",
              "      <td>WH00002</td>\n",
              "      <td>30</td>\n",
              "    </tr>\n",
              "    <tr>\n",
              "      <th>...</th>\n",
              "      <td>...</td>\n",
              "      <td>...</td>\n",
              "      <td>...</td>\n",
              "      <td>...</td>\n",
              "    </tr>\n",
              "    <tr>\n",
              "      <th>3995</th>\n",
              "      <td>2019-12-31 11:27:51</td>\n",
              "      <td>FC00007</td>\n",
              "      <td>WH00006</td>\n",
              "      <td>29</td>\n",
              "    </tr>\n",
              "    <tr>\n",
              "      <th>3996</th>\n",
              "      <td>2019-12-31 17:10:21</td>\n",
              "      <td>FC00002</td>\n",
              "      <td>WH00003</td>\n",
              "      <td>35</td>\n",
              "    </tr>\n",
              "    <tr>\n",
              "      <th>3997</th>\n",
              "      <td>2019-12-31 19:35:07</td>\n",
              "      <td>FC00003</td>\n",
              "      <td>WH00001</td>\n",
              "      <td>36</td>\n",
              "    </tr>\n",
              "    <tr>\n",
              "      <th>3998</th>\n",
              "      <td>2019-12-31 21:45:07</td>\n",
              "      <td>FC00005</td>\n",
              "      <td>WH00005</td>\n",
              "      <td>34</td>\n",
              "    </tr>\n",
              "    <tr>\n",
              "      <th>3999</th>\n",
              "      <td>2019-12-31 23:19:37</td>\n",
              "      <td>FC00005</td>\n",
              "      <td>WH00005</td>\n",
              "      <td>16</td>\n",
              "    </tr>\n",
              "  </tbody>\n",
              "</table>\n",
              "<p>4000 rows × 4 columns</p>\n",
              "</div>"
            ],
            "text/plain": [
              "          TransactionDate     ToFC   FromWH  Quantity\n",
              "TRID                                                 \n",
              "0     2019-01-01 02:11:10  FC00004  WH00003        33\n",
              "1     2019-01-01 06:12:42  FC00007  WH00006        19\n",
              "2     2019-01-01 06:32:32  FC00006  WH00004        31\n",
              "3     2019-01-01 07:17:06  FC00002  WH00003        18\n",
              "4     2019-01-01 07:52:18  FC00001  WH00002        30\n",
              "...                   ...      ...      ...       ...\n",
              "3995  2019-12-31 11:27:51  FC00007  WH00006        29\n",
              "3996  2019-12-31 17:10:21  FC00002  WH00003        35\n",
              "3997  2019-12-31 19:35:07  FC00003  WH00001        36\n",
              "3998  2019-12-31 21:45:07  FC00005  WH00005        34\n",
              "3999  2019-12-31 23:19:37  FC00005  WH00005        16\n",
              "\n",
              "[4000 rows x 4 columns]"
            ]
          },
          "metadata": {
            "tags": []
          },
          "execution_count": 6
        }
      ]
    },
    {
      "cell_type": "markdown",
      "metadata": {
        "id": "-R_-4Nox3uq2"
      },
      "source": [
        "**マージする *斜体テキスト***"
      ]
    },
    {
      "cell_type": "code",
      "metadata": {
        "colab": {
          "base_uri": "https://localhost:8080/",
          "height": 419
        },
        "id": "u7G6FkLj3uJ5",
        "outputId": "337d51b9-9915-4514-aed5-4d7a0bbea4bb"
      },
      "source": [
        "merge_data = pd.merge(tbl_transaction,rel_cost,left_on=[\"ToFC\",\"FromWH\"],right_on=[\"FCID\",\"WHID\"],how=\"left\")\r\n",
        "merge_data = pd.merge(merge_data,tbl_factory,left_on=[\"ToFC\"],right_on=[\"FCID\"],how=\"left\")\r\n",
        "merge_data = pd.merge(merge_data,tbl_warehouse,left_on=[\"FromWH\"],right_on=[\"WHID\"],how=\"left\")\r\n",
        "merge_data = merge_data[[\"TransactionDate\",\"Quantity\",\"Cost\",\"ToFC\",\"FCName\",\"FCDemand\",\"WHName\",\"WHSupply\",\"FCRegion\",\"WHRegion\"]]\r\n",
        "merge_data"
      ],
      "execution_count": 7,
      "outputs": [
        {
          "output_type": "execute_result",
          "data": {
            "text/html": [
              "<div>\n",
              "<style scoped>\n",
              "    .dataframe tbody tr th:only-of-type {\n",
              "        vertical-align: middle;\n",
              "    }\n",
              "\n",
              "    .dataframe tbody tr th {\n",
              "        vertical-align: top;\n",
              "    }\n",
              "\n",
              "    .dataframe thead th {\n",
              "        text-align: right;\n",
              "    }\n",
              "</style>\n",
              "<table border=\"1\" class=\"dataframe\">\n",
              "  <thead>\n",
              "    <tr style=\"text-align: right;\">\n",
              "      <th></th>\n",
              "      <th>TransactionDate</th>\n",
              "      <th>Quantity</th>\n",
              "      <th>Cost</th>\n",
              "      <th>ToFC</th>\n",
              "      <th>FCName</th>\n",
              "      <th>FCDemand</th>\n",
              "      <th>WHName</th>\n",
              "      <th>WHSupply</th>\n",
              "      <th>FCRegion</th>\n",
              "      <th>WHRegion</th>\n",
              "    </tr>\n",
              "  </thead>\n",
              "  <tbody>\n",
              "    <tr>\n",
              "      <th>0</th>\n",
              "      <td>2019-01-01 02:11:10</td>\n",
              "      <td>33</td>\n",
              "      <td>1.1</td>\n",
              "      <td>FC00004</td>\n",
              "      <td>横須賀工場</td>\n",
              "      <td>25</td>\n",
              "      <td>豊洲倉庫</td>\n",
              "      <td>42</td>\n",
              "      <td>関東</td>\n",
              "      <td>関東</td>\n",
              "    </tr>\n",
              "    <tr>\n",
              "      <th>1</th>\n",
              "      <td>2019-01-01 06:12:42</td>\n",
              "      <td>19</td>\n",
              "      <td>1.3</td>\n",
              "      <td>FC00007</td>\n",
              "      <td>那須工場</td>\n",
              "      <td>25</td>\n",
              "      <td>山形倉庫</td>\n",
              "      <td>65</td>\n",
              "      <td>東北</td>\n",
              "      <td>東北</td>\n",
              "    </tr>\n",
              "    <tr>\n",
              "      <th>2</th>\n",
              "      <td>2019-01-01 06:32:32</td>\n",
              "      <td>31</td>\n",
              "      <td>0.9</td>\n",
              "      <td>FC00006</td>\n",
              "      <td>山形工場</td>\n",
              "      <td>30</td>\n",
              "      <td>郡山倉庫</td>\n",
              "      <td>60</td>\n",
              "      <td>東北</td>\n",
              "      <td>東北</td>\n",
              "    </tr>\n",
              "    <tr>\n",
              "      <th>3</th>\n",
              "      <td>2019-01-01 07:17:06</td>\n",
              "      <td>18</td>\n",
              "      <td>1.6</td>\n",
              "      <td>FC00002</td>\n",
              "      <td>木更津工場</td>\n",
              "      <td>29</td>\n",
              "      <td>豊洲倉庫</td>\n",
              "      <td>42</td>\n",
              "      <td>関東</td>\n",
              "      <td>関東</td>\n",
              "    </tr>\n",
              "    <tr>\n",
              "      <th>4</th>\n",
              "      <td>2019-01-01 07:52:18</td>\n",
              "      <td>30</td>\n",
              "      <td>0.8</td>\n",
              "      <td>FC00001</td>\n",
              "      <td>東京工場</td>\n",
              "      <td>28</td>\n",
              "      <td>品川倉庫</td>\n",
              "      <td>41</td>\n",
              "      <td>関東</td>\n",
              "      <td>関東</td>\n",
              "    </tr>\n",
              "    <tr>\n",
              "      <th>...</th>\n",
              "      <td>...</td>\n",
              "      <td>...</td>\n",
              "      <td>...</td>\n",
              "      <td>...</td>\n",
              "      <td>...</td>\n",
              "      <td>...</td>\n",
              "      <td>...</td>\n",
              "      <td>...</td>\n",
              "      <td>...</td>\n",
              "      <td>...</td>\n",
              "    </tr>\n",
              "    <tr>\n",
              "      <th>3995</th>\n",
              "      <td>2019-12-31 11:27:51</td>\n",
              "      <td>29</td>\n",
              "      <td>1.3</td>\n",
              "      <td>FC00007</td>\n",
              "      <td>那須工場</td>\n",
              "      <td>25</td>\n",
              "      <td>山形倉庫</td>\n",
              "      <td>65</td>\n",
              "      <td>東北</td>\n",
              "      <td>東北</td>\n",
              "    </tr>\n",
              "    <tr>\n",
              "      <th>3996</th>\n",
              "      <td>2019-12-31 17:10:21</td>\n",
              "      <td>35</td>\n",
              "      <td>1.6</td>\n",
              "      <td>FC00002</td>\n",
              "      <td>木更津工場</td>\n",
              "      <td>29</td>\n",
              "      <td>豊洲倉庫</td>\n",
              "      <td>42</td>\n",
              "      <td>関東</td>\n",
              "      <td>関東</td>\n",
              "    </tr>\n",
              "    <tr>\n",
              "      <th>3997</th>\n",
              "      <td>2019-12-31 19:35:07</td>\n",
              "      <td>36</td>\n",
              "      <td>1.2</td>\n",
              "      <td>FC00003</td>\n",
              "      <td>多摩工場</td>\n",
              "      <td>31</td>\n",
              "      <td>杉並倉庫</td>\n",
              "      <td>35</td>\n",
              "      <td>関東</td>\n",
              "      <td>関東</td>\n",
              "    </tr>\n",
              "    <tr>\n",
              "      <th>3998</th>\n",
              "      <td>2019-12-31 21:45:07</td>\n",
              "      <td>34</td>\n",
              "      <td>0.3</td>\n",
              "      <td>FC00005</td>\n",
              "      <td>仙台工場</td>\n",
              "      <td>21</td>\n",
              "      <td>仙台倉庫</td>\n",
              "      <td>72</td>\n",
              "      <td>東北</td>\n",
              "      <td>東北</td>\n",
              "    </tr>\n",
              "    <tr>\n",
              "      <th>3999</th>\n",
              "      <td>2019-12-31 23:19:37</td>\n",
              "      <td>16</td>\n",
              "      <td>0.3</td>\n",
              "      <td>FC00005</td>\n",
              "      <td>仙台工場</td>\n",
              "      <td>21</td>\n",
              "      <td>仙台倉庫</td>\n",
              "      <td>72</td>\n",
              "      <td>東北</td>\n",
              "      <td>東北</td>\n",
              "    </tr>\n",
              "  </tbody>\n",
              "</table>\n",
              "<p>4000 rows × 10 columns</p>\n",
              "</div>"
            ],
            "text/plain": [
              "          TransactionDate  Quantity  Cost  ... WHSupply FCRegion  WHRegion\n",
              "0     2019-01-01 02:11:10        33   1.1  ...       42       関東        関東\n",
              "1     2019-01-01 06:12:42        19   1.3  ...       65       東北        東北\n",
              "2     2019-01-01 06:32:32        31   0.9  ...       60       東北        東北\n",
              "3     2019-01-01 07:17:06        18   1.6  ...       42       関東        関東\n",
              "4     2019-01-01 07:52:18        30   0.8  ...       41       関東        関東\n",
              "...                   ...       ...   ...  ...      ...      ...       ...\n",
              "3995  2019-12-31 11:27:51        29   1.3  ...       65       東北        東北\n",
              "3996  2019-12-31 17:10:21        35   1.6  ...       42       関東        関東\n",
              "3997  2019-12-31 19:35:07        36   1.2  ...       35       関東        関東\n",
              "3998  2019-12-31 21:45:07        34   0.3  ...       72       東北        東北\n",
              "3999  2019-12-31 23:19:37        16   0.3  ...       72       東北        東北\n",
              "\n",
              "[4000 rows x 10 columns]"
            ]
          },
          "metadata": {
            "tags": []
          },
          "execution_count": 7
        }
      ]
    },
    {
      "cell_type": "markdown",
      "metadata": {
        "id": "XCZoVpO24k9O"
      },
      "source": [
        "## 問題2\n",
        "\n",
        "地方ごとに`Cost`列の合計を求めよ。単位は「万円」とする。"
      ]
    },
    {
      "cell_type": "code",
      "metadata": {
        "colab": {
          "base_uri": "https://localhost:8080/"
        },
        "id": "sc9UOXP764Vu",
        "outputId": "47ea262b-849d-4d96-a32e-7202231ef8e1"
      },
      "source": [
        "kanto = merge_data.loc[merge_data[\"WHRegion\"]==\"関東\"]\r\n",
        "touhoku = merge_data.loc[merge_data[\"WHRegion\"]==\"東北\"]\r\n",
        "print(\"関東の総コスト：\" + str(kanto[\"Cost\"].sum()) + \"万円\")\r\n",
        "print(\"東北の総コスト：\" + str(touhoku[\"Cost\"].sum()) + \"万円\")"
      ],
      "execution_count": 8,
      "outputs": [
        {
          "output_type": "stream",
          "text": [
            "関東の総コスト：2189.3万円\n",
            "東北の総コスト：2062.0万円\n"
          ],
          "name": "stdout"
        }
      ]
    },
    {
      "cell_type": "markdown",
      "metadata": {
        "id": "ukzH8w8r58Df"
      },
      "source": [
        "## 問題3\n",
        "\n",
        "地方ごとの輸送総数を求めよ。"
      ]
    },
    {
      "cell_type": "code",
      "metadata": {
        "colab": {
          "base_uri": "https://localhost:8080/"
        },
        "id": "bDv0skPA82b9",
        "outputId": "bc30d0d5-568b-427c-cb42-dfede46096dd"
      },
      "source": [
        "print(\"関東の輸送数: \" + str(kanto[\"Quantity\"].sum()) + \"個\")\r\n",
        "print(\"東北の輸送数: \" + str(touhoku[\"Quantity\"].sum()) + \"個\")"
      ],
      "execution_count": 10,
      "outputs": [
        {
          "output_type": "stream",
          "text": [
            "関東の輸送数: 49146個\n",
            "東北の輸送数: 50214個\n"
          ],
          "name": "stdout"
        }
      ]
    },
    {
      "cell_type": "markdown",
      "metadata": {
        "id": "iax5q84L6Iel"
      },
      "source": [
        "## 問題4\n",
        "\n",
        "地方ごとの輸送品1つあたりの平均コストを求めよ。"
      ]
    },
    {
      "cell_type": "code",
      "metadata": {
        "colab": {
          "base_uri": "https://localhost:8080/"
        },
        "id": "F_jh62BYnJji",
        "outputId": "4e32b74d-359d-4c22-9d8a-573b1a48d861"
      },
      "source": [
        "tmp = (kanto[\"Cost\"].sum() / kanto[\"Quantity\"].sum()) * 10000\r\n",
        "print(\"関東支社の部品１つ当たりの輸送コスト: \" + str(int(tmp)) + \"円\")\r\n",
        "tmp = (touhoku[\"Cost\"].sum() / touhoku[\"Quantity\"].sum()) * 10000\r\n",
        "print(\"東北支社の部品１つ当たりの輸送コスト: \" + str(int(tmp)) + \"円\")"
      ],
      "execution_count": 11,
      "outputs": [
        {
          "output_type": "stream",
          "text": [
            "関東支社の部品１つ当たりの輸送コスト: 445円\n",
            "東北支社の部品１つ当たりの輸送コスト: 410円\n"
          ],
          "name": "stdout"
        }
      ]
    },
    {
      "cell_type": "markdown",
      "metadata": {
        "id": "uwNGZE8g6rLk"
      },
      "source": [
        "## 問題5\n",
        "\n",
        "地方ごとに1回あたりの平均輸送コストを求めよ。"
      ]
    },
    {
      "cell_type": "code",
      "metadata": {
        "id": "MJTjlJb_7Wal",
        "colab": {
          "base_uri": "https://localhost:8080/"
        },
        "outputId": "b398d3ed-d215-4344-99d2-171f74dbfad9"
      },
      "source": [
        "cost_chk = pd.merge(rel_cost, tbl_factory, on=\"FCID\", how=\"left\")\r\n",
        "print(\"東京支社の平均輸送コスト：\" + str(cost_chk[\"Cost\"].loc[cost_chk[\"FCRegion\"]==\"関東\"].mean()) + \"万円\")\r\n",
        "print(\"東北支社の平均輸送コスト：\" + str(cost_chk[\"Cost\"].loc[cost_chk[\"FCRegion\"]==\"東北\"].mean()) + \"万円\")"
      ],
      "execution_count": 14,
      "outputs": [
        {
          "output_type": "stream",
          "text": [
            "東京支社の平均輸送コスト：1.075万円\n",
            "東北支社の平均輸送コスト：1.05万円\n"
          ],
          "name": "stdout"
        }
      ]
    }
  ]
}