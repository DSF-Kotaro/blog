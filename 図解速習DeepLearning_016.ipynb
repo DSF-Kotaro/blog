{
  "nbformat": 4,
  "nbformat_minor": 0,
  "metadata": {
    "colab": {
      "name": "図解速習DeepLearning_016.ipynb",
      "provenance": [],
      "collapsed_sections": [],
      "authorship_tag": "ABX9TyNKq8vuFbJ8Kp8QjswFMTpO",
      "include_colab_link": true
    },
    "kernelspec": {
      "name": "python3",
      "display_name": "Python 3"
    },
    "accelerator": "GPU"
  },
  "cells": [
    {
      "cell_type": "markdown",
      "metadata": {
        "id": "view-in-github",
        "colab_type": "text"
      },
      "source": [
        "<a href=\"https://colab.research.google.com/github/DSF-Kotaro/blog/blob/main/%E5%9B%B3%E8%A7%A3%E9%80%9F%E7%BF%92DeepLearning_016.ipynb\" target=\"_parent\"><img src=\"https://colab.research.google.com/assets/colab-badge.svg\" alt=\"Open In Colab\"/></a>"
      ]
    },
    {
      "cell_type": "code",
      "metadata": {
        "id": "-uOIGUHbYdUJ"
      },
      "source": [
        "from __future__ import absolute_import, division, print_function\r\n",
        "from sklearn.model_selection import train_test_split\r\n",
        "\r\n",
        "import tensorflow as tf\r\n",
        "import matplotlib.pyplot as plt\r\n",
        "import unicodedata\r\n",
        "import re\r\n",
        "import numpy as np\r\n",
        "import os\r\n",
        "import time"
      ],
      "execution_count": 1,
      "outputs": []
    },
    {
      "cell_type": "code",
      "metadata": {
        "colab": {
          "base_uri": "https://localhost:8080/"
        },
        "id": "LvFD7vsoZxDI",
        "outputId": "79e8d136-d6a1-4f80-82b4-c2c6b77cc571"
      },
      "source": [
        "path_to_zip = tf.keras.utils.get_file(\r\n",
        "    'spa-eng.zip', origin='http://download.tensorflow.org/data/spa-eng.zip', \r\n",
        "    extract=True)\r\n",
        "\r\n",
        "path_to_file = os.path.dirname(path_to_zip)+\"/spa-eng/spa.txt\""
      ],
      "execution_count": 2,
      "outputs": [
        {
          "output_type": "stream",
          "text": [
            "Downloading data from http://download.tensorflow.org/data/spa-eng.zip\n",
            "2646016/2638744 [==============================] - 0s 0us/step\n"
          ],
          "name": "stdout"
        }
      ]
    },
    {
      "cell_type": "code",
      "metadata": {
        "id": "0K8Gb7ZJZ0zs"
      },
      "source": [
        "def unicode_to_ascii(s):\r\n",
        "    return ''.join(c for c in unicodedata.normalize('NFD', s)\r\n",
        "        if unicodedata.category(c) != 'Mn')\r\n",
        "\r\n",
        "\r\n",
        "def preprocess_sentence(w):\r\n",
        "    w = unicode_to_ascii(w.lower().strip())\r\n",
        "    \r\n",
        "    w = re.sub(r\"([?.!,¿])\", r\" \\1 \", w)\r\n",
        "    w = re.sub(r'[\" \"]+', \" \", w)\r\n",
        "    \r\n",
        "    w = re.sub(r\"[^a-zA-Z?.!,¿]+\", \" \", w)\r\n",
        "    \r\n",
        "    w = w.rstrip().strip()\r\n",
        "    \r\n",
        "    w = '<start> ' + w + ' <end>'\r\n",
        "    return w"
      ],
      "execution_count": 3,
      "outputs": []
    },
    {
      "cell_type": "code",
      "metadata": {
        "id": "X5dLMjMbZ-5A"
      },
      "source": [
        "def create_dataset(path, num_examples):\r\n",
        "    lines = open(path, encoding='UTF-8').read().strip().split('\\n')\r\n",
        "    \r\n",
        "    word_pairs = [[preprocess_sentence(w) for w in l.split('\\t')]  for l in lines[:num_examples]]\r\n",
        "    \r\n",
        "    return word_pairs"
      ],
      "execution_count": 4,
      "outputs": []
    },
    {
      "cell_type": "code",
      "metadata": {
        "id": "FW-QkqLaaBxU"
      },
      "source": [
        "class LanguageIndex():\r\n",
        "  def __init__(self, lang):\r\n",
        "    self.lang = lang\r\n",
        "    self.word2idx = {}\r\n",
        "    self.idx2word = {}\r\n",
        "    self.vocab = set()\r\n",
        "    \r\n",
        "    self.create_index()\r\n",
        "    \r\n",
        "  def create_index(self):\r\n",
        "    for phrase in self.lang:\r\n",
        "      self.vocab.update(phrase.split(' '))\r\n",
        "    \r\n",
        "    self.vocab = sorted(self.vocab)\r\n",
        "    \r\n",
        "    self.word2idx['<pad>'] = 0\r\n",
        "    for index, word in enumerate(self.vocab):\r\n",
        "      self.word2idx[word] = index + 1\r\n",
        "    \r\n",
        "    for word, index in self.word2idx.items():\r\n",
        "      self.idx2word[index] = word"
      ],
      "execution_count": 5,
      "outputs": []
    },
    {
      "cell_type": "code",
      "metadata": {
        "id": "0PJObQxJaEKA"
      },
      "source": [
        "def max_length(tensor):\r\n",
        "    return max(len(t) for t in tensor)\r\n",
        "\r\n",
        "\r\n",
        "def load_dataset(path, num_examples):\r\n",
        "    pairs = create_dataset(path, num_examples)\r\n",
        "\r\n",
        "    inp_lang = LanguageIndex(sp for en, sp in pairs)\r\n",
        "    targ_lang = LanguageIndex(en for en, sp in pairs)\r\n",
        "    \r\n",
        "    input_tensor = [[inp_lang.word2idx[s] for s in sp.split(' ')] for en, sp in pairs]\r\n",
        "    \r\n",
        "    target_tensor = [[targ_lang.word2idx[s] for s in en.split(' ')] for en, sp in pairs]\r\n",
        "    \r\n",
        "    max_length_inp, max_length_tar = max_length(input_tensor), max_length(target_tensor)\r\n",
        "    \r\n",
        "    input_tensor = tf.keras.preprocessing.sequence.pad_sequences(input_tensor, \r\n",
        "                                                                 maxlen=max_length_inp,\r\n",
        "                                                                 padding='post')\r\n",
        "    \r\n",
        "    target_tensor = tf.keras.preprocessing.sequence.pad_sequences(target_tensor, \r\n",
        "                                                                  maxlen=max_length_tar, \r\n",
        "                                                                  padding='post')\r\n",
        "    \r\n",
        "    return input_tensor, target_tensor, inp_lang, targ_lang, max_length_inp, max_length_tar"
      ],
      "execution_count": 6,
      "outputs": []
    },
    {
      "cell_type": "code",
      "metadata": {
        "id": "osF_NBVhaLYd"
      },
      "source": [
        "num_examples = 30000\r\n",
        "input_tensor, target_tensor, inp_lang, targ_lang, max_length_inp, max_length_targ = load_dataset(path_to_file, num_examples)"
      ],
      "execution_count": 7,
      "outputs": []
    },
    {
      "cell_type": "code",
      "metadata": {
        "colab": {
          "base_uri": "https://localhost:8080/"
        },
        "id": "m4QVOhTYaO4L",
        "outputId": "15042b9c-af9c-4edf-98f8-4e92183020c8"
      },
      "source": [
        "input_tensor_train, input_tensor_val, target_tensor_train, target_tensor_val = train_test_split(input_tensor, target_tensor, test_size=0.2)\r\n",
        "len(input_tensor_train), len(target_tensor_train), len(input_tensor_val), len(target_tensor_val)"
      ],
      "execution_count": 8,
      "outputs": [
        {
          "output_type": "execute_result",
          "data": {
            "text/plain": [
              "(24000, 24000, 6000, 6000)"
            ]
          },
          "metadata": {
            "tags": []
          },
          "execution_count": 8
        }
      ]
    },
    {
      "cell_type": "code",
      "metadata": {
        "id": "G_FDSApRaTSI"
      },
      "source": [
        "BUFFER_SIZE = len(input_tensor_train)\r\n",
        "BATCH_SIZE = 64\r\n",
        "N_BATCH = BUFFER_SIZE//BATCH_SIZE\r\n",
        "embedding_dim = 256\r\n",
        "units = 1024\r\n",
        "vocab_inp_size = len(inp_lang.word2idx)\r\n",
        "vocab_tar_size = len(targ_lang.word2idx)\r\n",
        "\r\n",
        "dataset = tf.data.Dataset.from_tensor_slices((input_tensor_train, target_tensor_train)).shuffle(BUFFER_SIZE)\r\n",
        "dataset = dataset.batch(BATCH_SIZE, drop_remainder=True)"
      ],
      "execution_count": 9,
      "outputs": []
    },
    {
      "cell_type": "code",
      "metadata": {
        "id": "ZI_-FSTCaV9C"
      },
      "source": [
        "def gru(units):\r\n",
        "  if tf.test.is_gpu_available():\r\n",
        "    return tf.compat.v1.keras.layers.CuDNNGRU(units, \r\n",
        "                                    return_sequences=True, \r\n",
        "                                    return_state=True, \r\n",
        "                                    recurrent_initializer='glorot_uniform')\r\n",
        "  else:\r\n",
        "    return tf.compat.v1.keras.layers.GRU(units, \r\n",
        "                               return_sequences=True, \r\n",
        "                               return_state=True, \r\n",
        "                               recurrent_activation='sigmoid', \r\n",
        "                               recurrent_initializer='glorot_uniform')"
      ],
      "execution_count": 14,
      "outputs": []
    },
    {
      "cell_type": "code",
      "metadata": {
        "id": "yzxqUHIbaa6C"
      },
      "source": [
        "class Encoder(tf.keras.Model):\r\n",
        "    def __init__(self, vocab_size, embedding_dim, enc_units, batch_sz):\r\n",
        "        super(Encoder, self).__init__()\r\n",
        "        self.batch_sz = batch_sz\r\n",
        "        self.enc_units = enc_units\r\n",
        "        self.embedding = tf.keras.layers.Embedding(vocab_size, embedding_dim)\r\n",
        "        self.gru = gru(self.enc_units)\r\n",
        "        \r\n",
        "    def call(self, x, hidden):\r\n",
        "        x = self.embedding(x)\r\n",
        "        output, state = self.gru(x, initial_state = hidden)        \r\n",
        "        return output, state\r\n",
        "    \r\n",
        "    def initialize_hidden_state(self):\r\n",
        "        return tf.zeros((self.batch_sz, self.enc_units))"
      ],
      "execution_count": 15,
      "outputs": []
    },
    {
      "cell_type": "code",
      "metadata": {
        "id": "mfOzPvhPafaU"
      },
      "source": [
        "class Decoder(tf.keras.Model):\r\n",
        "    def __init__(self, vocab_size, embedding_dim, dec_units, batch_sz):\r\n",
        "        super(Decoder, self).__init__()\r\n",
        "        self.batch_sz = batch_sz\r\n",
        "        self.dec_units = dec_units\r\n",
        "        self.embedding = tf.keras.layers.Embedding(vocab_size, embedding_dim)\r\n",
        "        self.gru = gru(self.dec_units)\r\n",
        "        self.fc = tf.keras.layers.Dense(vocab_size)\r\n",
        "        \r\n",
        "\r\n",
        "        self.W1 = tf.keras.layers.Dense(self.dec_units)\r\n",
        "        self.W2 = tf.keras.layers.Dense(self.dec_units)\r\n",
        "        self.V = tf.keras.layers.Dense(1)\r\n",
        "        \r\n",
        "    def call(self, x, hidden, enc_output):     \r\n",
        "        hidden_with_time_axis = tf.expand_dims(hidden, 1)\r\n",
        "        \r\n",
        "        score = self.V(tf.nn.tanh(self.W1(enc_output) + self.W2(hidden_with_time_axis)))\r\n",
        "        \r\n",
        "        attention_weights = tf.nn.softmax(score, axis=1)\r\n",
        "        \r\n",
        "        context_vector = attention_weights * enc_output\r\n",
        "        context_vector = tf.reduce_sum(context_vector, axis=1)\r\n",
        "\r\n",
        "        x = self.embedding(x)\r\n",
        "\r\n",
        "        x = tf.concat([tf.expand_dims(context_vector, 1), x], axis=-1)\r\n",
        "        \r\n",
        "        output, state = self.gru(x)\r\n",
        "        \r\n",
        "        output = tf.reshape(output, (-1, output.shape[2]))\r\n",
        "        \r\n",
        "        x = self.fc(output)\r\n",
        "        \r\n",
        "        return x, state, attention_weights\r\n",
        "        \r\n",
        "    def initialize_hidden_state(self):\r\n",
        "        return tf.zeros((self.batch_sz, self.dec_units))"
      ],
      "execution_count": 16,
      "outputs": []
    },
    {
      "cell_type": "code",
      "metadata": {
        "id": "Seof1t7oatoQ"
      },
      "source": [
        "encoder = Encoder(vocab_inp_size, embedding_dim, units, BATCH_SIZE)\r\n",
        "decoder = Decoder(vocab_tar_size, embedding_dim, units, BATCH_SIZE)"
      ],
      "execution_count": 17,
      "outputs": []
    },
    {
      "cell_type": "code",
      "metadata": {
        "id": "ktUVEKx6axFB"
      },
      "source": [
        "optimizer = tf.compat.v1.train.AdamOptimizer()\r\n",
        "\r\n",
        "\r\n",
        "def loss_function(real, pred):\r\n",
        "  mask = 1 - np.equal(real, 0)\r\n",
        "  loss_ = tf.nn.sparse_softmax_cross_entropy_with_logits(labels=real, logits=pred) * mask\r\n",
        "  return tf.reduce_mean(loss_)"
      ],
      "execution_count": 19,
      "outputs": []
    },
    {
      "cell_type": "code",
      "metadata": {
        "id": "0S5VzrY1bcvs"
      },
      "source": [
        "checkpoint_dir = './training_checkpoints'\r\n",
        "checkpoint_prefix = os.path.join(checkpoint_dir, \"ckpt\")\r\n",
        "checkpoint = tf.train.Checkpoint(optimizer=optimizer,\r\n",
        "                                 encoder=encoder,\r\n",
        "                                 decoder=decoder)"
      ],
      "execution_count": 20,
      "outputs": []
    },
    {
      "cell_type": "code",
      "metadata": {
        "colab": {
          "base_uri": "https://localhost:8080/"
        },
        "id": "ug3Y5xATbnmg",
        "outputId": "a0f6018d-5e06-4b91-b576-aa690b89223c"
      },
      "source": [
        "EPOCHS = 10\r\n",
        "\r\n",
        "for epoch in range(EPOCHS):\r\n",
        "    start = time.time()\r\n",
        "    \r\n",
        "    hidden = encoder.initialize_hidden_state()\r\n",
        "    total_loss = 0\r\n",
        "    \r\n",
        "    for (batch, (inp, targ)) in enumerate(dataset):\r\n",
        "        loss = 0\r\n",
        "        \r\n",
        "        with tf.GradientTape() as tape:\r\n",
        "            enc_output, enc_hidden = encoder(inp, hidden)\r\n",
        "            \r\n",
        "            dec_hidden = enc_hidden\r\n",
        "            \r\n",
        "            dec_input = tf.expand_dims([targ_lang.word2idx['<start>']] * BATCH_SIZE, 1)       \r\n",
        "            \r\n",
        "            for t in range(1, targ.shape[1]):\r\n",
        "                predictions, dec_hidden, _ = decoder(dec_input, dec_hidden, enc_output)\r\n",
        "                \r\n",
        "                loss += loss_function(targ[:, t], predictions)\r\n",
        "                \r\n",
        "                dec_input = tf.expand_dims(targ[:, t], 1)\r\n",
        "        \r\n",
        "        batch_loss = (loss / int(targ.shape[1]))\r\n",
        "        \r\n",
        "        total_loss += batch_loss\r\n",
        "        \r\n",
        "        variables = encoder.variables + decoder.variables\r\n",
        "        \r\n",
        "        gradients = tape.gradient(loss, variables)\r\n",
        "        \r\n",
        "        optimizer.apply_gradients(zip(gradients, variables))\r\n",
        "        \r\n",
        "        if batch % 100 == 0:\r\n",
        "            print('Epoch {} Batch {} Loss {:.4f}'.format(epoch + 1,\r\n",
        "                                                         batch,\r\n",
        "                                                         batch_loss.numpy()))\r\n",
        "    if (epoch + 1) % 2 == 0:\r\n",
        "      checkpoint.save(file_prefix = checkpoint_prefix)\r\n",
        "    \r\n",
        "    print('Epoch {} Loss {:.4f}'.format(epoch + 1,\r\n",
        "                                        total_loss / N_BATCH))\r\n",
        "    print('Time taken for 1 epoch {} sec\\n'.format(time.time() - start))"
      ],
      "execution_count": 21,
      "outputs": [
        {
          "output_type": "stream",
          "text": [
            "Epoch 1 Batch 0 Loss 4.6023\n",
            "Epoch 1 Batch 100 Loss 2.2196\n",
            "Epoch 1 Batch 200 Loss 1.8193\n",
            "Epoch 1 Batch 300 Loss 1.6885\n",
            "Epoch 1 Loss 2.0454\n",
            "Time taken for 1 epoch 94.23614954948425 sec\n",
            "\n",
            "Epoch 2 Batch 0 Loss 1.5558\n",
            "Epoch 2 Batch 100 Loss 1.5372\n",
            "Epoch 2 Batch 200 Loss 1.4292\n",
            "Epoch 2 Batch 300 Loss 1.2719\n",
            "Epoch 2 Loss 1.4022\n",
            "Time taken for 1 epoch 80.65041279792786 sec\n",
            "\n",
            "Epoch 3 Batch 0 Loss 1.0421\n",
            "Epoch 3 Batch 100 Loss 0.9715\n",
            "Epoch 3 Batch 200 Loss 0.9801\n",
            "Epoch 3 Batch 300 Loss 0.9490\n",
            "Epoch 3 Loss 0.9857\n",
            "Time taken for 1 epoch 81.91274046897888 sec\n",
            "\n",
            "Epoch 4 Batch 0 Loss 0.7118\n",
            "Epoch 4 Batch 100 Loss 0.7758\n",
            "Epoch 4 Batch 200 Loss 0.7018\n",
            "Epoch 4 Batch 300 Loss 0.7011\n",
            "Epoch 4 Loss 0.6691\n",
            "Time taken for 1 epoch 81.89177441596985 sec\n",
            "\n",
            "Epoch 5 Batch 0 Loss 0.4490\n",
            "Epoch 5 Batch 100 Loss 0.4307\n",
            "Epoch 5 Batch 200 Loss 0.5139\n",
            "Epoch 5 Batch 300 Loss 0.4714\n",
            "Epoch 5 Loss 0.4574\n",
            "Time taken for 1 epoch 81.34421133995056 sec\n",
            "\n",
            "Epoch 6 Batch 0 Loss 0.3403\n",
            "Epoch 6 Batch 100 Loss 0.3289\n",
            "Epoch 6 Batch 200 Loss 0.2655\n",
            "Epoch 6 Batch 300 Loss 0.3244\n",
            "Epoch 6 Loss 0.3188\n",
            "Time taken for 1 epoch 82.1514720916748 sec\n",
            "\n",
            "Epoch 7 Batch 0 Loss 0.2016\n",
            "Epoch 7 Batch 100 Loss 0.2380\n",
            "Epoch 7 Batch 200 Loss 0.2262\n",
            "Epoch 7 Batch 300 Loss 0.2636\n",
            "Epoch 7 Loss 0.2293\n",
            "Time taken for 1 epoch 81.1598105430603 sec\n",
            "\n",
            "Epoch 8 Batch 0 Loss 0.1623\n",
            "Epoch 8 Batch 100 Loss 0.1635\n",
            "Epoch 8 Batch 200 Loss 0.1807\n",
            "Epoch 8 Batch 300 Loss 0.1640\n",
            "Epoch 8 Loss 0.1713\n",
            "Time taken for 1 epoch 81.05344247817993 sec\n",
            "\n",
            "Epoch 9 Batch 0 Loss 0.1258\n",
            "Epoch 9 Batch 100 Loss 0.1202\n",
            "Epoch 9 Batch 200 Loss 0.1353\n",
            "Epoch 9 Batch 300 Loss 0.1917\n",
            "Epoch 9 Loss 0.1333\n",
            "Time taken for 1 epoch 81.00469398498535 sec\n",
            "\n",
            "Epoch 10 Batch 0 Loss 0.1093\n",
            "Epoch 10 Batch 100 Loss 0.1096\n",
            "Epoch 10 Batch 200 Loss 0.1534\n",
            "Epoch 10 Batch 300 Loss 0.1152\n",
            "Epoch 10 Loss 0.1072\n",
            "Time taken for 1 epoch 81.78309917449951 sec\n",
            "\n"
          ],
          "name": "stdout"
        }
      ]
    },
    {
      "cell_type": "code",
      "metadata": {
        "id": "ZYruGZzZbwDn"
      },
      "source": [
        "def evaluate(sentence, encoder, decoder, inp_lang, targ_lang, max_length_inp, max_length_targ):\r\n",
        "    attention_plot = np.zeros((max_length_targ, max_length_inp))\r\n",
        "    \r\n",
        "    sentence = preprocess_sentence(sentence)\r\n",
        "\r\n",
        "    inputs = [inp_lang.word2idx[i] for i in sentence.split(' ')]\r\n",
        "    inputs = tf.compat.v1.keras.preprocessing.sequence.pad_sequences([inputs], maxlen=max_length_inp, padding='post')\r\n",
        "    inputs = tf.convert_to_tensor(inputs)\r\n",
        "    \r\n",
        "    result = ''\r\n",
        "\r\n",
        "    hidden = [tf.zeros((1, units))]\r\n",
        "    enc_out, enc_hidden = encoder(inputs, hidden)\r\n",
        "\r\n",
        "    dec_hidden = enc_hidden\r\n",
        "    dec_input = tf.expand_dims([targ_lang.word2idx['<start>']], 0)\r\n",
        "\r\n",
        "    for t in range(max_length_targ):\r\n",
        "        predictions, dec_hidden, attention_weights = decoder(dec_input, dec_hidden, enc_out)\r\n",
        "        \r\n",
        "        attention_weights = tf.reshape(attention_weights, (-1, ))\r\n",
        "        attention_plot[t] = attention_weights.numpy()\r\n",
        "\r\n",
        "        predicted_id = tf.argmax(predictions[0]).numpy()\r\n",
        "\r\n",
        "        result += targ_lang.idx2word[predicted_id] + ' '\r\n",
        "\r\n",
        "        if targ_lang.idx2word[predicted_id] == '<end>':\r\n",
        "            return result, sentence, attention_plot\r\n",
        "        \r\n",
        "        dec_input = tf.expand_dims([predicted_id], 0)\r\n",
        "\r\n",
        "    return result, sentence, attention_plot"
      ],
      "execution_count": 22,
      "outputs": []
    },
    {
      "cell_type": "code",
      "metadata": {
        "id": "YX_LfYzib4OJ"
      },
      "source": [
        "def plot_attention(attention, sentence, predicted_sentence):\r\n",
        "    fig = plt.figure(figsize=(10,10))\r\n",
        "    ax = fig.add_subplot(1, 1, 1)\r\n",
        "    ax.matshow(attention, cmap='viridis')\r\n",
        "    \r\n",
        "    fontdict = {'fontsize': 14}\r\n",
        "    \r\n",
        "    ax.set_xticklabels([''] + sentence, fontdict=fontdict, rotation=90)\r\n",
        "    ax.set_yticklabels([''] + predicted_sentence, fontdict=fontdict)\r\n",
        "\r\n",
        "    plt.show()"
      ],
      "execution_count": 23,
      "outputs": []
    },
    {
      "cell_type": "code",
      "metadata": {
        "id": "qEqH3nCJb6oc"
      },
      "source": [
        "def translate(sentence, encoder, decoder, inp_lang, targ_lang, max_length_inp, max_length_targ):\r\n",
        "    result, sentence, attention_plot = evaluate(sentence, encoder, decoder, inp_lang, targ_lang, max_length_inp, max_length_targ)\r\n",
        "        \r\n",
        "    print('Input: {}'.format(sentence))\r\n",
        "    print('Predicted translation: {}'.format(result))\r\n",
        "    \r\n",
        "    attention_plot = attention_plot[:len(result.split(' ')), :len(sentence.split(' '))]\r\n",
        "    plot_attention(attention_plot, sentence.split(' '), result.split(' '))"
      ],
      "execution_count": 24,
      "outputs": []
    },
    {
      "cell_type": "code",
      "metadata": {
        "colab": {
          "base_uri": "https://localhost:8080/"
        },
        "id": "bnu-SrJrb9HY",
        "outputId": "582f2991-4919-42e8-e943-864cb5617efe"
      },
      "source": [
        "checkpoint.restore(tf.train.latest_checkpoint(checkpoint_dir))"
      ],
      "execution_count": 25,
      "outputs": [
        {
          "output_type": "execute_result",
          "data": {
            "text/plain": [
              "<tensorflow.python.training.tracking.util.CheckpointLoadStatus at 0x7f9bbcf05978>"
            ]
          },
          "metadata": {
            "tags": []
          },
          "execution_count": 25
        }
      ]
    },
    {
      "cell_type": "code",
      "metadata": {
        "colab": {
          "base_uri": "https://localhost:8080/",
          "height": 676
        },
        "id": "z4DyhdvfcAJ6",
        "outputId": "d69cd1d7-f8f7-49c3-ed22-9070c357a693"
      },
      "source": [
        "translate(u'hace mucho frio aqui.', encoder, decoder, inp_lang, targ_lang, max_length_inp, max_length_targ)"
      ],
      "execution_count": 26,
      "outputs": [
        {
          "output_type": "stream",
          "text": [
            "Input: <start> hace mucho frio aqui . <end>\n",
            "Predicted translation: it s very cold here . <end> \n"
          ],
          "name": "stdout"
        },
        {
          "output_type": "display_data",
          "data": {
            "image/png": "[encoded data removed]",
            "text/plain": [
              "<Figure size 720x720 with 1 Axes>"
            ]
          },
          "metadata": {
            "tags": [],
            "needs_background": "light"
          }
        }
      ]
    },
    {
      "cell_type": "code",
      "metadata": {
        "colab": {
          "base_uri": "https://localhost:8080/",
          "height": 676
        },
        "id": "L5EEIQgicC42",
        "outputId": "454da542-8bd9-4086-d63a-dcec86e1cc88"
      },
      "source": [
        "translate(u'esta es mi vida.', encoder, decoder, inp_lang, targ_lang, max_length_inp, max_length_targ)"
      ],
      "execution_count": 27,
      "outputs": [
        {
          "output_type": "stream",
          "text": [
            "Input: <start> esta es mi vida . <end>\n",
            "Predicted translation: this is my life . <end> \n"
          ],
          "name": "stdout"
        },
        {
          "output_type": "display_data",
          "data": {
            "image/png": "[encoded data removed]",
            "text/plain": [
              "<Figure size 720x720 with 1 Axes>"
            ]
          },
          "metadata": {
            "tags": [],
            "needs_background": "light"
          }
        }
      ]
    },
    {
      "cell_type": "code",
      "metadata": {
        "colab": {
          "base_uri": "https://localhost:8080/",
          "height": 676
        },
        "id": "Npahg0ZAcFW_",
        "outputId": "6d39df15-8cf2-42d8-b61c-2a3ca76403c7"
      },
      "source": [
        "translate(u'todavia estan en casa?', encoder, decoder, inp_lang, targ_lang, max_length_inp, max_length_targ)"
      ],
      "execution_count": 28,
      "outputs": [
        {
          "output_type": "stream",
          "text": [
            "Input: <start> todavia estan en casa ? <end>\n",
            "Predicted translation: you re still at home . <end> \n"
          ],
          "name": "stdout"
        },
        {
          "output_type": "display_data",
          "data": {
            "image/png": "[encoded data removed]",
            "text/plain": [
              "<Figure size 720x720 with 1 Axes>"
            ]
          },
          "metadata": {
            "tags": [],
            "needs_background": "light"
          }
        }
      ]
    },
    {
      "cell_type": "code",
      "metadata": {
        "colab": {
          "base_uri": "https://localhost:8080/",
          "height": 700
        },
        "id": "bAvqCE1vcHiU",
        "outputId": "4dc6bdc5-9044-4fa8-f9cf-250431ce574e"
      },
      "source": [
        "translate(u'trata de averiguarlo.', encoder, decoder, inp_lang, targ_lang, max_length_inp, max_length_targ)"
      ],
      "execution_count": 29,
      "outputs": [
        {
          "output_type": "stream",
          "text": [
            "Input: <start> trata de averiguarlo . <end>\n",
            "Predicted translation: try to figure it out . <end> \n"
          ],
          "name": "stdout"
        },
        {
          "output_type": "display_data",
          "data": {
            "image/png": "[encoded data removed]",
            "text/plain": [
              "<Figure size 720x720 with 1 Axes>"
            ]
          },
          "metadata": {
            "tags": [],
            "needs_background": "light"
          }
        }
      ]
    }
  ]
}