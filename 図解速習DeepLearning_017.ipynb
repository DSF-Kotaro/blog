{
  "nbformat": 4,
  "nbformat_minor": 0,
  "metadata": {
    "colab": {
      "name": "図解速習DeepLearning_017.ipynb",
      "provenance": [],
      "collapsed_sections": [],
      "authorship_tag": "ABX9TyOnc4TKF/d0P/mzKQhiSueX",
      "include_colab_link": true
    },
    "kernelspec": {
      "name": "python3",
      "display_name": "Python 3"
    },
    "accelerator": "TPU"
  },
  "cells": [
    {
      "cell_type": "markdown",
      "metadata": {
        "id": "view-in-github",
        "colab_type": "text"
      },
      "source": [
        "<a href=\"https://colab.research.google.com/github/DSF-Kotaro/blog/blob/main/%E5%9B%B3%E8%A7%A3%E9%80%9F%E7%BF%92DeepLearning_017.ipynb\" target=\"_parent\"><img src=\"https://colab.research.google.com/assets/colab-badge.svg\" alt=\"Open In Colab\"/></a>"
      ]
    },
    {
      "cell_type": "code",
      "metadata": {
        "id": "tKwwD59bDpvL"
      },
      "source": [
        "from __future__ import absolute_import, division, print_function\r\n",
        "from sklearn.model_selection import train_test_split\r\n",
        "from sklearn.utils import shuffle\r\n",
        "from glob import glob\r\n",
        "from PIL import Image\r\n",
        "import tensorflow as tf\r\n",
        "import matplotlib.pyplot as plt\r\n",
        "import re\r\n",
        "import numpy as np\r\n",
        "import os\r\n",
        "import time\r\n",
        "import json\r\n",
        "import pickle"
      ],
      "execution_count": 1,
      "outputs": []
    },
    {
      "cell_type": "code",
      "metadata": {
        "colab": {
          "base_uri": "https://localhost:8080/"
        },
        "id": "Vs0-y2EbEFve",
        "outputId": "233a35f4-82ea-4594-800e-b0576dcdc57e"
      },
      "source": [
        "annotation_zip = tf.keras.utils.get_file('captions.zip', \r\n",
        "                                          cache_subdir=os.path.abspath('.'),\r\n",
        "                                          origin = 'http://images.cocodataset.org/annotations/annotations_trainval2014.zip',\r\n",
        "                                          extract = True)\r\n",
        "annotation_file = os.path.dirname(annotation_zip)+'/annotations/captions_train2014.json'\r\n",
        "\r\n",
        "name_of_zip = 'train2014.zip'\r\n",
        "if not os.path.exists(os.path.abspath('.') + '/' + name_of_zip):\r\n",
        "  image_zip = tf.keras.utils.get_file(name_of_zip, \r\n",
        "                                      cache_subdir=os.path.abspath('.'),\r\n",
        "                                      origin = 'http://images.cocodataset.org/zips/train2014.zip',\r\n",
        "                                      extract = True)\r\n",
        "  PATH = os.path.dirname(image_zip)+'/train2014/'\r\n",
        "else:\r\n",
        "  PATH = os.path.abspath('.')+'/train2014/'"
      ],
      "execution_count": null,
      "outputs": [
        {
          "output_type": "stream",
          "text": [
            "Downloading data from http://images.cocodataset.org/annotations/annotations_trainval2014.zip\n",
            "252878848/252872794 [==============================] - 3s 0us/step\n",
            "Downloading data from http://images.cocodataset.org/zips/train2014.zip\n",
            "13510574080/13510573713 [==============================] - 215s 0us/step\n"
          ],
          "name": "stdout"
        }
      ]
    },
    {
      "cell_type": "code",
      "metadata": {
        "id": "30FIuAPMEIjV"
      },
      "source": [
        "with open(annotation_file, 'r') as f:\r\n",
        "    annotations = json.load(f)\r\n",
        "\r\n",
        "all_captions = []\r\n",
        "all_img_name_vector = []\r\n",
        "\r\n",
        "for annot in annotations['annotations']:\r\n",
        "    caption = '<start> ' + annot['caption'] + ' <end>'\r\n",
        "    image_id = annot['image_id']\r\n",
        "    full_coco_image_path = PATH + 'COCO_train2014_' + '%012d.jpg' % (image_id)\r\n",
        "    \r\n",
        "    all_img_name_vector.append(full_coco_image_path)\r\n",
        "    all_captions.append(caption)\r\n",
        "\r\n",
        "train_captions, img_name_vector = shuffle(all_captions,\r\n",
        "                                          all_img_name_vector,\r\n",
        "                                          random_state=1)\r\n",
        "\r\n",
        "num_examples = 30000\r\n",
        "train_captions = train_captions[:num_examples]\r\n",
        "img_name_vector = img_name_vector[:num_examples]"
      ],
      "execution_count": null,
      "outputs": []
    },
    {
      "cell_type": "code",
      "metadata": {
        "id": "53vsGQ9pEYpz"
      },
      "source": [
        "len(train_captions), len(all_captions)"
      ],
      "execution_count": null,
      "outputs": []
    },
    {
      "cell_type": "code",
      "metadata": {
        "id": "rE4XBjGeEcAq"
      },
      "source": [
        "def load_image(image_path):\r\n",
        "    img = tf.io.read_file(image_path)\r\n",
        "    img = tf.image.decode_jpeg(img, channels=3)\r\n",
        "    img = tf.image.resize(img, (299, 299))\r\n",
        "    img = tf.keras.applications.inception_v3.preprocess_input(img)\r\n",
        "    return img, image_path"
      ],
      "execution_count": null,
      "outputs": []
    },
    {
      "cell_type": "code",
      "metadata": {
        "id": "o35KHlfzEeCe"
      },
      "source": [
        "image_model = tf.keras.applications.InceptionV3(include_top=False, \r\n",
        "                                                weights='imagenet')\r\n",
        "new_input = image_model.input\r\n",
        "hidden_layer = image_model.layers[-1].output\r\n",
        "\r\n",
        "image_features_extract_model = tf.keras.Model(new_input, hidden_layer)"
      ],
      "execution_count": null,
      "outputs": []
    },
    {
      "cell_type": "code",
      "metadata": {
        "id": "5RgS8GPiEgvf"
      },
      "source": [
        "encode_train = sorted(set(img_name_vector))\r\n",
        "\r\n",
        "image_dataset = tf.data.Dataset.from_tensor_slices(encode_train)\r\n",
        "image_dataset = image_dataset.map(\r\n",
        "  load_image, num_parallel_calls=tf.data.experimental.AUTOTUNE).batch(16)\r\n",
        "\r\n",
        "for img, path in image_dataset:\r\n",
        "  batch_features = image_features_extract_model(img)\r\n",
        "  batch_features = tf.reshape(batch_features, \r\n",
        "                              (batch_features.shape[0], -1, batch_features.shape[3]))\r\n",
        "\r\n",
        "  for bf, p in zip(batch_features, path):\r\n",
        "    path_of_feature = p.numpy().decode(\"utf-8\")\r\n",
        "    np.save(path_of_feature, bf.numpy())"
      ],
      "execution_count": null,
      "outputs": []
    },
    {
      "cell_type": "code",
      "metadata": {
        "id": "niqYoT5vEkbH"
      },
      "source": [
        "def calc_max_length(tensor):\r\n",
        "    return max(len(t) for t in tensor)"
      ],
      "execution_count": null,
      "outputs": []
    },
    {
      "cell_type": "code",
      "metadata": {
        "id": "MH8XbQphEmrV"
      },
      "source": [
        "top_k = 5000\r\n",
        "tokenizer = tf.keras.preprocessing.text.Tokenizer(num_words=top_k, \r\n",
        "                                                  oov_token=\"<unk>\", \r\n",
        "                                                  filters='!\"#$%&()*+.,-/:;=?@[\\]^_`{|}~ ')\r\n",
        "tokenizer.fit_on_texts(train_captions)\r\n",
        "train_seqs = tokenizer.texts_to_sequences(train_captions)"
      ],
      "execution_count": null,
      "outputs": []
    },
    {
      "cell_type": "code",
      "metadata": {
        "id": "jei5rtH4Eo5V"
      },
      "source": [
        "tokenizer.word_index['<pad>'] = 0\r\n",
        "tokenizer.index_word[0] = '<pad>'"
      ],
      "execution_count": null,
      "outputs": []
    },
    {
      "cell_type": "code",
      "metadata": {
        "id": "tBUcNJBtErBz"
      },
      "source": [
        "train_seqs = tokenizer.texts_to_sequences(train_captions)"
      ],
      "execution_count": null,
      "outputs": []
    },
    {
      "cell_type": "code",
      "metadata": {
        "id": "KCJG9v3IEvCt"
      },
      "source": [
        "cap_vector = tf.keras.preprocessing.sequence.pad_sequences(train_seqs, padding='post')"
      ],
      "execution_count": null,
      "outputs": []
    },
    {
      "cell_type": "code",
      "metadata": {
        "id": "lPILe2JQEvUo"
      },
      "source": [
        "max_length = calc_max_length(train_seqs)"
      ],
      "execution_count": null,
      "outputs": []
    },
    {
      "cell_type": "code",
      "metadata": {
        "id": "Q8ExP_rsEx7f"
      },
      "source": [
        "img_name_train, img_name_val, cap_train, cap_val = train_test_split(img_name_vector, \r\n",
        "                                                                    cap_vector, \r\n",
        "                                                                    test_size=0.2, \r\n",
        "                                                                    random_state=0)"
      ],
      "execution_count": null,
      "outputs": []
    },
    {
      "cell_type": "code",
      "metadata": {
        "id": "5BO7d592Ezf7"
      },
      "source": [
        "len(img_name_train), len(cap_train), len(img_name_val), len(cap_val)"
      ],
      "execution_count": null,
      "outputs": []
    },
    {
      "cell_type": "code",
      "metadata": {
        "id": "MwqaLXkHE1F8"
      },
      "source": [
        "BATCH_SIZE = 64\r\n",
        "BUFFER_SIZE = 1000\r\n",
        "embedding_dim = 256\r\n",
        "units = 512\r\n",
        "vocab_size = len(tokenizer.word_index) + 1\r\n",
        "num_steps = len(img_name_train) // BATCH_SIZE\r\n",
        "\r\n",
        "features_shape = 2048\r\n",
        "attention_features_shape = 64"
      ],
      "execution_count": null,
      "outputs": []
    },
    {
      "cell_type": "code",
      "metadata": {
        "id": "V-gxsoBEE4Rz"
      },
      "source": [
        "def map_func(img_name, cap):\r\n",
        "  img_tensor = np.load(img_name.decode('utf-8')+'.npy')\r\n",
        "  return img_tensor, cap"
      ],
      "execution_count": null,
      "outputs": []
    },
    {
      "cell_type": "code",
      "metadata": {
        "id": "s0cs6ZI4E6t6"
      },
      "source": [
        "dataset = tf.data.Dataset.from_tensor_slices((img_name_train, cap_train))\r\n",
        "\r\n",
        "dataset = dataset.map(lambda item1, item2: tf.numpy_function(\r\n",
        "          map_func, [item1, item2], [tf.float32, tf.int32]), \r\n",
        "          num_parallel_calls=tf.data.experimental.AUTOTUNE)\r\n",
        "\r\n",
        "dataset = dataset.shuffle(BUFFER_SIZE).batch(BATCH_SIZE)\r\n",
        "dataset = dataset.prefetch(buffer_size=tf.data.experimental.AUTOTUNE)"
      ],
      "execution_count": null,
      "outputs": []
    },
    {
      "cell_type": "code",
      "metadata": {
        "id": "zs_P4ZunE_uc"
      },
      "source": [
        "class BahdanauAttention(tf.keras.Model):\r\n",
        "  def __init__(self, units):\r\n",
        "    super(BahdanauAttention, self).__init__()\r\n",
        "    self.W1 = tf.keras.layers.Dense(units)\r\n",
        "    self.W2 = tf.keras.layers.Dense(units)\r\n",
        "    self.V = tf.keras.layers.Dense(1)\r\n",
        "  \r\n",
        "  def call(self, features, hidden):\r\n",
        "    hidden_with_time_axis = tf.expand_dims(hidden, 1)\r\n",
        "    score = tf.nn.tanh(self.W1(features) + self.W2(hidden_with_time_axis))\r\n",
        "    attention_weights = tf.nn.softmax(self.V(score), axis=1)\r\n",
        "    context_vector = attention_weights * features\r\n",
        "    context_vector = tf.reduce_sum(context_vector, axis=1)\r\n",
        "    return context_vector, attention_weights"
      ],
      "execution_count": null,
      "outputs": []
    },
    {
      "cell_type": "code",
      "metadata": {
        "id": "6SIGWBveFHEH"
      },
      "source": [
        "class CNN_Encoder(tf.keras.Model):\r\n",
        "    def __init__(self, embedding_dim):\r\n",
        "        super(CNN_Encoder, self).__init__()\r\n",
        "        self.fc = tf.keras.layers.Dense(embedding_dim)\r\n",
        "        \r\n",
        "    def call(self, x):\r\n",
        "        x = self.fc(x)\r\n",
        "        x = tf.nn.relu(x)\r\n",
        "        return x"
      ],
      "execution_count": null,
      "outputs": []
    },
    {
      "cell_type": "code",
      "metadata": {
        "id": "gBYA-AL6FLov"
      },
      "source": [
        "class RNN_Decoder(tf.keras.Model):\r\n",
        "  def __init__(self, embedding_dim, units, vocab_size):\r\n",
        "    super(RNN_Decoder, self).__init__()\r\n",
        "    self.units = units\r\n",
        "\r\n",
        "    self.embedding = tf.keras.layers.Embedding(vocab_size, embedding_dim)\r\n",
        "    self.gru = tf.keras.layers.GRU(self.units, \r\n",
        "                                   return_sequences=True, \r\n",
        "                                   return_state=True, \r\n",
        "                                   recurrent_initializer='glorot_uniform')\r\n",
        "    self.fc1 = tf.keras.layers.Dense(self.units)\r\n",
        "    self.fc2 = tf.keras.layers.Dense(vocab_size)\r\n",
        "    \r\n",
        "    self.attention = BahdanauAttention(self.units)\r\n",
        "        \r\n",
        "  def call(self, x, features, hidden):\r\n",
        "    context_vector, attention_weights = self.attention(features, hidden)\r\n",
        "    \r\n",
        "    x = self.embedding(x)\r\n",
        "    \r\n",
        "    x = tf.concat([tf.expand_dims(context_vector, 1), x], axis=-1)\r\n",
        "    \r\n",
        "    output, state = self.gru(x)\r\n",
        "    \r\n",
        "    x = self.fc1(output)\r\n",
        "    \r\n",
        "    x = tf.reshape(x, (-1, x.shape[2]))\r\n",
        "    \r\n",
        "    x = self.fc2(x)\r\n",
        "\r\n",
        "    return x, state, attention_weights\r\n",
        "\r\n",
        "  def reset_state(self, batch_size):\r\n",
        "    return tf.zeros((batch_size, self.units))"
      ],
      "execution_count": null,
      "outputs": []
    },
    {
      "cell_type": "code",
      "metadata": {
        "id": "uapx3QJgFUSM"
      },
      "source": [
        "encoder = CNN_Encoder(embedding_dim)\r\n",
        "decoder = RNN_Decoder(embedding_dim, units, vocab_size)"
      ],
      "execution_count": null,
      "outputs": []
    },
    {
      "cell_type": "code",
      "metadata": {
        "id": "kMsW7z0vFWhw"
      },
      "source": [
        "optimizer = tf.keras.optimizers.Adam()\r\n",
        "loss_object = tf.keras.losses.SparseCategoricalCrossentropy(from_logits=True)\r\n",
        "\r\n",
        "def loss_function(real, pred):\r\n",
        "  mask = tf.math.logical_not(tf.math.equal(real, 0))\r\n",
        "  loss_ = loss_object(real, pred)\r\n",
        "\r\n",
        "  mask = tf.cast(mask, dtype=loss_.dtype)\r\n",
        "  loss_ *= mask\r\n",
        "  \r\n",
        "  return tf.reduce_mean(loss_)"
      ],
      "execution_count": null,
      "outputs": []
    },
    {
      "cell_type": "code",
      "metadata": {
        "id": "DiA5hdiqFaEq"
      },
      "source": [
        "checkpoint_path = \"./checkpoints/train\"\r\n",
        "ckpt = tf.compat.v1.train.Checkpoint(encoder=encoder, \r\n",
        "                           decoder=decoder,\r\n",
        "                           optimizer = optimizer)\r\n",
        "ckpt_manager = tf.compat.v1.train.CheckpointManager(ckpt, checkpoint_path, max_to_keep=5)"
      ],
      "execution_count": null,
      "outputs": []
    },
    {
      "cell_type": "code",
      "metadata": {
        "id": "xNBMRYe8Fb55"
      },
      "source": [
        "start_epoch = 0\r\n",
        "if ckpt_manager.latest_checkpoint:\r\n",
        "  start_epoch = int(ckpt_manager.latest_checkpoint.split('-')[-1])"
      ],
      "execution_count": null,
      "outputs": []
    },
    {
      "cell_type": "code",
      "metadata": {
        "id": "2w2Ldl0dFd5W"
      },
      "source": [
        "loss_plot = []"
      ],
      "execution_count": null,
      "outputs": []
    },
    {
      "cell_type": "code",
      "metadata": {
        "id": "yQ9hi9GdFfjg"
      },
      "source": [
        "@tf.function\r\n",
        "def train_step(img_tensor, target):\r\n",
        "  loss = 0\r\n",
        "        \r\n",
        "  hidden = decoder.reset_state(batch_size=target.shape[0])\r\n",
        "\r\n",
        "  dec_input = tf.expand_dims([tokenizer.word_index['<start>']] * BATCH_SIZE, 1)\r\n",
        "  \r\n",
        "  with tf.GradientTape() as tape:\r\n",
        "      features = encoder(img_tensor)\r\n",
        "      \r\n",
        "      for i in range(1, target.shape[1]):\r\n",
        "          predictions, hidden, _ = decoder(dec_input, features, hidden)\r\n",
        "\r\n",
        "          loss += loss_function(target[:, i], predictions)\r\n",
        "          \r\n",
        "          dec_input = tf.expand_dims(target[:, i], 1)\r\n",
        "  \r\n",
        "  total_loss = (loss / int(target.shape[1]))\r\n",
        "  \r\n",
        "  trainable_variables = encoder.trainable_variables + decoder.trainable_variables\r\n",
        "  \r\n",
        "  gradients = tape.gradient(loss, trainable_variables) \r\n",
        "  \r\n",
        "  optimizer.apply_gradients(zip(gradients, trainable_variables))\r\n",
        "\r\n",
        "  return loss, total_loss"
      ],
      "execution_count": null,
      "outputs": []
    },
    {
      "cell_type": "code",
      "metadata": {
        "id": "WP8FQs7KFiyh"
      },
      "source": [
        "EPOCHS = 20\r\n",
        "\r\n",
        "for epoch in range(start_epoch, EPOCHS):\r\n",
        "    start = time.time()\r\n",
        "    total_loss = 0\r\n",
        "    \r\n",
        "    for (batch, (img_tensor, target)) in enumerate(dataset):\r\n",
        "        batch_loss, t_loss = train_step(img_tensor, target)\r\n",
        "        total_loss += t_loss\r\n",
        "        \r\n",
        "        if batch % 100 == 0:\r\n",
        "            print ('Epoch {} Batch {} Loss {:.4f}'.format(\r\n",
        "              epoch + 1, batch, batch_loss.numpy() / int(target.shape[1])))\r\n",
        "    loss_plot.append(total_loss / num_steps)\r\n",
        "\r\n",
        "    if epoch % 5 == 0:\r\n",
        "      ckpt_manager.save()\r\n",
        "    \r\n",
        "    print ('Epoch {} Loss {:.6f}'.format(epoch + 1, \r\n",
        "                                         total_loss/num_steps))\r\n",
        "    print ('Time taken for 1 epoch {} sec\\n'.format(time.time() - start))"
      ],
      "execution_count": null,
      "outputs": []
    },
    {
      "cell_type": "code",
      "metadata": {
        "id": "YrCfE5k6Fm7f"
      },
      "source": [
        "plt.plot(loss_plot)\r\n",
        "plt.xlabel('Epochs')\r\n",
        "plt.ylabel('Loss')\r\n",
        "plt.title('Loss Plot')\r\n",
        "plt.show()"
      ],
      "execution_count": null,
      "outputs": []
    },
    {
      "cell_type": "code",
      "metadata": {
        "id": "R3jX2Y7QFr_M"
      },
      "source": [
        "def evaluate(image):\r\n",
        "    attention_plot = np.zeros((max_length, attention_features_shape))\r\n",
        "\r\n",
        "    hidden = decoder.reset_state(batch_size=1)\r\n",
        "\r\n",
        "    temp_input = tf.expand_dims(load_image(image)[0], 0)\r\n",
        "    img_tensor_val = image_features_extract_model(temp_input)\r\n",
        "    img_tensor_val = tf.reshape(img_tensor_val, (img_tensor_val.shape[0], -1, img_tensor_val.shape[3]))\r\n",
        "\r\n",
        "    features = encoder(img_tensor_val)\r\n",
        "\r\n",
        "    dec_input = tf.expand_dims([tokenizer.word_index['<start>']], 0)\r\n",
        "    result = []\r\n",
        "\r\n",
        "    for i in range(max_length):\r\n",
        "        predictions, hidden, attention_weights = decoder(dec_input, features, hidden)\r\n",
        "\r\n",
        "        attention_plot[i] = tf.reshape(attention_weights, (-1, )).numpy()\r\n",
        "\r\n",
        "        predicted_id = tf.math.argmax(predictions[0]).numpy()\r\n",
        "        result.append(tokenizer.index_word[predicted_id])\r\n",
        "\r\n",
        "        if tokenizer.index_word[predicted_id] == '<end>':\r\n",
        "            return result, attention_plot\r\n",
        "\r\n",
        "        dec_input = tf.expand_dims([predicted_id], 0)\r\n",
        "\r\n",
        "    attention_plot = attention_plot[:len(result), :]\r\n",
        "    return result, attention_plot"
      ],
      "execution_count": null,
      "outputs": []
    },
    {
      "cell_type": "code",
      "metadata": {
        "id": "J2-yvGuOFvxq"
      },
      "source": [
        "def plot_attention(image, result, attention_plot):\r\n",
        "    temp_image = np.array(Image.open(image))\r\n",
        "\r\n",
        "    fig = plt.figure(figsize=(10, 10))\r\n",
        "    \r\n",
        "    len_result = len(result)\r\n",
        "    for l in range(len_result):\r\n",
        "        temp_att = np.resize(attention_plot[l], (8, 8))\r\n",
        "        ax = fig.add_subplot(len_result//2, len_result//2, l+1)\r\n",
        "        ax.set_title(result[l])\r\n",
        "        img = ax.imshow(temp_image)\r\n",
        "        ax.imshow(temp_att, cmap='gray', alpha=0.6, extent=img.get_extent())\r\n",
        "\r\n",
        "    plt.tight_layout()\r\n",
        "    plt.show()"
      ],
      "execution_count": null,
      "outputs": []
    },
    {
      "cell_type": "code",
      "metadata": {
        "id": "8Fh8GCLUFyO2"
      },
      "source": [
        "rid = np.random.randint(0, len(img_name_val))\r\n",
        "image = img_name_val[rid]\r\n",
        "real_caption = ' '.join([tokenizer.index_word[i] for i in cap_val[rid] if i not in [0]])\r\n",
        "result, attention_plot = evaluate(image)\r\n",
        "\r\n",
        "print ('Real Caption:', real_caption)\r\n",
        "print ('Prediction Caption:', ' '.join(result))\r\n",
        "plot_attention(image, result, attention_plot)\r\n",
        "\r\n",
        "Image.open(img_name_val[rid])"
      ],
      "execution_count": null,
      "outputs": []
    },
    {
      "cell_type": "code",
      "metadata": {
        "id": "GC61cKpuF1R0"
      },
      "source": [
        "image_url = 'https://tensorflow.org/images/surf.jpg'\r\n",
        "image_extension = image_url[-4:]\r\n",
        "image_path = tf.keras.utils.get_file('image'+image_extension, \r\n",
        "                                     origin=image_url)\r\n",
        "\r\n",
        "result, attention_plot = evaluate(image_path)\r\n",
        "print ('Prediction Caption:', ' '.join(result))\r\n",
        "plot_attention(image_path, result, attention_plot)\r\n",
        "\r\n",
        "Image.open(image_path)"
      ],
      "execution_count": null,
      "outputs": []
    }
  ]
}