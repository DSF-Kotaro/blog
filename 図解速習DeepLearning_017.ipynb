{
  "nbformat": 4,
  "nbformat_minor": 0,
  "metadata": {
    "colab": {
      "name": "図解速習DeepLearning_017.ipynb",
      "provenance": [],
      "authorship_tag": "ABX9TyNkaHTXZGJ/XkLm+wk9lO5B",
      "include_colab_link": true
    },
    "kernelspec": {
      "name": "python3",
      "display_name": "Python 3"
    }
  },
  "cells": [
    {
      "cell_type": "markdown",
      "metadata": {
        "id": "view-in-github",
        "colab_type": "text"
      },
      "source": [
        "<a href=\"https://colab.research.google.com/github/DSF-Kotaro/blog/blob/main/%E5%9B%B3%E8%A7%A3%E9%80%9F%E7%BF%92DeepLearning_017.ipynb\" target=\"_parent\"><img src=\"https://colab.research.google.com/assets/colab-badge.svg\" alt=\"Open In Colab\"/></a>"
      ]
    },
    {
      "cell_type": "code",
      "metadata": {
        "id": "wmnAj4Blr1NG"
      },
      "source": [
        "# <アプリケーションID>:<クライアントID>の形でコロンつなぎで一つの文字列として設定してください\r\n",
        "cli_id = '<アプリケーションID>:<クライアントID>'\r\n",
        "# クライアントシークレットを文字列に設定してください (他の人に漏洩しないよう管理してください)\r\n",
        "cli_secret = '<クライアントシークレット>'"
      ],
      "execution_count": 1,
      "outputs": []
    },
    {
      "cell_type": "code",
      "metadata": {
        "id": "NYQQFsxMs7Ya"
      },
      "source": [
        "\r\n",
        "import requests\r\n",
        "url = \"https://auth.mimi.fd.ai/v2/token\"\r\n",
        "\r\n",
        "payload = {\r\n",
        "    'client_id': cli_id,\r\n",
        "    'client_secret': cli_secret,\r\n",
        "    'grant_type': 'https://auth.mimi.fd.ai/grant_type/client_credentials',\r\n",
        "    'scope': 'https://apis.mimi.fd.ai/auth/asr/websocket-api-service;https://apis.mimi.fd.ai/auth/asr/http-api-service;https://apis.mimi.fd.ai/auth/nict-asr/websocket-api-service;https://apis.mimi.fd.ai/auth/nict-asr/http-api-service;https://apis.mimi.fd.ai/auth/nict-tts/http-api-service;https://apis.mimi.fd.ai/auth/nict-tra/http-api-service',\r\n",
        "}\r\n",
        "resp = requests.post(url, data=payload)\r\n",
        "if resp.status_code == 200:\r\n",
        "  token = resp.json()['accessToken']\r\n",
        "else:\r\n",
        "  token = ''\r\n",
        "token"
      ],
      "execution_count": null,
      "outputs": []
    },
    {
      "cell_type": "code",
      "metadata": {
        "id": "_6GleEdVs956"
      },
      "source": [
        "try:\r\n",
        "  data = open('audio.raw', 'rb').read()\r\n",
        "except FileNotFoundError:\r\n",
        "  data = requests.get('https://github.com/FairyDevicesRD/libmimiio/raw/master/examples/audio.raw').content\r\n",
        "  \r\n",
        "data"
      ],
      "execution_count": null,
      "outputs": []
    },
    {
      "cell_type": "code",
      "metadata": {
        "id": "R59ZwLeztAbp"
      },
      "source": [
        "\r\n",
        "headers = {\r\n",
        "    'Authorization': 'Bearer {}'.format(token),\r\n",
        "    'Content-Type': 'audio/x-pcm;bit=16;rate=16000;channels=1',\r\n",
        "    'x-mimi-input-language': 'ja',\r\n",
        "    'x-mimi-process': 'asr',\r\n",
        "}\r\n",
        "\r\n",
        "url = 'https://service.mimi.fd.ai/'\r\n",
        "resp = requests.post(url, headers=headers, data=data)\r\n",
        "resp.json()"
      ],
      "execution_count": null,
      "outputs": []
    },
    {
      "cell_type": "code",
      "metadata": {
        "id": "E6NCvAwYtCvZ"
      },
      "source": [
        "headers = {\r\n",
        "    'Authorization': 'Bearer {}'.format(token),\r\n",
        "    'Content-Type': 'audio/x-pcm;bit=16;rate=16000;channels=1',\r\n",
        "    'x-mimi-input-language': 'ja',\r\n",
        "    'x-mimi-process': 'nict-asr',\r\n",
        "}\r\n",
        "\r\n",
        "url = 'https://service.mimi.fd.ai/'\r\n",
        "resp = requests.post(url, headers=headers, data=data)\r\n",
        "resp.json()"
      ],
      "execution_count": null,
      "outputs": []
    },
    {
      "cell_type": "code",
      "metadata": {
        "id": "xrHHSqAftFFh"
      },
      "source": [
        "headers = {\r\n",
        "    'Authorization': 'Bearer {}'.format(token),\r\n",
        "}\r\n",
        "\r\n",
        "data = {\r\n",
        "    'source_lang': 'ja',\r\n",
        "    'target_lang': 'en',\r\n",
        "    'text': \"ちょっと遅い昼食をとるためファミリーレストランに入ったのです。\",\r\n",
        "}\r\n",
        "\r\n",
        "url = 'https://tra.mimi.fd.ai/machine_translation'\r\n",
        "resp = requests.post(url, headers=headers, data=data)\r\n",
        "resp.json()"
      ],
      "execution_count": null,
      "outputs": []
    },
    {
      "cell_type": "code",
      "metadata": {
        "id": "UGlkANsptHEB"
      },
      "source": [
        "\r\n",
        "headers = {\r\n",
        "    'Authorization': 'Bearer {}'.format(token),\r\n",
        "}\r\n",
        "\r\n",
        "data = {\r\n",
        "    'lang': 'ja',\r\n",
        "    'engine': 'nict',\r\n",
        "    'text': 'ちょっと遅い昼食をとるためファミリーレストランに入ったのです。',\r\n",
        "}\r\n",
        "\r\n",
        "url = 'https://tts.mimi.fd.ai/speech_synthesis'\r\n",
        "resp = requests.post(url, headers=headers, data=data)\r\n",
        "if resp.status_code == 200:\r\n",
        "  with open('resp.wav', 'wb') as fout:\r\n",
        "    fout.write(resp.content)\r\n",
        "    \"speech synthesis succeeded.\"\r\n",
        "else:\r\n",
        "  resp.json()"
      ],
      "execution_count": null,
      "outputs": []
    },
    {
      "cell_type": "code",
      "metadata": {
        "id": "aWBD6g5NtJL5"
      },
      "source": [
        "from IPython.display import Audio\r\n",
        "Audio('resp.wav')"
      ],
      "execution_count": null,
      "outputs": []
    }
  ]
}