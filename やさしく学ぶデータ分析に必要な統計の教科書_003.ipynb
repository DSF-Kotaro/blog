{
  "nbformat": 4,
  "nbformat_minor": 0,
  "metadata": {
    "colab": {
      "name": "やさしく学ぶデータ分析に必要な統計の教科書_#003.ipynb",
      "provenance": [],
      "collapsed_sections": [],
      "authorship_tag": "ABX9TyP+gzHO07mrS8YmdBqV5IIq",
      "include_colab_link": true
    },
    "kernelspec": {
      "name": "python3",
      "display_name": "Python 3"
    }
  },
  "cells": [
    {
      "cell_type": "markdown",
      "metadata": {
        "id": "view-in-github",
        "colab_type": "text"
      },
      "source": [
        "<a href=\"https://colab.research.google.com/github/DSF-Kotaro/blog/blob/main/%E3%82%84%E3%81%95%E3%81%97%E3%81%8F%E5%AD%A6%E3%81%B6%E3%83%87%E3%83%BC%E3%82%BF%E5%88%86%E6%9E%90%E3%81%AB%E5%BF%85%E8%A6%81%E3%81%AA%E7%B5%B1%E8%A8%88%E3%81%AE%E6%95%99%E7%A7%91%E6%9B%B8_003.ipynb\" target=\"_parent\"><img src=\"https://colab.research.google.com/assets/colab-badge.svg\" alt=\"Open In Colab\"/></a>"
      ]
    },
    {
      "cell_type": "code",
      "metadata": {
        "id": "nFg-OSRdIXtc"
      },
      "source": [
        "import numpy as np\r\n",
        "import pandas as pd\r\n",
        "import matplotlib.pyplot as plt\r\n",
        "#matplotlib inline"
      ],
      "execution_count": 3,
      "outputs": []
    },
    {
      "cell_type": "code",
      "metadata": {
        "id": "gOGAnkuPIYVC"
      },
      "source": [
        "sample_df = pd.read_csv('3.csv' , sep=',')\r\n",
        "sample2_df = pd.read_csv('3_2.csv' , sep=',')\r\n",
        "sample3_df = pd.read_csv('3_3.csv' , sep=',')\r\n",
        "sample4_df = pd.read_csv('3_4.csv' , sep=',')\r\n",
        "sample5_df = pd.read_csv('3_5.csv' , sep=',')\r\n",
        "sample6_df = pd.read_csv('3_6.csv' , sep=',')\r\n",
        "sample7_8_9_12_df = pd.read_csv('3_7-8-9-12.csv' , sep=',')\r\n",
        "sample10_11_df = pd.read_csv('3_10-11.csv' , sep=',')"
      ],
      "execution_count": 4,
      "outputs": []
    },
    {
      "cell_type": "code",
      "metadata": {
        "id": "lycFWyE93jgM"
      },
      "source": [
        ""
      ],
      "execution_count": null,
      "outputs": []
    }
  ]
}