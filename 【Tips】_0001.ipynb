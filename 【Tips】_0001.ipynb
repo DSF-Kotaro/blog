{
  "nbformat": 4,
  "nbformat_minor": 0,
  "metadata": {
    "colab": {
      "name": "【Tips】#0001.ipynb",
      "provenance": [],
      "authorship_tag": "ABX9TyPnBS1yWDpNvyM6edTdxNdd",
      "include_colab_link": true
    },
    "kernelspec": {
      "name": "python3",
      "display_name": "Python 3"
    }
  },
  "cells": [
    {
      "cell_type": "markdown",
      "metadata": {
        "id": "view-in-github",
        "colab_type": "text"
      },
      "source": [
        "<a href=\"https://colab.research.google.com/github/DSF-Kotaro/blog/blob/main/%E3%80%90Tips%E3%80%91_0001.ipynb\" target=\"_parent\"><img src=\"https://colab.research.google.com/assets/colab-badge.svg\" alt=\"Open In Colab\"/></a>"
      ]
    },
    {
      "cell_type": "code",
      "metadata": {
        "colab": {
          "base_uri": "https://localhost:8080/"
        },
        "id": "XTBs4KO9_J59",
        "outputId": "088e3a92-b882-4b1e-d6d7-fc1b3774a749"
      },
      "source": [
        "!pip install gspread"
      ],
      "execution_count": null,
      "outputs": [
        {
          "output_type": "stream",
          "text": [
            "Requirement already satisfied: gspread in /usr/local/lib/python3.6/dist-packages (3.0.1)\n",
            "Requirement already satisfied: requests>=2.2.1 in /usr/local/lib/python3.6/dist-packages (from gspread) (2.23.0)\n",
            "Requirement already satisfied: chardet<4,>=3.0.2 in /usr/local/lib/python3.6/dist-packages (from requests>=2.2.1->gspread) (3.0.4)\n",
            "Requirement already satisfied: idna<3,>=2.5 in /usr/local/lib/python3.6/dist-packages (from requests>=2.2.1->gspread) (2.10)\n",
            "Requirement already satisfied: certifi>=2017.4.17 in /usr/local/lib/python3.6/dist-packages (from requests>=2.2.1->gspread) (2020.12.5)\n",
            "Requirement already satisfied: urllib3!=1.25.0,!=1.25.1,<1.26,>=1.21.1 in /usr/local/lib/python3.6/dist-packages (from requests>=2.2.1->gspread) (1.24.3)\n"
          ],
          "name": "stdout"
        }
      ]
    },
    {
      "cell_type": "code",
      "metadata": {
        "id": "c1unFwl3AroJ"
      },
      "source": [
        "from google.colab import auth\r\n",
        "from oauth2client.client import GoogleCredentials\r\n",
        "import gspread\r\n",
        "\r\n",
        "import pandas as pd\r\n",
        "import json\r\n",
        "from oauth2client.service_account import ServiceAccountCredentials"
      ],
      "execution_count": null,
      "outputs": []
    },
    {
      "cell_type": "code",
      "metadata": {
        "id": "BHZozkDRCJ7U"
      },
      "source": [
        "scope = ['https://spredsheets.google.com/feeds','https;//www.googleapis.com/auth/drive']\r\n",
        "\r\n",
        "credentials = ServiceAccountCredentials.from_json_keyfile_name('秘密鍵JSON', scope)\r\n",
        "\r\n",
        "gc = gspred.authorize(credentials)\r\n",
        "\r\n",
        "SPREDSHEET_KEY = 'スプレッドシートキー'\r\n",
        "\r\n",
        "worksheet = gc.open_by_key(SPREDSHEET_KEY).sheet1"
      ],
      "execution_count": null,
      "outputs": []
    },
    {
      "cell_type": "code",
      "metadata": {
        "id": "M5qGjB1qCMxB"
      },
      "source": [
        "sample_df = pd.DataFrame(worksheet.get_all_value())"
      ],
      "execution_count": null,
      "outputs": []
    },
    {
      "cell_type": "code",
      "metadata": {
        "id": "nQX9IAXmDb9L"
      },
      "source": [
        "df.columns = list(df.loc[0,:])\r\n",
        "df.drop(0,inplace = True)\r\n",
        "df.reset_index(inplace =True)\r\n",
        "df.drop('index',axis = 1, inplace = True)"
      ],
      "execution_count": null,
      "outputs": []
    }
  ]
}