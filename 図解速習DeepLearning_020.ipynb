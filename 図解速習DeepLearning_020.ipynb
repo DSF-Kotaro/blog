{
  "nbformat": 4,
  "nbformat_minor": 0,
  "metadata": {
    "colab": {
      "name": "図解速習DeepLearning_020.ipynb",
      "provenance": [],
      "authorship_tag": "ABX9TyNHW0zwwgFFwcMkz/FLC8Z+",
      "include_colab_link": true
    },
    "kernelspec": {
      "name": "python3",
      "display_name": "Python 3"
    }
  },
  "cells": [
    {
      "cell_type": "markdown",
      "metadata": {
        "id": "view-in-github",
        "colab_type": "text"
      },
      "source": [
        "<a href=\"https://colab.research.google.com/github/DSF-Kotaro/blog/blob/main/%E5%9B%B3%E8%A7%A3%E9%80%9F%E7%BF%92DeepLearning_020.ipynb\" target=\"_parent\"><img src=\"https://colab.research.google.com/assets/colab-badge.svg\" alt=\"Open In Colab\"/></a>"
      ]
    },
    {
      "cell_type": "code",
      "metadata": {
        "id": "9sl_Q5d-vG6c"
      },
      "source": [
        "#%tensorflow_version 1.x\r\n",
        "import glob\r\n",
        "\r\n",
        "print 'Copying checkpoints and example MIDI from GCS. This will take a few minutes...'\r\n",
        "!gsutil -q -m cp -R gs://download.magenta.tensorflow.org/models/music_vae/colab2/* /content/\r\n",
        "\r\n",
        "print 'Installing dependencies...'\r\n",
        "!apt-get update -qq && apt-get install -qq libfluidsynth1 fluid-soundfont-gm build-essential libasound2-dev libjack-dev\r\n",
        "!pip install -q pyfluidsynth\r\n",
        "!pip install -q magenta==0.5\r\n",
        "\r\n",
        "import ctypes.util\r\n",
        "orig_ctypes_util_find_library = ctypes.util.find_library\r\n",
        "def proxy_find_library(lib):\r\n",
        "  if lib == 'fluidsynth':\r\n",
        "    return 'libfluidsynth.so.1'\r\n",
        "  else:\r\n",
        "    return orig_ctypes_util_find_library(lib)\r\n",
        "ctypes.util.find_library = proxy_find_library\r\n",
        "\r\n",
        "\r\n",
        "print 'Importing libraries and defining some helper functions...'\r\n",
        "from google.colab import files\r\n",
        "import magenta.music as mm\r\n",
        "from magenta.models.music_vae import configs\r\n",
        "from magenta.models.music_vae.trained_model import TrainedModel\r\n",
        "import numpy as np\r\n",
        "import os\r\n",
        "import tensorflow as tf\r\n",
        "\r\n",
        "import warnings\r\n",
        "warnings.filterwarnings(\"ignore\", category=DeprecationWarning)\r\n",
        "\r\n",
        "def play(note_sequence):\r\n",
        "  mm.play_sequence(note_sequence, synth=mm.fluidsynth)\r\n",
        "\r\n",
        "def interpolate(model, start_seq, end_seq, num_steps, max_length=32,\r\n",
        "                assert_same_length=True, temperature=0.5,\r\n",
        "                individual_duration=4.0):\r\n",
        "  \"\"\"Interpolates between a start and end sequence.\"\"\"\r\n",
        "  note_sequences = model.interpolate(\r\n",
        "      start_seq, end_seq,num_steps=num_steps, length=max_length,\r\n",
        "      temperature=temperature,\r\n",
        "      assert_same_length=assert_same_length)\r\n",
        "\r\n",
        "  print 'Start Seq Reconstruction'\r\n",
        "  play(note_sequences[0])\r\n",
        "  print 'End Seq Reconstruction'\r\n",
        "  play(note_sequences[-1])\r\n",
        "  print 'Mean Sequence'\r\n",
        "  play(note_sequences[num_steps // 2])\r\n",
        "  print 'Start -> End Interpolation'\r\n",
        "  interp_seq = mm.sequences_lib.concatenate_sequences(\r\n",
        "      note_sequences, [individual_duration] * len(note_sequences))\r\n",
        "  play(interp_seq)\r\n",
        "  mm.plot_sequence(interp_seq)\r\n",
        "  return interp_seq if num_steps > 3 else note_sequences[num_steps // 2]\r\n",
        "\r\n",
        "def download(note_sequence, filename):\r\n",
        "  mm.sequence_proto_to_midi_file(note_sequence, filename)\r\n",
        "  files.download(filename)\r\n",
        "\r\n",
        "print 'Done'"
      ],
      "execution_count": null,
      "outputs": []
    },
    {
      "cell_type": "code",
      "metadata": {
        "id": "rE1HRhuLBFa7"
      },
      "source": [
        "drums_models = {}\r\n",
        "drums_config = configs.CONFIG_MAP['cat-drums_2bar_small']\r\n",
        "drums_models['drums_2bar_oh_lokl'] = TrainedModel(drums_config, batch_size=4, checkpoint_dir_or_path='/content/checkpoints/drums_2bar_small.lokl.ckpt')\r\n",
        "drums_models['drums_2bar_oh_hikl'] = TrainedModel(drums_config, batch_size=4, checkpoint_dir_or_path='/content/checkpoints/drums_2bar_small.hikl.ckpt')\r\n",
        "\r\n",
        "drums_nade_reduced_config = configs.CONFIG_MAP['nade-drums_2bar_reduced']\r\n",
        "drums_models['drums_2bar_nade_reduced'] = TrainedModel(drums_nade_reduced_config, batch_size=4, checkpoint_dir_or_path='/content/checkpoints/drums_2bar_nade.reduced.ckpt')\r\n",
        "drums_nade_full_config = configs.CONFIG_MAP['nade-drums_2bar_full']\r\n",
        "drums_models['drums_2bar_nade_full'] = TrainedModel(drums_nade_full_config, batch_size=4, checkpoint_dir_or_path='/content/checkpoints/drums_2bar_nade.full.ckpt')"
      ],
      "execution_count": null,
      "outputs": []
    },
    {
      "cell_type": "code",
      "metadata": {
        "id": "_JId5v7_BGME"
      },
      "source": [
        "#@title Generate 4 samples from the prior of one of the models listed above.\r\n",
        "drums_sample_model = \"drums_2bar_oh_lokl\" #@param [\"drums_2bar_oh_lokl\", \"drums_2bar_oh_hikl\", \"drums_2bar_nade_reduced\", \"drums_2bar_nade_full\"]\r\n",
        "temperature = 0.5 #@param {type:\"slider\", min:0.1, max:1.5, step:0.1}\r\n",
        "drums_samples = drums_models[drums_sample_model].sample(n=4, length=32, temperature=temperature)\r\n",
        "for ns in drums_samples:\r\n",
        "  play(ns)"
      ],
      "execution_count": null,
      "outputs": []
    },
    {
      "cell_type": "code",
      "metadata": {
        "id": "GlmmlB9rBInr"
      },
      "source": [
        "for i, ns in enumerate(drums_samples):\r\n",
        "  download(ns, '%s_sample_%d.mid' % (drums_sample_model, i))"
      ],
      "execution_count": null,
      "outputs": []
    },
    {
      "cell_type": "code",
      "metadata": {
        "id": "hxSDI5kNBKYj"
      },
      "source": [
        "input_drums_midi_data = [\r\n",
        "    tf.gfile.Open(fn).read()\r\n",
        "    for fn in sorted(tf.gfile.Glob('/content/midi/drums_2bar*.mid'))]"
      ],
      "execution_count": null,
      "outputs": []
    },
    {
      "cell_type": "code",
      "metadata": {
        "id": "23WqPw48BMNL"
      },
      "source": [
        "input_drums_midi_data = files.upload().values() or input_drums_midi_data"
      ],
      "execution_count": null,
      "outputs": []
    },
    {
      "cell_type": "code",
      "metadata": {
        "id": "ox1b1bnpBNuS"
      },
      "source": [
        "drums_input_seqs = [mm.midi_to_sequence_proto(m) for m in input_drums_midi_data]\r\n",
        "extracted_beats = []\r\n",
        "for ns in drums_input_seqs:\r\n",
        "  extracted_beats.extend(drums_nade_full_config.data_converter.to_notesequences(\r\n",
        "      drums_nade_full_config.data_converter.to_tensors(ns)[1]))\r\n",
        "for i, ns in enumerate(extracted_beats):\r\n",
        "  print \"Beat\", i\r\n",
        "  play(ns)"
      ],
      "execution_count": null,
      "outputs": []
    },
    {
      "cell_type": "code",
      "metadata": {
        "id": "_Sb__-GfBQFd"
      },
      "source": [
        "#@title Interpolate between 2 beats, selected from those in the previous cell.\r\n",
        "drums_interp_model = \"drums_2bar_oh_hikl\" #@param [\"drums_2bar_oh_lokl\", \"drums_2bar_oh_hikl\", \"drums_2bar_nade_reduced\", \"drums_2bar_nade_full\"]\r\n",
        "start_beat = 0 #@param {type:\"integer\"}\r\n",
        "end_beat = 1 #@param {type:\"integer\"}\r\n",
        "start_beat = extracted_beats[start_beat]\r\n",
        "end_beat = extracted_beats[end_beat]\r\n",
        "\r\n",
        "temperature = 0.5 #@param {type:\"slider\", min:0.1, max:1.5, step:0.1}\r\n",
        "num_steps = 13 #@param {type:\"integer\"}\r\n",
        "\r\n",
        "drums_interp = interpolate(drums_models[drums_interp_model], start_beat, end_beat, num_steps=num_steps, temperature=temperature)"
      ],
      "execution_count": null,
      "outputs": []
    },
    {
      "cell_type": "code",
      "metadata": {
        "id": "Txodn_GsBSCq"
      },
      "source": [
        "download(drums_interp, '%s_interp.mid' % drums_interp_model)"
      ],
      "execution_count": null,
      "outputs": []
    },
    {
      "cell_type": "code",
      "metadata": {
        "id": "zoVFS0_7BTyr"
      },
      "source": [
        "mel_2bar_config = configs.CONFIG_MAP['cat-mel_2bar_big']\r\n",
        "mel_2bar = TrainedModel(mel_2bar_config, batch_size=4, checkpoint_dir_or_path='/content/checkpoints/mel_2bar_big.ckpt')"
      ],
      "execution_count": null,
      "outputs": []
    },
    {
      "cell_type": "code",
      "metadata": {
        "id": "VY9A3-MVBV6H"
      },
      "source": [
        "#@title Generate 4 samples from the prior.\r\n",
        "temperature = 0.5 #@param {type:\"slider\", min:0.1, max:1.5, step:0.1}\r\n",
        "mel_2_samples = mel_2bar.sample(n=4, length=32, temperature=temperature)\r\n",
        "for ns in mel_2_samples:\r\n",
        "  play(ns)"
      ],
      "execution_count": null,
      "outputs": []
    },
    {
      "cell_type": "code",
      "metadata": {
        "id": "qAM3QPl9BXAK"
      },
      "source": [
        "for i, ns in enumerate(mel_2_samples):\r\n",
        "  download(ns, 'mel_2bar_sample_%d.mid' % i)"
      ],
      "execution_count": null,
      "outputs": []
    },
    {
      "cell_type": "code",
      "metadata": {
        "id": "OCqGj3oRBYZy"
      },
      "source": [
        "input_mel_midi_data = [\r\n",
        "    tf.gfile.Open(fn).read()\r\n",
        "    for fn in sorted(tf.gfile.Glob('/content/midi/mel_2bar*.mid'))]"
      ],
      "execution_count": null,
      "outputs": []
    },
    {
      "cell_type": "code",
      "metadata": {
        "id": "vhPHii-RBaKS"
      },
      "source": [
        "input_mel_midi_data = files.upload().values() or input_mel_midi_data"
      ],
      "execution_count": null,
      "outputs": []
    },
    {
      "cell_type": "code",
      "metadata": {
        "id": "nlMRPZv9BbnL"
      },
      "source": [
        "mel_input_seqs = [mm.midi_to_sequence_proto(m) for m in input_mel_midi_data]\r\n",
        "extracted_mels = []\r\n",
        "for ns in mel_input_seqs:\r\n",
        "  extracted_mels.extend(\r\n",
        "      mel_2bar_config.data_converter.to_notesequences(\r\n",
        "          mel_2bar_config.data_converter.to_tensors(ns)[1]))\r\n",
        "for i, ns in enumerate(extracted_mels):\r\n",
        "  print \"Melody\", i\r\n",
        "  play(ns)"
      ],
      "execution_count": null,
      "outputs": []
    },
    {
      "cell_type": "code",
      "metadata": {
        "id": "qxoFdnX1BdnD"
      },
      "source": [
        "#@title Interpolate between 2 melodies, selected from those in the previous cell.\r\n",
        "start_melody = 0 #@param {type:\"integer\"}\r\n",
        "end_melody = 1 #@param {type:\"integer\"}\r\n",
        "start_mel = extracted_mels[start_melody]\r\n",
        "end_mel = extracted_mels[end_melody]\r\n",
        "\r\n",
        "temperature = 0.5 #@param {type:\"slider\", min:0.1, max:1.5, step:0.1}\r\n",
        "num_steps = 13 #@param {type:\"integer\"}\r\n",
        "\r\n",
        "mel_2bar_interp = interpolate(mel_2bar, start_mel, end_mel, num_steps=num_steps, temperature=temperature)"
      ],
      "execution_count": null,
      "outputs": []
    },
    {
      "cell_type": "code",
      "metadata": {
        "id": "j8qmQ9maBfcD"
      },
      "source": [
        "download(mel_2bar_interp, 'mel_2bar_interp.mid')"
      ],
      "execution_count": null,
      "outputs": []
    },
    {
      "cell_type": "code",
      "metadata": {
        "id": "XIhWI_LzBhPT"
      },
      "source": [
        "mel_16bar_models = {}\r\n",
        "hierdec_mel_16bar_config = configs.CONFIG_MAP['hierdec-mel_16bar']\r\n",
        "mel_16bar_models['hierdec_mel_16bar'] = TrainedModel(hierdec_mel_16bar_config, batch_size=4, checkpoint_dir_or_path='/content/checkpoints/mel_16bar_hierdec.ckpt')\r\n",
        "\r\n",
        "flat_mel_16bar_config = configs.CONFIG_MAP['flat-mel_16bar']\r\n",
        "mel_16bar_models['baseline_flat_mel_16bar'] = TrainedModel(flat_mel_16bar_config, batch_size=4, checkpoint_dir_or_path='/content/checkpoints/mel_16bar_flat.ckpt')"
      ],
      "execution_count": null,
      "outputs": []
    },
    {
      "cell_type": "code",
      "metadata": {
        "id": "uVHp0kDVBjAm"
      },
      "source": [
        "#@title Generate 4 samples from the selected model prior.\r\n",
        "mel_sample_model = \"hierdec_mel_16bar\" #@param [\"hierdec_mel_16bar\", \"baseline_flat_mel_16bar\"]\r\n",
        "temperature = 0.5 #@param {type:\"slider\", min:0.1, max:1.5, step:0.1}\r\n",
        "mel_16_samples = mel_16bar_models[mel_sample_model].sample(n=4, length=256, temperature=temperature)\r\n",
        "for ns in mel_16_samples:\r\n",
        "  play(ns)"
      ],
      "execution_count": null,
      "outputs": []
    },
    {
      "cell_type": "code",
      "metadata": {
        "id": "jzAK30wyBkl0"
      },
      "source": [
        "input_mel_16_midi_data = [\r\n",
        "    tf.gfile.Open(fn).read()\r\n",
        "    for fn in sorted(tf.gfile.Glob('/content/midi/mel_16bar*.mid'))]"
      ],
      "execution_count": null,
      "outputs": []
    },
    {
      "cell_type": "code",
      "metadata": {
        "id": "-kWcrj_DBmWL"
      },
      "source": [
        "input_mel_16_midi_data = files.upload().values() or input_mel_16_midi_data"
      ],
      "execution_count": null,
      "outputs": []
    },
    {
      "cell_type": "code",
      "metadata": {
        "id": "8P_I8sxCBnsL"
      },
      "source": [
        "mel_input_seqs = [mm.midi_to_sequence_proto(m) for m in input_mel_16_midi_data]\r\n",
        "extracted_16_mels = []\r\n",
        "for ns in mel_input_seqs:\r\n",
        "  extracted_16_mels.extend(\r\n",
        "      hierdec_mel_16bar_config.data_converter.to_notesequences(\r\n",
        "          hierdec_mel_16bar_config.data_converter.to_tensors(ns)[1]))\r\n",
        "for i, ns in enumerate(extracted_16_mels):\r\n",
        "  print \"Melody\", i\r\n",
        "  play(ns)"
      ],
      "execution_count": null,
      "outputs": []
    },
    {
      "cell_type": "code",
      "metadata": {
        "id": "9jNv9jOfBpuV"
      },
      "source": [
        "#@title Compute the reconstructions and mean of the two melodies, selected from the previous cell.\r\n",
        "mel_interp_model = \"hierdec_mel_16bar\" #@param [\"hierdec_mel_16bar\", \"baseline_flat_mel_16bar\"]\r\n",
        "\r\n",
        "start_melody = 0 #@param {type:\"integer\"}\r\n",
        "end_melody = 1 #@param {type:\"integer\"}\r\n",
        "start_mel = extracted_16_mels[start_melody]\r\n",
        "end_mel = extracted_16_mels[end_melody]\r\n",
        "\r\n",
        "temperature = 0.5 #@param {type:\"slider\", min:0.1, max:1.5, step:0.1}\r\n",
        "\r\n",
        "mel_16bar_mean = interpolate(mel_16bar_models[mel_interp_model], start_mel, end_mel, num_steps=3, max_length=256, individual_duration=32, temperature=temperature)"
      ],
      "execution_count": null,
      "outputs": []
    },
    {
      "cell_type": "code",
      "metadata": {
        "id": "mCvnl_LUBrMU"
      },
      "source": [
        "download(mel_16bar_mean, '%s_mean.mid' % mel_interp_model)"
      ],
      "execution_count": null,
      "outputs": []
    },
    {
      "cell_type": "code",
      "metadata": {
        "id": "yG8iqjBXBswi"
      },
      "source": [
        "trio_models = {}\r\n",
        "hierdec_trio_16bar_config = configs.CONFIG_MAP['hierdec-trio_16bar']\r\n",
        "trio_models['hierdec_trio_16bar'] = TrainedModel(hierdec_trio_16bar_config, batch_size=4, checkpoint_dir_or_path='/content/checkpoints/trio_16bar_hierdec.ckpt')\r\n",
        "\r\n",
        "flat_trio_16bar_config = configs.CONFIG_MAP['flat-trio_16bar']\r\n",
        "trio_models['baseline_flat_trio_16bar'] = TrainedModel(flat_trio_16bar_config, batch_size=4, checkpoint_dir_or_path='/content/checkpoints/trio_16bar_flat.ckpt')"
      ],
      "execution_count": null,
      "outputs": []
    },
    {
      "cell_type": "code",
      "metadata": {
        "id": "3q8hK6WQBuo8"
      },
      "source": [
        "#@title Generate 4 samples from the selected model prior.\r\n",
        "trio_sample_model = \"hierdec_trio_16bar\" #@param [\"hierdec_trio_16bar\", \"baseline_flat_trio_16bar\"]\r\n",
        "temperature = 0.5 #@param {type:\"slider\", min:0.1, max:1.5, step:0.1}\r\n",
        "\r\n",
        "trio_16_samples = trio_models[trio_sample_model].sample(n=4, length=256, temperature=temperature)\r\n",
        "for ns in trio_16_samples:\r\n",
        "  play(ns)"
      ],
      "execution_count": null,
      "outputs": []
    },
    {
      "cell_type": "code",
      "metadata": {
        "id": "ur7QF7SzBwyS"
      },
      "source": [
        "for i, ns in enumerate(trio_16_samples):\r\n",
        "  download(ns, '%s_sample_%d.mid' % (trio_sample_model, i))"
      ],
      "execution_count": null,
      "outputs": []
    },
    {
      "cell_type": "code",
      "metadata": {
        "id": "1WgmMOWiByHb"
      },
      "source": [
        "input_trio_midi_data = [\r\n",
        "    tf.gfile.Open(fn).read()\r\n",
        "    for fn in sorted(tf.gfile.Glob('/content/midi/trio_16bar*.mid'))]"
      ],
      "execution_count": null,
      "outputs": []
    },
    {
      "cell_type": "code",
      "metadata": {
        "id": "aOsA2xEYBzqC"
      },
      "source": [
        "input_trio_midi_data = files.upload().values() or input_trio_midi_data"
      ],
      "execution_count": null,
      "outputs": []
    },
    {
      "cell_type": "code",
      "metadata": {
        "id": "1Q-jzJYxB1sS"
      },
      "source": [
        "trio_input_seqs = [mm.midi_to_sequence_proto(m) for m in input_trio_midi_data]\r\n",
        "extracted_trios = []\r\n",
        "for ns in trio_input_seqs:\r\n",
        "  extracted_trios.extend(\r\n",
        "      hierdec_trio_16bar_config.data_converter.to_notesequences(\r\n",
        "          hierdec_trio_16bar_config.data_converter.to_tensors(ns)[1]))\r\n",
        "for i, ns in enumerate(extracted_trios):\r\n",
        "  print \"Trio\", i\r\n",
        "  play(ns)"
      ],
      "execution_count": null,
      "outputs": []
    },
    {
      "cell_type": "code",
      "metadata": {
        "id": "_iLBJnPmB3Pi"
      },
      "source": [
        "#@title Compute the reconstructions and mean of the two trios, selected from the previous cell.\r\n",
        "trio_interp_model = \"hierdec_trio_16bar\" #@param [\"hierdec_trio_16bar\", \"baseline_flat_trio_16bar\"]\r\n",
        "\r\n",
        "start_trio = 0 #@param {type:\"integer\"}\r\n",
        "end_trio = 1 #@param {type:\"integer\"}\r\n",
        "start_trio = extracted_trios[start_trio]\r\n",
        "end_trio = extracted_trios[end_trio]\r\n",
        "\r\n",
        "temperature = 0.5 #@param {type:\"slider\", min:0.1, max:1.5, step:0.1}\r\n",
        "trio_16bar_mean = interpolate(trio_models[trio_interp_model], start_trio, end_trio, num_steps=3, max_length=256, individual_duration=32, temperature=temperature)"
      ],
      "execution_count": null,
      "outputs": []
    },
    {
      "cell_type": "code",
      "metadata": {
        "id": "Kkt8syRhB5Dj"
      },
      "source": [
        "download(trio_16bar_mean, '%s_mean.mid' % trio_interp_model)"
      ],
      "execution_count": null,
      "outputs": []
    }
  ]
}