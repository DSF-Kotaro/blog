{
  "nbformat": 4,
  "nbformat_minor": 0,
  "metadata": {
    "colab": {
      "name": "図解速習DeepLearning_013.ipynb",
      "provenance": [],
      "authorship_tag": "ABX9TyM4W8/tDC+bFec7DCTWSmJc",
      "include_colab_link": true
    },
    "kernelspec": {
      "name": "python3",
      "display_name": "Python 3"
    },
    "accelerator": "GPU"
  },
  "cells": [
    {
      "cell_type": "markdown",
      "metadata": {
        "id": "view-in-github",
        "colab_type": "text"
      },
      "source": [
        "<a href=\"https://colab.research.google.com/github/DSF-Kotaro/blog/blob/main/%E5%9B%B3%E8%A7%A3%E9%80%9F%E7%BF%92DeepLearning_013.ipynb\" target=\"_parent\"><img src=\"https://colab.research.google.com/assets/colab-badge.svg\" alt=\"Open In Colab\"/></a>"
      ]
    },
    {
      "cell_type": "code",
      "metadata": {
        "id": "DikQfhxC6Q6i"
      },
      "source": [
        "import tensorflow as tf\r\n",
        "import tensorflow_hub as hub\r\n",
        "import matplotlib.pyplot as plt\r\n",
        "import numpy as np\r\n",
        "import os\r\n",
        "import pandas as pd\r\n",
        "import re\r\n",
        "import seaborn as sns"
      ],
      "execution_count": 1,
      "outputs": []
    },
    {
      "cell_type": "code",
      "metadata": {
        "colab": {
          "base_uri": "https://localhost:8080/",
          "height": 230
        },
        "id": "_VUoySW36m_w",
        "outputId": "47548288-fa53-4723-c47c-843ebd092cfc"
      },
      "source": [
        "# Load all files from a directory in a DataFrame.\r\n",
        "def load_directory_data(directory):\r\n",
        "  data = {}\r\n",
        "  data[\"sentence\"] = []\r\n",
        "  data[\"sentiment\"] = []\r\n",
        "  for file_path in os.listdir(directory):\r\n",
        "    with tf.io.gfile.GFile(os.path.join(directory, file_path), \"r\") as f:\r\n",
        "      data[\"sentence\"].append(f.read())\r\n",
        "      data[\"sentiment\"].append(re.match(\"\\d+_(\\d+)\\.txt\", file_path).group(1))\r\n",
        "  return pd.DataFrame.from_dict(data)\r\n",
        "\r\n",
        "# Merge positive and negative examples, add a polarity column and shuffle.\r\n",
        "def load_dataset(directory):\r\n",
        "  pos_df = load_directory_data(os.path.join(directory, \"pos\"))\r\n",
        "  neg_df = load_directory_data(os.path.join(directory, \"neg\"))\r\n",
        "  pos_df[\"polarity\"] = 1\r\n",
        "  neg_df[\"polarity\"] = 0\r\n",
        "  return pd.concat([pos_df, neg_df]).sample(frac=1).reset_index(drop=True)\r\n",
        "\r\n",
        "# Download and process the dataset files.\r\n",
        "def download_and_load_datasets(force_download=False):\r\n",
        "  dataset = tf.keras.utils.get_file(\r\n",
        "      fname=\"aclImdb.tar.gz\", \r\n",
        "      origin=\"http://ai.stanford.edu/~amaas/data/sentiment/aclImdb_v1.tar.gz\", \r\n",
        "      extract=True)\r\n",
        "  \r\n",
        "  train_df = load_dataset(os.path.join(os.path.dirname(dataset), \r\n",
        "                                       \"aclImdb\", \"train\"))\r\n",
        "  test_df = load_dataset(os.path.join(os.path.dirname(dataset), \r\n",
        "                                      \"aclImdb\", \"test\"))\r\n",
        "  \r\n",
        "  return train_df, test_df\r\n",
        "\r\n",
        "# Reduce logging output.\r\n",
        "tf.compat.v1.logging.set_verbosity(tf.compat.v1.logging.ERROR)\r\n",
        "\r\n",
        "train_df, test_df = download_and_load_datasets()\r\n",
        "train_df.head()"
      ],
      "execution_count": 2,
      "outputs": [
        {
          "output_type": "stream",
          "text": [
            "Downloading data from http://ai.stanford.edu/~amaas/data/sentiment/aclImdb_v1.tar.gz\n",
            "84131840/84125825 [==============================] - 4s 0us/step\n"
          ],
          "name": "stdout"
        },
        {
          "output_type": "execute_result",
          "data": {
            "text/html": [
              "<div>\n",
              "<style scoped>\n",
              "    .dataframe tbody tr th:only-of-type {\n",
              "        vertical-align: middle;\n",
              "    }\n",
              "\n",
              "    .dataframe tbody tr th {\n",
              "        vertical-align: top;\n",
              "    }\n",
              "\n",
              "    .dataframe thead th {\n",
              "        text-align: right;\n",
              "    }\n",
              "</style>\n",
              "<table border=\"1\" class=\"dataframe\">\n",
              "  <thead>\n",
              "    <tr style=\"text-align: right;\">\n",
              "      <th></th>\n",
              "      <th>sentence</th>\n",
              "      <th>sentiment</th>\n",
              "      <th>polarity</th>\n",
              "    </tr>\n",
              "  </thead>\n",
              "  <tbody>\n",
              "    <tr>\n",
              "      <th>0</th>\n",
              "      <td>Running Man viciously lampoons the modern-day ...</td>\n",
              "      <td>8</td>\n",
              "      <td>1</td>\n",
              "    </tr>\n",
              "    <tr>\n",
              "      <th>1</th>\n",
              "      <td>This was director von Stroheim's third effort ...</td>\n",
              "      <td>4</td>\n",
              "      <td>0</td>\n",
              "    </tr>\n",
              "    <tr>\n",
              "      <th>2</th>\n",
              "      <td>A cannibalistic backwoods killer is on the pro...</td>\n",
              "      <td>1</td>\n",
              "      <td>0</td>\n",
              "    </tr>\n",
              "    <tr>\n",
              "      <th>3</th>\n",
              "      <td>After seeing Jeremy Brett as Sherlock Holmes, ...</td>\n",
              "      <td>10</td>\n",
              "      <td>1</td>\n",
              "    </tr>\n",
              "    <tr>\n",
              "      <th>4</th>\n",
              "      <td>Assassin Hauser's (John Cusak) mission is to w...</td>\n",
              "      <td>2</td>\n",
              "      <td>0</td>\n",
              "    </tr>\n",
              "  </tbody>\n",
              "</table>\n",
              "</div>"
            ],
            "text/plain": [
              "                                            sentence sentiment  polarity\n",
              "0  Running Man viciously lampoons the modern-day ...         8         1\n",
              "1  This was director von Stroheim's third effort ...         4         0\n",
              "2  A cannibalistic backwoods killer is on the pro...         1         0\n",
              "3  After seeing Jeremy Brett as Sherlock Holmes, ...        10         1\n",
              "4  Assassin Hauser's (John Cusak) mission is to w...         2         0"
            ]
          },
          "metadata": {
            "tags": []
          },
          "execution_count": 2
        }
      ]
    },
    {
      "cell_type": "code",
      "metadata": {
        "id": "nQ3D0RF26s4C"
      },
      "source": [
        "# Training input on the whole training set with no limit on training epochs.\r\n",
        "train_input_fn = tf.compat.v1.estimator.inputs.pandas_input_fn(\r\n",
        "    train_df, train_df[\"polarity\"], num_epochs=None, shuffle=True)\r\n",
        "\r\n",
        "# Prediction on the whole training set.\r\n",
        "predict_train_input_fn = tf.compat.v1.estimator.inputs.pandas_input_fn(\r\n",
        "    train_df, train_df[\"polarity\"], shuffle=False)\r\n",
        "# Prediction on the test set.\r\n",
        "predict_test_input_fn = tf.compat.v1.estimator.inputs.pandas_input_fn(\r\n",
        "    test_df, test_df[\"polarity\"], shuffle=False)"
      ],
      "execution_count": 3,
      "outputs": []
    },
    {
      "cell_type": "code",
      "metadata": {
        "id": "1izG1iGk7K1o"
      },
      "source": [
        "embedded_text_feature_column = hub.text_embedding_column(\r\n",
        "    key=\"sentence\", \r\n",
        "    module_spec=\"https://tfhub.dev/google/nnlm-en-dim128/1\")"
      ],
      "execution_count": 4,
      "outputs": []
    },
    {
      "cell_type": "code",
      "metadata": {
        "id": "pEwrlVbR7n-d"
      },
      "source": [
        "estimator = tf.compat.v1.estimator.DNNClassifier(\r\n",
        "    hidden_units=[500, 100],\r\n",
        "    feature_columns=[embedded_text_feature_column],\r\n",
        "    n_classes=2,\r\n",
        "    optimizer=tf.compat.v1.train.AdagradOptimizer(learning_rate=0.003))"
      ],
      "execution_count": 5,
      "outputs": []
    },
    {
      "cell_type": "code",
      "metadata": {
        "id": "jIEhMStM7qf_"
      },
      "source": [
        "estimator.train(input_fn=train_input_fn, steps=1000);"
      ],
      "execution_count": 6,
      "outputs": []
    },
    {
      "cell_type": "code",
      "metadata": {
        "colab": {
          "base_uri": "https://localhost:8080/"
        },
        "id": "E_SRt0h276XS",
        "outputId": "95fe0f44-56b9-4a8f-e284-a7b927d7ea89"
      },
      "source": [
        "train_eval_result = estimator.evaluate(input_fn=predict_train_input_fn)\r\n",
        "test_eval_result = estimator.evaluate(input_fn=predict_test_input_fn)\r\n",
        "\r\n",
        "print(\"Training set accuracy: {accuracy}\".format(**train_eval_result))\r\n",
        "print(\"Test set accuracy: {accuracy}\".format(**test_eval_result))"
      ],
      "execution_count": 7,
      "outputs": [
        {
          "output_type": "stream",
          "text": [
            "Training set accuracy: 0.8012400269508362\n",
            "Test set accuracy: 0.7924799919128418\n"
          ],
          "name": "stdout"
        }
      ]
    },
    {
      "cell_type": "code",
      "metadata": {
        "colab": {
          "base_uri": "https://localhost:8080/",
          "height": 279
        },
        "id": "r4lmVfG579CY",
        "outputId": "fc1c37fe-79f0-467f-8ca8-bd0477db4932"
      },
      "source": [
        "def get_predictions(estimator, input_fn):\r\n",
        "  return [x[\"class_ids\"][0] for x in estimator.predict(input_fn=input_fn)]\r\n",
        "\r\n",
        "LABELS = [\r\n",
        "    \"negative\", \"positive\"\r\n",
        "]\r\n",
        "\r\n",
        "# Create a confusion matrix on training data.\r\n",
        "with tf.Graph().as_default():\r\n",
        "  cm = tf.math.confusion_matrix(train_df[\"polarity\"], \r\n",
        "                           get_predictions(estimator, predict_train_input_fn))\r\n",
        "  with tf.compat.v1.Session() as session:\r\n",
        "    cm_out = session.run(cm)\r\n",
        "\r\n",
        "# Normalize the confusion matrix so that each row sums to 1.\r\n",
        "cm_out = cm_out.astype(float) / cm_out.sum(axis=1)[:, np.newaxis]\r\n",
        "\r\n",
        "sns.heatmap(cm_out, annot=True, xticklabels=LABELS, yticklabels=LABELS);\r\n",
        "plt.xlabel(\"Predicted\");\r\n",
        "plt.ylabel(\"True\");"
      ],
      "execution_count": 8,
      "outputs": [
        {
          "output_type": "display_data",
          "data": {
            "image/png": "[encoded data removed]",
            "text/plain": [
              "<Figure size 432x288 with 2 Axes>"
            ]
          },
          "metadata": {
            "tags": [],
            "needs_background": "light"
          }
        }
      ]
    },
    {
      "cell_type": "code",
      "metadata": {
        "id": "kWx-FU6D7_c4"
      },
      "source": [
        "def train_and_evaluate_with_module(hub_module, train_module=False):\r\n",
        "  embedded_text_feature_column = hub.text_embedding_column(\r\n",
        "      key=\"sentence\", module_spec=hub_module, trainable=train_module)\r\n",
        "\r\n",
        "  estimator = tf.compat.v1.estimator.DNNClassifier(\r\n",
        "      hidden_units=[500, 100],\r\n",
        "      feature_columns=[embedded_text_feature_column],\r\n",
        "      n_classes=2,\r\n",
        "      optimizer=tf.compat.v1.train.AdagradOptimizer(learning_rate=0.003))\r\n",
        "\r\n",
        "  estimator.train(input_fn=train_input_fn, steps=1000)\r\n",
        "\r\n",
        "  train_eval_result = estimator.evaluate(input_fn=predict_train_input_fn)\r\n",
        "  test_eval_result = estimator.evaluate(input_fn=predict_test_input_fn)\r\n",
        "\r\n",
        "  training_set_accuracy = train_eval_result[\"accuracy\"]\r\n",
        "  test_set_accuracy = test_eval_result[\"accuracy\"]\r\n",
        "\r\n",
        "  return {\r\n",
        "      \"Training accuracy\": training_set_accuracy,\r\n",
        "      \"Test accuracy\": test_set_accuracy\r\n",
        "  }\r\n",
        "\r\n",
        "\r\n",
        "results = {}\r\n",
        "results[\"nnlm-en-dim128\"] = train_and_evaluate_with_module(\r\n",
        "    \"https://tfhub.dev/google/nnlm-en-dim128/1\")\r\n",
        "results[\"nnlm-en-dim128-with-module-training\"] = train_and_evaluate_with_module(\r\n",
        "    \"https://tfhub.dev/google/nnlm-en-dim128/1\", True)\r\n",
        "results[\"random-nnlm-en-dim128\"] = train_and_evaluate_with_module(\r\n",
        "    \"https://tfhub.dev/google/random-nnlm-en-dim128/1\")\r\n",
        "results[\"random-nnlm-en-dim128-with-module-training\"] = train_and_evaluate_with_module(\r\n",
        "    \"https://tfhub.dev/google/random-nnlm-en-dim128/1\", True)"
      ],
      "execution_count": 9,
      "outputs": []
    },
    {
      "cell_type": "code",
      "metadata": {
        "colab": {
          "base_uri": "https://localhost:8080/",
          "height": 166
        },
        "id": "mDIpXYZk-xuY",
        "outputId": "63e5a343-a10d-4d02-9d5f-d26798df50f2"
      },
      "source": [
        "pd.DataFrame.from_dict(results, orient=\"index\")"
      ],
      "execution_count": 10,
      "outputs": [
        {
          "output_type": "execute_result",
          "data": {
            "text/html": [
              "<div>\n",
              "<style scoped>\n",
              "    .dataframe tbody tr th:only-of-type {\n",
              "        vertical-align: middle;\n",
              "    }\n",
              "\n",
              "    .dataframe tbody tr th {\n",
              "        vertical-align: top;\n",
              "    }\n",
              "\n",
              "    .dataframe thead th {\n",
              "        text-align: right;\n",
              "    }\n",
              "</style>\n",
              "<table border=\"1\" class=\"dataframe\">\n",
              "  <thead>\n",
              "    <tr style=\"text-align: right;\">\n",
              "      <th></th>\n",
              "      <th>Training accuracy</th>\n",
              "      <th>Test accuracy</th>\n",
              "    </tr>\n",
              "  </thead>\n",
              "  <tbody>\n",
              "    <tr>\n",
              "      <th>nnlm-en-dim128</th>\n",
              "      <td>0.80004</td>\n",
              "      <td>0.79256</td>\n",
              "    </tr>\n",
              "    <tr>\n",
              "      <th>nnlm-en-dim128-with-module-training</th>\n",
              "      <td>0.94912</td>\n",
              "      <td>0.87092</td>\n",
              "    </tr>\n",
              "    <tr>\n",
              "      <th>random-nnlm-en-dim128</th>\n",
              "      <td>0.71564</td>\n",
              "      <td>0.67516</td>\n",
              "    </tr>\n",
              "    <tr>\n",
              "      <th>random-nnlm-en-dim128-with-module-training</th>\n",
              "      <td>0.75872</td>\n",
              "      <td>0.72100</td>\n",
              "    </tr>\n",
              "  </tbody>\n",
              "</table>\n",
              "</div>"
            ],
            "text/plain": [
              "                                            Training accuracy  Test accuracy\n",
              "nnlm-en-dim128                                        0.80004        0.79256\n",
              "nnlm-en-dim128-with-module-training                   0.94912        0.87092\n",
              "random-nnlm-en-dim128                                 0.71564        0.67516\n",
              "random-nnlm-en-dim128-with-module-training            0.75872        0.72100"
            ]
          },
          "metadata": {
            "tags": []
          },
          "execution_count": 10
        }
      ]
    },
    {
      "cell_type": "code",
      "metadata": {
        "colab": {
          "base_uri": "https://localhost:8080/"
        },
        "id": "YZo7PVsQ-0JY",
        "outputId": "62076428-bf04-448b-f601-8cdccd2f595f"
      },
      "source": [
        "estimator.evaluate(input_fn=predict_test_input_fn)[\"accuracy_baseline\"]"
      ],
      "execution_count": 11,
      "outputs": [
        {
          "output_type": "execute_result",
          "data": {
            "text/plain": [
              "0.5"
            ]
          },
          "metadata": {
            "tags": []
          },
          "execution_count": 11
        }
      ]
    }
  ]
}