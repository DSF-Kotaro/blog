{
  "nbformat": 4,
  "nbformat_minor": 0,
  "metadata": {
    "colab": {
      "name": "図解速習DeepLearning_015.ipynb",
      "provenance": [],
      "authorship_tag": "ABX9TyMgIKsjJaVxQWupAYYsvHa0",
      "include_colab_link": true
    },
    "kernelspec": {
      "name": "python3",
      "display_name": "Python 3"
    }
  },
  "cells": [
    {
      "cell_type": "markdown",
      "metadata": {
        "id": "view-in-github",
        "colab_type": "text"
      },
      "source": [
        "<a href=\"https://colab.research.google.com/github/DSF-Kotaro/blog/blob/main/%E5%9B%B3%E8%A7%A3%E9%80%9F%E7%BF%92DeepLearning_015.ipynb\" target=\"_parent\"><img src=\"https://colab.research.google.com/assets/colab-badge.svg\" alt=\"Open In Colab\"/></a>"
      ]
    },
    {
      "cell_type": "code",
      "metadata": {
        "id": "4CAy0ZSVkKOZ"
      },
      "source": [
        "from __future__ import absolute_import, print_function, division\r\n",
        "from google.colab import files\r\n",
        "from collections import Counter, defaultdict\r\n",
        "from copy import deepcopy\r\n",
        "from IPython.display import clear_output\r\n",
        "from random import randint\r\n",
        "\r\n",
        "import json\r\n",
        "import matplotlib.pyplot as plt\r\n",
        "import numpy as np\r\n",
        "import tensorflow as tf\r\n",
        "\r\n",
        "CHECKPOINT_DIR = './checkpoints/'  #Checkpoints are temporarily kept here.\r\n",
        "TEXT_ENCODING = 'utf-8'"
      ],
      "execution_count": 6,
      "outputs": []
    },
    {
      "cell_type": "code",
      "metadata": {
        "colab": {
          "base_uri": "https://localhost:8080/"
        },
        "id": "YsE-mI18kXX2",
        "outputId": "9b851d00-9dca-459e-b10f-661569d7eed1"
      },
      "source": [
        "shakespeare_url = \"https://ocw.mit.edu/ans7870/6/6.006/s08/lecturenotes/files/t8.shakespeare.txt\"\r\n",
        "\r\n",
        "import urllib\r\n",
        "file_contents = urllib.request.urlopen(shakespeare_url).read()\r\n",
        "file_name = \"shakespeare\"\r\n",
        "file_contents = file_contents[10501:]  # Skip headers and start at content\r\n",
        "print(\"An excerpt: \\n\", file_contents[:664])"
      ],
      "execution_count": 9,
      "outputs": [
        {
          "output_type": "stream",
          "text": [
            "An excerpt: \n",
            " b\"                     1\\n  From fairest creatures we desire increase,\\n  That thereby beauty's rose might never die,\\n  But as the riper should by time decease,\\n  His tender heir might bear his memory:\\n  But thou contracted to thine own bright eyes,\\n  Feed'st thy light's flame with self-substantial fuel,\\n  Making a famine where abundance lies,\\n  Thy self thy foe, to thy sweet self too cruel:\\n  Thou that art now the world's fresh ornament,\\n  And only herald to the gaudy spring,\\n  Within thine own bud buriest thy content,\\n  And tender churl mak'st waste in niggarding:\\n    Pity the world, or else this glutton be,\\n    To eat the world's due, by the grave and thee.\"\n"
          ],
          "name": "stdout"
        }
      ]
    },
    {
      "cell_type": "code",
      "metadata": {
        "id": "PZrLhN0dkkXN"
      },
      "source": [
        ""
      ],
      "execution_count": null,
      "outputs": []
    }
  ]
}