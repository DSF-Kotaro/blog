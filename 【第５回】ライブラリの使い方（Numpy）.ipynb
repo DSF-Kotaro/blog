{
  "nbformat": 4,
  "nbformat_minor": 0,
  "metadata": {
    "colab": {
      "name": "【第５回】ライブラリの使い方（Numpy）.ipynb",
      "provenance": [],
      "collapsed_sections": [],
      "authorship_tag": "ABX9TyPD10WdnOp/oboQJL2FUOQB",
      "include_colab_link": true
    },
    "kernelspec": {
      "name": "python3",
      "display_name": "Python 3"
    },
    "language_info": {
      "name": "python"
    }
  },
  "cells": [
    {
      "cell_type": "markdown",
      "metadata": {
        "id": "view-in-github",
        "colab_type": "text"
      },
      "source": [
        "<a href=\"https://colab.research.google.com/github/DSF-Kotaro/blog/blob/main/%E3%80%90%E7%AC%AC%EF%BC%95%E5%9B%9E%E3%80%91%E3%83%A9%E3%82%A4%E3%83%96%E3%83%A9%E3%83%AA%E3%81%AE%E4%BD%BF%E3%81%84%E6%96%B9%EF%BC%88Numpy%EF%BC%89.ipynb\" target=\"_parent\"><img src=\"https://colab.research.google.com/assets/colab-badge.svg\" alt=\"Open In Colab\"/></a>"
      ]
    },
    {
      "cell_type": "markdown",
      "metadata": {
        "id": "KU53vS9osb9n"
      },
      "source": [
        "#Numpyのインポート（Import numpy）"
      ]
    },
    {
      "cell_type": "code",
      "metadata": {
        "id": "dUHqLrH9rkDB"
      },
      "source": [
        "import numpy as np"
      ],
      "execution_count": 1,
      "outputs": []
    },
    {
      "cell_type": "markdown",
      "metadata": {
        "id": "_Bv3l9ajt1Gk"
      },
      "source": [
        "##配列操作（Array manipulation）"
      ]
    },
    {
      "cell_type": "markdown",
      "metadata": {
        "id": "C9NGMrvLt-hk"
      },
      "source": [
        "###配列（Array）"
      ]
    },
    {
      "cell_type": "code",
      "metadata": {
        "colab": {
          "base_uri": "https://localhost:8080/"
        },
        "id": "vgshpjRCsjBZ",
        "outputId": "59161175-62f7-4df7-c9f0-b5d4b6f940a5"
      },
      "source": [
        "data = np.array([5,2,6,4,10,0,7,8,1,5])\n",
        "data"
      ],
      "execution_count": 3,
      "outputs": [
        {
          "output_type": "execute_result",
          "data": {
            "text/plain": [
              "array([ 5,  2,  6,  4, 10,  0,  7,  8,  1,  5])"
            ]
          },
          "metadata": {
            "tags": []
          },
          "execution_count": 3
        }
      ]
    },
    {
      "cell_type": "markdown",
      "metadata": {
        "id": "wvtULJG-uTvf"
      },
      "source": [
        "###データの型（Types of datas）"
      ]
    },
    {
      "cell_type": "code",
      "metadata": {
        "colab": {
          "base_uri": "https://localhost:8080/"
        },
        "id": "9ffNVUc3uKwj",
        "outputId": "a1858dfb-f661-42ea-bf7a-fbb67ee29d5c"
      },
      "source": [
        "data.dtype"
      ],
      "execution_count": 4,
      "outputs": [
        {
          "output_type": "execute_result",
          "data": {
            "text/plain": [
              "dtype('int64')"
            ]
          },
          "metadata": {
            "tags": []
          },
          "execution_count": 4
        }
      ]
    },
    {
      "cell_type": "markdown",
      "metadata": {
        "id": "HSBbCz38uh3l"
      },
      "source": [
        "###次元数と要素数（Number of dimensions and number of elements）"
      ]
    },
    {
      "cell_type": "code",
      "metadata": {
        "colab": {
          "base_uri": "https://localhost:8080/"
        },
        "id": "4uosK8JKubjS",
        "outputId": "05e52259-4702-4f41-bf97-9738059988dd"
      },
      "source": [
        "print('Number of dimensions:',data.ndim)\n",
        "print('Number of elements:',data.size)"
      ],
      "execution_count": 5,
      "outputs": [
        {
          "output_type": "stream",
          "text": [
            "Number of dimensions: 1\n",
            "Number of elements: 10\n"
          ],
          "name": "stdout"
        }
      ]
    },
    {
      "cell_type": "markdown",
      "metadata": {
        "id": "GiM8Ub2YvCzV"
      },
      "source": [
        "###全ての要素に対する計算（Calculation for all elements）"
      ]
    },
    {
      "cell_type": "code",
      "metadata": {
        "colab": {
          "base_uri": "https://localhost:8080/"
        },
        "id": "xDs1VktWu4Hw",
        "outputId": "5640be22-8738-4957-cf27-a39693fdb8e5"
      },
      "source": [
        "data"
      ],
      "execution_count": 6,
      "outputs": [
        {
          "output_type": "execute_result",
          "data": {
            "text/plain": [
              "array([ 5,  2,  6,  4, 10,  0,  7,  8,  1,  5])"
            ]
          },
          "metadata": {
            "tags": []
          },
          "execution_count": 6
        }
      ]
    },
    {
      "cell_type": "code",
      "metadata": {
        "colab": {
          "base_uri": "https://localhost:8080/"
        },
        "id": "yBTKNLAdvMJq",
        "outputId": "8ae85a1f-5107-43ae-dc1b-d0e55bde3acc"
      },
      "source": [
        "data * 2"
      ],
      "execution_count": 7,
      "outputs": [
        {
          "output_type": "execute_result",
          "data": {
            "text/plain": [
              "array([10,  4, 12,  8, 20,  0, 14, 16,  2, 10])"
            ]
          },
          "metadata": {
            "tags": []
          },
          "execution_count": 7
        }
      ]
    },
    {
      "cell_type": "code",
      "metadata": {
        "colab": {
          "base_uri": "https://localhost:8080/"
        },
        "id": "rihjgvERvNUh",
        "outputId": "bda4addc-8968-425d-cc45-ba5d6b5519d3"
      },
      "source": [
        "data - 2"
      ],
      "execution_count": 8,
      "outputs": [
        {
          "output_type": "execute_result",
          "data": {
            "text/plain": [
              "array([ 3,  0,  4,  2,  8, -2,  5,  6, -1,  3])"
            ]
          },
          "metadata": {
            "tags": []
          },
          "execution_count": 8
        }
      ]
    },
    {
      "cell_type": "code",
      "metadata": {
        "colab": {
          "base_uri": "https://localhost:8080/"
        },
        "id": "BbMhFHsEvP8U",
        "outputId": "986a1512-c65c-48b9-8dcd-03e15a9015ec"
      },
      "source": [
        "data / 2"
      ],
      "execution_count": 9,
      "outputs": [
        {
          "output_type": "execute_result",
          "data": {
            "text/plain": [
              "array([2.5, 1. , 3. , 2. , 5. , 0. , 3.5, 4. , 0.5, 2.5])"
            ]
          },
          "metadata": {
            "tags": []
          },
          "execution_count": 9
        }
      ]
    },
    {
      "cell_type": "code",
      "metadata": {
        "colab": {
          "base_uri": "https://localhost:8080/"
        },
        "id": "q0MZqn-TvSSZ",
        "outputId": "5c9c5a6e-f423-4eb9-be6f-38af6af7e968"
      },
      "source": [
        "data=data / 2\n",
        "data.dtype"
      ],
      "execution_count": 12,
      "outputs": [
        {
          "output_type": "execute_result",
          "data": {
            "text/plain": [
              "dtype('float64')"
            ]
          },
          "metadata": {
            "tags": []
          },
          "execution_count": 12
        }
      ]
    },
    {
      "cell_type": "markdown",
      "metadata": {
        "id": "VSEMJ83FvjKY"
      },
      "source": [
        "###並べ替え（Sort）"
      ]
    },
    {
      "cell_type": "code",
      "metadata": {
        "colab": {
          "base_uri": "https://localhost:8080/"
        },
        "id": "mzqh7DuqvULJ",
        "outputId": "8291d3fb-f3a5-4c40-fe79-b4a8dfbd9884"
      },
      "source": [
        "data = np.array([5,2,6,4,10,0,7,8,1,5])\n",
        "data"
      ],
      "execution_count": 14,
      "outputs": [
        {
          "output_type": "execute_result",
          "data": {
            "text/plain": [
              "array([ 5,  2,  6,  4, 10,  0,  7,  8,  1,  5])"
            ]
          },
          "metadata": {
            "tags": []
          },
          "execution_count": 14
        }
      ]
    },
    {
      "cell_type": "code",
      "metadata": {
        "colab": {
          "base_uri": "https://localhost:8080/"
        },
        "id": "j0l0UazcvqHO",
        "outputId": "8943e707-5b7e-4d1f-8991-e970d0d75147"
      },
      "source": [
        "data.sort()\n",
        "data"
      ],
      "execution_count": 16,
      "outputs": [
        {
          "output_type": "execute_result",
          "data": {
            "text/plain": [
              "array([ 0,  1,  2,  4,  5,  5,  6,  7,  8, 10])"
            ]
          },
          "metadata": {
            "tags": []
          },
          "execution_count": 16
        }
      ]
    },
    {
      "cell_type": "code",
      "metadata": {
        "colab": {
          "base_uri": "https://localhost:8080/"
        },
        "id": "I60hpM5ivwUQ",
        "outputId": "75ba149f-c4dd-45de-9b19-6e9d3ddd0e33"
      },
      "source": [
        "data[::-1].sort()\n",
        "data"
      ],
      "execution_count": 22,
      "outputs": [
        {
          "output_type": "execute_result",
          "data": {
            "text/plain": [
              "array([10,  8,  7,  6,  5,  5,  4,  2,  1,  0])"
            ]
          },
          "metadata": {
            "tags": []
          },
          "execution_count": 22
        }
      ]
    },
    {
      "cell_type": "markdown",
      "metadata": {
        "id": "pC5XcbDswGr1"
      },
      "source": [
        "###最小・最大・合計・積上の計算（Minimum / maximum / total / product calculation）"
      ]
    },
    {
      "cell_type": "code",
      "metadata": {
        "colab": {
          "base_uri": "https://localhost:8080/"
        },
        "id": "WlM-hbFrv7gG",
        "outputId": "ffedd7e0-1853-43c8-90f1-b2962eaaa4e9"
      },
      "source": [
        "data.min()"
      ],
      "execution_count": 23,
      "outputs": [
        {
          "output_type": "execute_result",
          "data": {
            "text/plain": [
              "0"
            ]
          },
          "metadata": {
            "tags": []
          },
          "execution_count": 23
        }
      ]
    },
    {
      "cell_type": "code",
      "metadata": {
        "colab": {
          "base_uri": "https://localhost:8080/"
        },
        "id": "FMhScOlgwVPP",
        "outputId": "e8feb386-4838-4a87-95b7-ad458ee02b83"
      },
      "source": [
        "data.max()"
      ],
      "execution_count": 24,
      "outputs": [
        {
          "output_type": "execute_result",
          "data": {
            "text/plain": [
              "10"
            ]
          },
          "metadata": {
            "tags": []
          },
          "execution_count": 24
        }
      ]
    },
    {
      "cell_type": "code",
      "metadata": {
        "colab": {
          "base_uri": "https://localhost:8080/"
        },
        "id": "ViNX8lpqwXUN",
        "outputId": "5229d9de-ff39-4861-d03e-bd06253ebdb8"
      },
      "source": [
        "data.sum()"
      ],
      "execution_count": 25,
      "outputs": [
        {
          "output_type": "execute_result",
          "data": {
            "text/plain": [
              "48"
            ]
          },
          "metadata": {
            "tags": []
          },
          "execution_count": 25
        }
      ]
    },
    {
      "cell_type": "code",
      "metadata": {
        "colab": {
          "base_uri": "https://localhost:8080/"
        },
        "id": "17Z0xnqAwY1B",
        "outputId": "2cd53a4f-06d8-4113-c259-8a630db05ead"
      },
      "source": [
        "data.cumsum()"
      ],
      "execution_count": 26,
      "outputs": [
        {
          "output_type": "execute_result",
          "data": {
            "text/plain": [
              "array([10, 18, 25, 31, 36, 41, 45, 47, 48, 48])"
            ]
          },
          "metadata": {
            "tags": []
          },
          "execution_count": 26
        }
      ]
    },
    {
      "cell_type": "code",
      "metadata": {
        "colab": {
          "base_uri": "https://localhost:8080/"
        },
        "id": "VbZTnD7H7iYK",
        "outputId": "1e1406e1-915e-4668-85d9-7be0b67e7bc7"
      },
      "source": [
        "data.cumsum()/data.sum()"
      ],
      "execution_count": 27,
      "outputs": [
        {
          "output_type": "execute_result",
          "data": {
            "text/plain": [
              "array([0.20833333, 0.375     , 0.52083333, 0.64583333, 0.75      ,\n",
              "       0.85416667, 0.9375    , 0.97916667, 1.        , 1.        ])"
            ]
          },
          "metadata": {
            "tags": []
          },
          "execution_count": 27
        }
      ]
    },
    {
      "cell_type": "markdown",
      "metadata": {
        "id": "A4qtxqcg7wPb"
      },
      "source": [
        "###乱数（random number）"
      ]
    },
    {
      "cell_type": "code",
      "metadata": {
        "id": "orsEEUz77tCJ"
      },
      "source": [
        "import numpy.random as random"
      ],
      "execution_count": 28,
      "outputs": []
    },
    {
      "cell_type": "code",
      "metadata": {
        "id": "61xnEo_R75nc"
      },
      "source": [
        "random.seed(0)"
      ],
      "execution_count": 29,
      "outputs": []
    },
    {
      "cell_type": "code",
      "metadata": {
        "colab": {
          "base_uri": "https://localhost:8080/"
        },
        "id": "QwXnxQZV77mQ",
        "outputId": "a4b23505-f316-4f55-896f-c774b6267669"
      },
      "source": [
        "rnd_data = random.rand(10)\n",
        "rnd_data"
      ],
      "execution_count": 31,
      "outputs": [
        {
          "output_type": "execute_result",
          "data": {
            "text/plain": [
              "array([0.79172504, 0.52889492, 0.56804456, 0.92559664, 0.07103606,\n",
              "       0.0871293 , 0.0202184 , 0.83261985, 0.77815675, 0.87001215])"
            ]
          },
          "metadata": {
            "tags": []
          },
          "execution_count": 31
        }
      ]
    },
    {
      "cell_type": "markdown",
      "metadata": {
        "id": "7VgF4mN58QaC"
      },
      "source": [
        "###データのランダムな抽出（Random extraction of data）"
      ]
    },
    {
      "cell_type": "code",
      "metadata": {
        "colab": {
          "base_uri": "https://localhost:8080/"
        },
        "id": "fTOfnvNh8Fpt",
        "outputId": "1ecf78cc-38b1-4666-932b-9788690e3bdc"
      },
      "source": [
        "data = np.array([9,2,3,4,10,6,7,8,1,5])\n",
        "\n",
        "random.choice(data,10)"
      ],
      "execution_count": 32,
      "outputs": [
        {
          "output_type": "execute_result",
          "data": {
            "text/plain": [
              "array([3, 4, 1, 2, 4, 4, 4, 8, 9, 2])"
            ]
          },
          "metadata": {
            "tags": []
          },
          "execution_count": 32
        }
      ]
    },
    {
      "cell_type": "code",
      "metadata": {
        "colab": {
          "base_uri": "https://localhost:8080/"
        },
        "id": "_5ADRDr_8gER",
        "outputId": "98fe03a3-02f8-4dbe-8e40-7b9048ee31ea"
      },
      "source": [
        "data = np.array([9,2,3,4,10,6,7,8,1,5])\n",
        "\n",
        "random.choice(data,10,replace = False)"
      ],
      "execution_count": 33,
      "outputs": [
        {
          "output_type": "execute_result",
          "data": {
            "text/plain": [
              "array([ 1,  2,  6,  7,  4, 10,  3,  8,  9,  5])"
            ]
          },
          "metadata": {
            "tags": []
          },
          "execution_count": 33
        }
      ]
    },
    {
      "cell_type": "markdown",
      "metadata": {
        "id": "A_vE2_778r7R"
      },
      "source": [
        "##行列（queue）"
      ]
    },
    {
      "cell_type": "code",
      "metadata": {
        "colab": {
          "base_uri": "https://localhost:8080/"
        },
        "id": "HH_8pEzq8oXi",
        "outputId": "a48a85c5-2a03-4561-9c5c-ded3f04eb118"
      },
      "source": [
        "np.arange(9)"
      ],
      "execution_count": 35,
      "outputs": [
        {
          "output_type": "execute_result",
          "data": {
            "text/plain": [
              "array([0, 1, 2, 3, 4, 5, 6, 7, 8])"
            ]
          },
          "metadata": {
            "tags": []
          },
          "execution_count": 35
        }
      ]
    },
    {
      "cell_type": "code",
      "metadata": {
        "colab": {
          "base_uri": "https://localhost:8080/"
        },
        "id": "lfjWeN3880xA",
        "outputId": "e96c4bda-d596-49a0-bcf2-732753e07409"
      },
      "source": [
        "array1 = np.arange(9).reshape(3,3)\n",
        "array1"
      ],
      "execution_count": 36,
      "outputs": [
        {
          "output_type": "execute_result",
          "data": {
            "text/plain": [
              "array([[0, 1, 2],\n",
              "       [3, 4, 5],\n",
              "       [6, 7, 8]])"
            ]
          },
          "metadata": {
            "tags": []
          },
          "execution_count": 36
        }
      ]
    },
    {
      "cell_type": "code",
      "metadata": {
        "colab": {
          "base_uri": "https://localhost:8080/"
        },
        "id": "q42AxYcP8_HH",
        "outputId": "595872ab-b844-42c7-e3c9-ca87bde40ee4"
      },
      "source": [
        "array1[0,:]"
      ],
      "execution_count": 37,
      "outputs": [
        {
          "output_type": "execute_result",
          "data": {
            "text/plain": [
              "array([0, 1, 2])"
            ]
          },
          "metadata": {
            "tags": []
          },
          "execution_count": 37
        }
      ]
    },
    {
      "cell_type": "code",
      "metadata": {
        "colab": {
          "base_uri": "https://localhost:8080/"
        },
        "id": "3hGgqgTO9E2O",
        "outputId": "f4ba4d6d-f63d-4158-cfa1-c895a4b3ec80"
      },
      "source": [
        "array1[1,:]"
      ],
      "execution_count": 38,
      "outputs": [
        {
          "output_type": "execute_result",
          "data": {
            "text/plain": [
              "array([3, 4, 5])"
            ]
          },
          "metadata": {
            "tags": []
          },
          "execution_count": 38
        }
      ]
    },
    {
      "cell_type": "code",
      "metadata": {
        "colab": {
          "base_uri": "https://localhost:8080/"
        },
        "id": "JYjJDV7G9IT5",
        "outputId": "01996c1f-4093-45ca-8c0f-b4274315be0d"
      },
      "source": [
        "array1[:,2]"
      ],
      "execution_count": 39,
      "outputs": [
        {
          "output_type": "execute_result",
          "data": {
            "text/plain": [
              "array([2, 5, 8])"
            ]
          },
          "metadata": {
            "tags": []
          },
          "execution_count": 39
        }
      ]
    },
    {
      "cell_type": "markdown",
      "metadata": {
        "id": "CQFM_VEz9OFk"
      },
      "source": [
        "##行列の演算（Matrix operation）"
      ]
    },
    {
      "cell_type": "code",
      "metadata": {
        "colab": {
          "base_uri": "https://localhost:8080/"
        },
        "id": "wVrnulJW9Ll7",
        "outputId": "eab06cb6-f5d5-47e5-9970-1603ebf95260"
      },
      "source": [
        "array2 = np.arange(9,18).reshape(3,3)\n",
        "array2"
      ],
      "execution_count": 40,
      "outputs": [
        {
          "output_type": "execute_result",
          "data": {
            "text/plain": [
              "array([[ 9, 10, 11],\n",
              "       [12, 13, 14],\n",
              "       [15, 16, 17]])"
            ]
          },
          "metadata": {
            "tags": []
          },
          "execution_count": 40
        }
      ]
    },
    {
      "cell_type": "code",
      "metadata": {
        "colab": {
          "base_uri": "https://localhost:8080/"
        },
        "id": "osNSTWKq9c0K",
        "outputId": "9a1bff34-a01b-4a38-df4a-5023d97fc9f4"
      },
      "source": [
        "np.dot(array1,array2)"
      ],
      "execution_count": 41,
      "outputs": [
        {
          "output_type": "execute_result",
          "data": {
            "text/plain": [
              "array([[ 42,  45,  48],\n",
              "       [150, 162, 174],\n",
              "       [258, 279, 300]])"
            ]
          },
          "metadata": {
            "tags": []
          },
          "execution_count": 41
        }
      ]
    },
    {
      "cell_type": "code",
      "metadata": {
        "colab": {
          "base_uri": "https://localhost:8080/"
        },
        "id": "6ftQK4uP9h25",
        "outputId": "0df4e69d-90a4-4c2a-9fb8-59b4b1688ad9"
      },
      "source": [
        "array1 * array2"
      ],
      "execution_count": 42,
      "outputs": [
        {
          "output_type": "execute_result",
          "data": {
            "text/plain": [
              "array([[  0,  10,  22],\n",
              "       [ 36,  52,  70],\n",
              "       [ 90, 112, 136]])"
            ]
          },
          "metadata": {
            "tags": []
          },
          "execution_count": 42
        }
      ]
    },
    {
      "cell_type": "markdown",
      "metadata": {
        "id": "iTDs7r-d9oHe"
      },
      "source": [
        "##要素が0や１の行列を作る（Create a matrix with 0 or 1 elements）"
      ]
    },
    {
      "cell_type": "code",
      "metadata": {
        "colab": {
          "base_uri": "https://localhost:8080/"
        },
        "id": "retF3rQa9lnU",
        "outputId": "56bc1f4b-df2a-49e7-a12c-425e4eebb88e"
      },
      "source": [
        "np.zeros((2,3),dtype = np.int64)"
      ],
      "execution_count": 43,
      "outputs": [
        {
          "output_type": "execute_result",
          "data": {
            "text/plain": [
              "array([[0, 0, 0],\n",
              "       [0, 0, 0]])"
            ]
          },
          "metadata": {
            "tags": []
          },
          "execution_count": 43
        }
      ]
    },
    {
      "cell_type": "code",
      "metadata": {
        "colab": {
          "base_uri": "https://localhost:8080/"
        },
        "id": "D5Ec3naY-A1C",
        "outputId": "d59708ac-aef5-40cb-e953-f3f7a274ddd0"
      },
      "source": [
        "np.ones((2,3), dtype = np.float64)"
      ],
      "execution_count": 44,
      "outputs": [
        {
          "output_type": "execute_result",
          "data": {
            "text/plain": [
              "array([[1., 1., 1.],\n",
              "       [1., 1., 1.]])"
            ]
          },
          "metadata": {
            "tags": []
          },
          "execution_count": 44
        }
      ]
    },
    {
      "cell_type": "code",
      "metadata": {
        "id": "cbE1CLqX-Yy7"
      },
      "source": [
        ""
      ],
      "execution_count": null,
      "outputs": []
    }
  ]
}